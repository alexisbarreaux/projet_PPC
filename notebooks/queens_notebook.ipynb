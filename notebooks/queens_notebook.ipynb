{
 "cells": [
  {
   "cell_type": "code",
   "execution_count": 2,
   "metadata": {},
   "outputs": [
    {
     "name": "stdout",
     "output_type": "stream",
     "text": [
      "Variables:\n",
      "['1_col_queen', '2_col_queen', '3_col_queen', '4_col_queen']\n",
      "\n",
      "Domains:\n",
      "1_col_queen : [1, 2, 3, 4]\n",
      "2_col_queen : [1, 2, 3, 4]\n",
      "3_col_queen : [1, 2, 3, 4]\n",
      "4_col_queen : [1, 2, 3, 4]\n",
      "\n",
      "Constraints:\n",
      "('1_col_queen', '2_col_queen')  [(1, 3), (1, 4), (2, 4), (3, 1), (4, 1), (4, 2)].\n",
      "('2_col_queen', '1_col_queen')  [(1, 3), (1, 4), (2, 4), (3, 1), (4, 1), (4, 2)].\n",
      "('1_col_queen', '3_col_queen')  [(1, 2), (1, 4), (2, 1), (2, 3), (3, 2), (3, 4), (4, 1), (4, 3)].\n",
      "('3_col_queen', '1_col_queen')  [(1, 2), (1, 4), (2, 1), (2, 3), (3, 2), (3, 4), (4, 1), (4, 3)].\n",
      "('1_col_queen', '4_col_queen')  [(1, 2), (1, 3), (2, 1), (2, 3), (2, 4), (3, 1), (3, 2), (3, 4), (4, 2), (4, 3)].\n",
      "('4_col_queen', '1_col_queen')  [(1, 2), (1, 3), (2, 1), (2, 3), (2, 4), (3, 1), (3, 2), (3, 4), (4, 2), (4, 3)].\n",
      "('2_col_queen', '3_col_queen')  [(1, 3), (1, 4), (2, 4), (3, 1), (4, 1), (4, 2)].\n",
      "('3_col_queen', '2_col_queen')  [(1, 3), (1, 4), (2, 4), (3, 1), (4, 1), (4, 2)].\n",
      "('2_col_queen', '4_col_queen')  [(1, 2), (1, 4), (2, 1), (2, 3), (3, 2), (3, 4), (4, 1), (4, 3)].\n",
      "('4_col_queen', '2_col_queen')  [(1, 2), (1, 4), (2, 1), (2, 3), (3, 2), (3, 4), (4, 1), (4, 3)].\n",
      "('3_col_queen', '4_col_queen')  [(1, 3), (1, 4), (2, 4), (3, 1), (4, 1), (4, 2)].\n",
      "('4_col_queen', '3_col_queen')  [(1, 3), (1, 4), (2, 4), (3, 1), (4, 1), (4, 2)].\n",
      "\n",
      "Constrained by {0: {1, 2, 3}, 1: {0, 2, 3}, 2: {0, 1, 3}, 3: {0, 1, 2}}\n"
     ]
    }
   ],
   "source": [
    "from instances import n_queens_problem\n",
    "\n",
    "csp_queen = n_queens_problem(n=4)\n",
    "print(csp_queen)\n",
    "print(\"Constrained by\", csp_queen.variable_is_constrained_by)"
   ]
  },
  {
   "cell_type": "code",
   "execution_count": 5,
   "metadata": {},
   "outputs": [
    {
     "data": {
      "text/plain": [
       "(True,\n",
       " {'1_col_queen': 1,\n",
       "  '2_col_queen': 3,\n",
       "  '3_col_queen': 5,\n",
       "  '4_col_queen': 2,\n",
       "  '5_col_queen': 4,\n",
       "  '6_col_queen': 9,\n",
       "  '7_col_queen': 11,\n",
       "  '8_col_queen': 13,\n",
       "  '9_col_queen': 15,\n",
       "  '10_col_queen': 19,\n",
       "  '11_col_queen': 21,\n",
       "  '12_col_queen': 24,\n",
       "  '13_col_queen': 20,\n",
       "  '14_col_queen': 25,\n",
       "  '15_col_queen': 23,\n",
       "  '16_col_queen': 6,\n",
       "  '17_col_queen': 8,\n",
       "  '18_col_queen': 10,\n",
       "  '19_col_queen': 7,\n",
       "  '20_col_queen': 14,\n",
       "  '21_col_queen': 16,\n",
       "  '22_col_queen': 18,\n",
       "  '23_col_queen': 12,\n",
       "  '24_col_queen': 17,\n",
       "  '25_col_queen': 22})"
      ]
     },
     "execution_count": 5,
     "metadata": {},
     "output_type": "execute_result"
    }
   ],
   "source": [
    "from instances import n_queens_problem\n",
    "from backtrack import BacktrackClass\n",
    "\n",
    "csp_queen = n_queens_problem(n=25)\n",
    "backtrack_object = BacktrackClass()\n",
    "backtrack_object.run_backtrack(csp_instance=csp_queen)\n"
   ]
  }
 ],
 "metadata": {
  "kernelspec": {
   "display_name": "Python 3.10.2 ('projet_PPC': venv)",
   "language": "python",
   "name": "python3"
  },
  "language_info": {
   "codemirror_mode": {
    "name": "ipython",
    "version": 3
   },
   "file_extension": ".py",
   "mimetype": "text/x-python",
   "name": "python",
   "nbconvert_exporter": "python",
   "pygments_lexer": "ipython3",
   "version": "3.10.2"
  },
  "orig_nbformat": 4,
  "vscode": {
   "interpreter": {
    "hash": "c0021910f745d5c1d4816958c5dc5b7f4254623e1a2c0d2037241731637929d6"
   }
  }
 },
 "nbformat": 4,
 "nbformat_minor": 2
}

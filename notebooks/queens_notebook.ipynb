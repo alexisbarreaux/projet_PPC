{
 "cells": [
  {
   "cell_type": "code",
   "execution_count": 2,
   "metadata": {},
   "outputs": [
    {
     "name": "stdout",
     "output_type": "stream",
     "text": [
      "Variables:\n",
      "['1_col_queen', '2_col_queen', '3_col_queen', '4_col_queen']\n",
      "\n",
      "Domains:\n",
      "1_col_queen : [1, 2, 3, 4]\n",
      "2_col_queen : [1, 2, 3, 4]\n",
      "3_col_queen : [1, 2, 3, 4]\n",
      "4_col_queen : [1, 2, 3, 4]\n",
      "\n",
      "Constraints:\n",
      "('1_col_queen', '2_col_queen')  [(1, 3), (1, 4), (2, 4), (3, 1), (4, 1), (4, 2)].\n",
      "('2_col_queen', '1_col_queen')  [(1, 3), (1, 4), (2, 4), (3, 1), (4, 1), (4, 2)].\n",
      "('1_col_queen', '3_col_queen')  [(1, 2), (1, 4), (2, 1), (2, 3), (3, 2), (3, 4), (4, 1), (4, 3)].\n",
      "('3_col_queen', '1_col_queen')  [(1, 2), (1, 4), (2, 1), (2, 3), (3, 2), (3, 4), (4, 1), (4, 3)].\n",
      "('1_col_queen', '4_col_queen')  [(1, 2), (1, 3), (2, 1), (2, 3), (2, 4), (3, 1), (3, 2), (3, 4), (4, 2), (4, 3)].\n",
      "('4_col_queen', '1_col_queen')  [(1, 2), (1, 3), (2, 1), (2, 3), (2, 4), (3, 1), (3, 2), (3, 4), (4, 2), (4, 3)].\n",
      "('2_col_queen', '3_col_queen')  [(1, 3), (1, 4), (2, 4), (3, 1), (4, 1), (4, 2)].\n",
      "('3_col_queen', '2_col_queen')  [(1, 3), (1, 4), (2, 4), (3, 1), (4, 1), (4, 2)].\n",
      "('2_col_queen', '4_col_queen')  [(1, 2), (1, 4), (2, 1), (2, 3), (3, 2), (3, 4), (4, 1), (4, 3)].\n",
      "('4_col_queen', '2_col_queen')  [(1, 2), (1, 4), (2, 1), (2, 3), (3, 2), (3, 4), (4, 1), (4, 3)].\n",
      "('3_col_queen', '4_col_queen')  [(1, 3), (1, 4), (2, 4), (3, 1), (4, 1), (4, 2)].\n",
      "('4_col_queen', '3_col_queen')  [(1, 3), (1, 4), (2, 4), (3, 1), (4, 1), (4, 2)].\n",
      "\n",
      "Constrained by {0: {1, 2, 3}, 1: {0, 2, 3}, 2: {0, 1, 3}, 3: {0, 1, 2}}\n"
     ]
    }
   ],
   "source": [
    "from instances import n_queens_problem\n",
    "\n",
    "csp_queen = n_queens_problem(n=4)\n",
    "print(csp_queen)\n",
    "print(\"Constrained by\", csp_queen.variable_is_constrained_by)"
   ]
  },
  {
   "cell_type": "code",
   "execution_count": 1,
   "metadata": {},
   "outputs": [],
   "source": [
    "from instances import n_queens_problem\n",
    "from backtrack import BacktrackClass\n",
    "\n",
    "csp_queen = n_queens_problem(n=3)\n",
    "backtrack_object = BacktrackClass()\n",
    "result, state = backtrack_object.run_backtrack(csp_instance=csp_queen)\n",
    "assert(not result)\n"
   ]
  },
  {
   "cell_type": "code",
   "execution_count": 4,
   "metadata": {},
   "outputs": [],
   "source": [
    "from random import randint\n",
    "\n",
    "from instances import n_queens_problem\n",
    "from backtrack import BacktrackClass\n",
    "\n",
    "# Take a random value of size between 4 and 20\n",
    "n = randint(4,20)\n",
    "csp_queen = n_queens_problem(n=n)\n",
    "backtrack_object = BacktrackClass()\n",
    "result, state = backtrack_object.run_backtrack(csp_instance=csp_queen)\n",
    "assert(result)\n",
    "# With forward\n",
    "backtrack_object.use_forward_checking = True\n",
    "result, state = backtrack_object.run_backtrack(csp_instance=csp_queen)\n",
    "assert(result)"
   ]
  },
  {
   "cell_type": "code",
   "execution_count": 3,
   "metadata": {},
   "outputs": [
    {
     "name": "stdout",
     "output_type": "stream",
     "text": [
      "True {'1_col_queen': 1, '2_col_queen': 3, '3_col_queen': 5, '4_col_queen': 2, '5_col_queen': 4, '6_col_queen': 9, '7_col_queen': 11, '8_col_queen': 13, '9_col_queen': 15, '10_col_queen': 19, '11_col_queen': 21, '12_col_queen': 24, '13_col_queen': 20, '14_col_queen': 25, '15_col_queen': 23, '16_col_queen': 6, '17_col_queen': 8, '18_col_queen': 10, '19_col_queen': 7, '20_col_queen': 14, '21_col_queen': 16, '22_col_queen': 18, '23_col_queen': 12, '24_col_queen': 17, '25_col_queen': 22}\n"
     ]
    }
   ],
   "source": [
    "from instances import n_queens_problem\n",
    "from backtrack import BacktrackClass\n",
    "\n",
    "csp_queen = n_queens_problem(n=25)\n",
    "backtrack_object = BacktrackClass()\n",
    "result, state = backtrack_object.run_backtrack(csp_instance=csp_queen)\n",
    "print(result, state)\n",
    "assert(result)\n"
   ]
  },
  {
   "cell_type": "code",
   "execution_count": 3,
   "metadata": {},
   "outputs": [
    {
     "name": "stdout",
     "output_type": "stream",
     "text": [
      "Starting 3 queens\n",
      "{}\n",
      "Starting 6 queens\n",
      "Starting 9 queens\n",
      "Starting 12 queens\n",
      "Starting 15 queens\n",
      "Starting 18 queens\n",
      "Starting 21 queens\n",
      "Starting 24 queens\n",
      "    instance    nodes        time  result\n",
      "0   3 queens       19    0.000000   False\n",
      "1   6 queens      172    0.001993    True\n",
      "2   9 queens      334    0.009779    True\n",
      "3  12 queens     3067    0.106735    True\n",
      "4  15 queens    20281    0.349892    True\n",
      "5  18 queens   743230   13.701235    True\n",
      "6  21 queens   179593    3.390076    True\n",
      "7  24 queens  9878317  169.596425    True\n"
     ]
    }
   ],
   "source": [
    "from time import time\n",
    "\n",
    "import pandas as pd\n",
    "\n",
    "from instances import n_queens_problem\n",
    "from backtrack import BacktrackClass\n",
    "\n",
    "# Display setup\n",
    "columns = [\n",
    "    \"instance\",\n",
    "    \"nodes\",\n",
    "    \"time\",\n",
    "    \"result\",\n",
    "]\n",
    "display_dataframe = pd.DataFrame({column: [] for column in columns})\n",
    "\n",
    "max_size = 25\n",
    "backtrack_object = BacktrackClass()\n",
    "for n in range(3,max_size,3):\n",
    "    print(f\"Starting {n} queens\")\n",
    "    csp_queen = n_queens_problem(n=n)\n",
    "    start = time()\n",
    "    result, state = backtrack_object.run_backtrack(csp_instance=csp_queen)\n",
    "    if n == 3:\n",
    "        print(state)\n",
    "    # Adding to display\n",
    "    new_row = [\n",
    "        f\"{n} queens\",\n",
    "        backtrack_object.nodes,\n",
    "        time() - start,\n",
    "        result\n",
    "    ]\n",
    "    display_dataframe.loc[len(display_dataframe)] = new_row\n",
    "\n",
    "\n",
    "print(display_dataframe)\n",
    "display_dataframe.to_csv(\"queens_naive_1.csv\", sep=\";\")"
   ]
  },
  {
   "cell_type": "code",
   "execution_count": 1,
   "metadata": {},
   "outputs": [
    {
     "name": "stdout",
     "output_type": "stream",
     "text": [
      "Variables:\n",
      "['1_col_queen', '2_col_queen', '3_col_queen']\n",
      "\n",
      "Domains:\n",
      "1_col_queen : []\n",
      "2_col_queen : []\n",
      "3_col_queen : []\n",
      "\n",
      "Constraints:\n",
      "('1_col_queen', '2_col_queen')  [].\n",
      "('2_col_queen', '1_col_queen')  [].\n",
      "('1_col_queen', '3_col_queen')  [].\n",
      "('3_col_queen', '1_col_queen')  [].\n",
      "('2_col_queen', '3_col_queen')  [].\n",
      "('3_col_queen', '2_col_queen')  [].\n",
      "\n"
     ]
    }
   ],
   "source": [
    "from instances import n_queens_problem\n",
    "from backtrack import BacktrackClass, AC3_current_state\n",
    "\n",
    "csp_queen = n_queens_problem(n=3)\n",
    "AC3_current_state(csp_instance=csp_queen)\n",
    "print(csp_queen)\n",
    "# Should see empty domains for 3"
   ]
  },
  {
   "cell_type": "code",
   "execution_count": 2,
   "metadata": {},
   "outputs": [
    {
     "name": "stdout",
     "output_type": "stream",
     "text": [
      "Starting 3 queens\n",
      "Starting 6 queens\n",
      "Starting 9 queens\n",
      "Starting 12 queens\n",
      "Starting 15 queens\n",
      "Starting 18 queens\n",
      "Starting 21 queens\n",
      "Starting 24 queens\n",
      "Starting 27 queens\n",
      "Starting 30 queens\n",
      "Starting 33 queens\n"
     ]
    },
    {
     "ename": "KeyboardInterrupt",
     "evalue": "",
     "output_type": "error",
     "traceback": [
      "\u001b[1;31m---------------------------------------------------------------------------\u001b[0m",
      "\u001b[1;31mKeyboardInterrupt\u001b[0m                         Traceback (most recent call last)",
      "Cell \u001b[1;32mIn [2], line 23\u001b[0m\n\u001b[0;32m     21\u001b[0m csp_queen \u001b[39m=\u001b[39m n_queens_problem(n\u001b[39m=\u001b[39mn)\n\u001b[0;32m     22\u001b[0m start \u001b[39m=\u001b[39m time()\n\u001b[1;32m---> 23\u001b[0m result, state \u001b[39m=\u001b[39m backtrack_object\u001b[39m.\u001b[39;49mrun_backtrack(csp_instance\u001b[39m=\u001b[39;49mcsp_queen)\n\u001b[0;32m     25\u001b[0m \u001b[39m# Adding to display\u001b[39;00m\n\u001b[0;32m     26\u001b[0m new_row \u001b[39m=\u001b[39m [\n\u001b[0;32m     27\u001b[0m     \u001b[39mf\u001b[39m\u001b[39m\"\u001b[39m\u001b[39m{\u001b[39;00mn\u001b[39m}\u001b[39;00m\u001b[39m queens\u001b[39m\u001b[39m\"\u001b[39m,\n\u001b[0;32m     28\u001b[0m     backtrack_object\u001b[39m.\u001b[39mnodes,\n\u001b[0;32m     29\u001b[0m     \u001b[39mround\u001b[39m(time() \u001b[39m-\u001b[39m start, \u001b[39m4\u001b[39m),\n\u001b[0;32m     30\u001b[0m     result\n\u001b[0;32m     31\u001b[0m ]\n",
      "File \u001b[1;32mc:\\Users\\alexi\\Documents\\GitHub\\projet_PPC\\backtrack\\backtrack_class.py:200\u001b[0m, in \u001b[0;36mBacktrackClass.run_backtrack\u001b[1;34m(self, csp_instance)\u001b[0m\n\u001b[0;32m    195\u001b[0m \u001b[39m\"\"\"\u001b[39;00m\n\u001b[0;32m    196\u001b[0m \u001b[39mRuns the backtrack and creates a human readable state to return.\u001b[39;00m\n\u001b[0;32m    197\u001b[0m \u001b[39m\"\"\"\u001b[39;00m\n\u001b[0;32m    198\u001b[0m \u001b[39mself\u001b[39m\u001b[39m.\u001b[39mreset_statistics_variables()\n\u001b[1;32m--> 200\u001b[0m found_solution, indexes_state \u001b[39m=\u001b[39m \u001b[39mself\u001b[39;49m\u001b[39m.\u001b[39;49m_backtrack(\n\u001b[0;32m    201\u001b[0m     csp_instance\u001b[39m=\u001b[39;49mcsp_instance, state\u001b[39m=\u001b[39;49m\u001b[39mdict\u001b[39;49m()\n\u001b[0;32m    202\u001b[0m )\n\u001b[0;32m    203\u001b[0m readable_state \u001b[39m=\u001b[39m \u001b[39mdict\u001b[39m()\n\u001b[0;32m    204\u001b[0m \u001b[39mfor\u001b[39;00m index \u001b[39min\u001b[39;00m indexes_state:\n",
      "File \u001b[1;32mc:\\Users\\alexi\\Documents\\GitHub\\projet_PPC\\backtrack\\backtrack_class.py:177\u001b[0m, in \u001b[0;36mBacktrackClass._backtrack\u001b[1;34m(self, csp_instance, state, last_variable_index)\u001b[0m\n\u001b[0;32m    174\u001b[0m new_state \u001b[39m=\u001b[39m state\u001b[39m.\u001b[39mcopy()\n\u001b[0;32m    175\u001b[0m new_state\u001b[39m.\u001b[39mupdate({last_variable_index: new_variable_possible_value})\n\u001b[1;32m--> 177\u001b[0m child_result, child_state \u001b[39m=\u001b[39m \u001b[39mself\u001b[39;49m\u001b[39m.\u001b[39;49m_backtrack(\n\u001b[0;32m    178\u001b[0m     csp_instance\u001b[39m=\u001b[39;49mcsp_instance,\n\u001b[0;32m    179\u001b[0m     state\u001b[39m=\u001b[39;49mnew_state,\n\u001b[0;32m    180\u001b[0m     last_variable_index\u001b[39m=\u001b[39;49mlast_variable_index,\n\u001b[0;32m    181\u001b[0m )\n\u001b[0;32m    182\u001b[0m \u001b[39mif\u001b[39;00m child_result:\n\u001b[0;32m    183\u001b[0m     \u001b[39m# If a sub node has a solution, go back up and return true\u001b[39;00m\n\u001b[0;32m    184\u001b[0m     \u001b[39mreturn\u001b[39;00m \u001b[39mTrue\u001b[39;00m, child_state\n",
      "File \u001b[1;32mc:\\Users\\alexi\\Documents\\GitHub\\projet_PPC\\backtrack\\backtrack_class.py:177\u001b[0m, in \u001b[0;36mBacktrackClass._backtrack\u001b[1;34m(self, csp_instance, state, last_variable_index)\u001b[0m\n\u001b[0;32m    174\u001b[0m new_state \u001b[39m=\u001b[39m state\u001b[39m.\u001b[39mcopy()\n\u001b[0;32m    175\u001b[0m new_state\u001b[39m.\u001b[39mupdate({last_variable_index: new_variable_possible_value})\n\u001b[1;32m--> 177\u001b[0m child_result, child_state \u001b[39m=\u001b[39m \u001b[39mself\u001b[39;49m\u001b[39m.\u001b[39;49m_backtrack(\n\u001b[0;32m    178\u001b[0m     csp_instance\u001b[39m=\u001b[39;49mcsp_instance,\n\u001b[0;32m    179\u001b[0m     state\u001b[39m=\u001b[39;49mnew_state,\n\u001b[0;32m    180\u001b[0m     last_variable_index\u001b[39m=\u001b[39;49mlast_variable_index,\n\u001b[0;32m    181\u001b[0m )\n\u001b[0;32m    182\u001b[0m \u001b[39mif\u001b[39;00m child_result:\n\u001b[0;32m    183\u001b[0m     \u001b[39m# If a sub node has a solution, go back up and return true\u001b[39;00m\n\u001b[0;32m    184\u001b[0m     \u001b[39mreturn\u001b[39;00m \u001b[39mTrue\u001b[39;00m, child_state\n",
      "    \u001b[1;31m[... skipping similar frames: BacktrackClass._backtrack at line 177 (19 times)]\u001b[0m\n",
      "File \u001b[1;32mc:\\Users\\alexi\\Documents\\GitHub\\projet_PPC\\backtrack\\backtrack_class.py:177\u001b[0m, in \u001b[0;36mBacktrackClass._backtrack\u001b[1;34m(self, csp_instance, state, last_variable_index)\u001b[0m\n\u001b[0;32m    174\u001b[0m new_state \u001b[39m=\u001b[39m state\u001b[39m.\u001b[39mcopy()\n\u001b[0;32m    175\u001b[0m new_state\u001b[39m.\u001b[39mupdate({last_variable_index: new_variable_possible_value})\n\u001b[1;32m--> 177\u001b[0m child_result, child_state \u001b[39m=\u001b[39m \u001b[39mself\u001b[39;49m\u001b[39m.\u001b[39;49m_backtrack(\n\u001b[0;32m    178\u001b[0m     csp_instance\u001b[39m=\u001b[39;49mcsp_instance,\n\u001b[0;32m    179\u001b[0m     state\u001b[39m=\u001b[39;49mnew_state,\n\u001b[0;32m    180\u001b[0m     last_variable_index\u001b[39m=\u001b[39;49mlast_variable_index,\n\u001b[0;32m    181\u001b[0m )\n\u001b[0;32m    182\u001b[0m \u001b[39mif\u001b[39;00m child_result:\n\u001b[0;32m    183\u001b[0m     \u001b[39m# If a sub node has a solution, go back up and return true\u001b[39;00m\n\u001b[0;32m    184\u001b[0m     \u001b[39mreturn\u001b[39;00m \u001b[39mTrue\u001b[39;00m, child_state\n",
      "File \u001b[1;32mc:\\Users\\alexi\\Documents\\GitHub\\projet_PPC\\backtrack\\backtrack_class.py:147\u001b[0m, in \u001b[0;36mBacktrackClass._backtrack\u001b[1;34m(self, csp_instance, state, last_variable_index)\u001b[0m\n\u001b[0;32m    142\u001b[0m \u001b[39m# Otherwise use forward checking if asked\u001b[39;00m\n\u001b[0;32m    143\u001b[0m \u001b[39melif\u001b[39;00m \u001b[39mself\u001b[39m\u001b[39m.\u001b[39muse_forward_checking:\n\u001b[0;32m    144\u001b[0m     (\n\u001b[0;32m    145\u001b[0m         checking_emptied_domain,\n\u001b[0;32m    146\u001b[0m         shrinking_operations,\n\u001b[1;32m--> 147\u001b[0m     ) \u001b[39m=\u001b[39m forward_checking_current_state(\n\u001b[0;32m    148\u001b[0m         csp_instance\u001b[39m=\u001b[39;49mcsp_instance,\n\u001b[0;32m    149\u001b[0m         state\u001b[39m=\u001b[39;49mstate,\n\u001b[0;32m    150\u001b[0m         last_variable_index\u001b[39m=\u001b[39;49mlast_variable_index,\n\u001b[0;32m    151\u001b[0m     )\n\u001b[0;32m    152\u001b[0m     \u001b[39m# If forward checking empties a domain, return\u001b[39;00m\n\u001b[0;32m    153\u001b[0m     \u001b[39mif\u001b[39;00m checking_emptied_domain:\n",
      "File \u001b[1;32mc:\\Users\\alexi\\Documents\\GitHub\\projet_PPC\\backtrack\\forward_checking.py:45\u001b[0m, in \u001b[0;36mforward_checking_current_state\u001b[1;34m(csp_instance, state, last_variable_index)\u001b[0m\n\u001b[0;32m     41\u001b[0m \u001b[39mwhile\u001b[39;00m index \u001b[39m<\u001b[39m\u001b[39m=\u001b[39m linked_domain_last_index:\n\u001b[0;32m     42\u001b[0m     \u001b[39m# Get a value for the linked variable\u001b[39;00m\n\u001b[0;32m     43\u001b[0m     linked_variable_value: VariableValue \u001b[39m=\u001b[39m linked_variable_domain[index]\n\u001b[1;32m---> 45\u001b[0m     \u001b[39mif\u001b[39;00m \u001b[39mnot\u001b[39;00m constraint(\n\u001b[0;32m     46\u001b[0m         last_variable_index,\n\u001b[0;32m     47\u001b[0m         linked_variable_index,\n\u001b[0;32m     48\u001b[0m         last_variable_value,\n\u001b[0;32m     49\u001b[0m         linked_variable_value,\n\u001b[0;32m     50\u001b[0m     ):\n\u001b[0;32m     51\u001b[0m         shrunk_domain_of \u001b[39m+\u001b[39m\u001b[39m=\u001b[39m \u001b[39m1\u001b[39m\n\u001b[0;32m     53\u001b[0m         \u001b[39m# If a constraint is invalid, if possible swap the last valid value with the current one and decrement\u001b[39;00m\n\u001b[0;32m     54\u001b[0m         \u001b[39m# the last valid index.\u001b[39;00m\n",
      "File \u001b[1;32mc:\\Users\\alexi\\Documents\\GitHub\\projet_PPC\\models\\csp.py:137\u001b[0m, in \u001b[0;36mCSP._combine_two_constraints.<locals>.<lambda>\u001b[1;34m(i, j, value_var_i, value_var_j)\u001b[0m\n\u001b[0;32m    131\u001b[0m \u001b[39mdef\u001b[39;00m \u001b[39m_combine_two_constraints\u001b[39m(\n\u001b[0;32m    132\u001b[0m     \u001b[39mself\u001b[39m, current_constraint: Constraint, new_constraint: Constraint\n\u001b[0;32m    133\u001b[0m ) \u001b[39m-\u001b[39m\u001b[39m>\u001b[39m Constraint:\n\u001b[0;32m    134\u001b[0m     \u001b[39m\"\"\"\u001b[39;00m\n\u001b[0;32m    135\u001b[0m \u001b[39m    This function combines two constraint on the same variables to build a new one.\u001b[39;00m\n\u001b[0;32m    136\u001b[0m \u001b[39m    \"\"\"\u001b[39;00m\n\u001b[1;32m--> 137\u001b[0m     \u001b[39mreturn\u001b[39;00m \u001b[39mlambda\u001b[39;00m i, j, value_var_i, value_var_j: current_constraint(\n\u001b[0;32m    138\u001b[0m         i, j, value_var_i, value_var_j\n\u001b[0;32m    139\u001b[0m     ) \u001b[39mand\u001b[39;00m new_constraint(i, j, value_var_i, value_var_j)\n",
      "File \u001b[1;32mc:\\Users\\alexi\\Documents\\GitHub\\projet_PPC\\models\\csp.py:137\u001b[0m, in \u001b[0;36mCSP._combine_two_constraints.<locals>.<lambda>\u001b[1;34m(i, j, value_var_i, value_var_j)\u001b[0m\n\u001b[0;32m    131\u001b[0m \u001b[39mdef\u001b[39;00m \u001b[39m_combine_two_constraints\u001b[39m(\n\u001b[0;32m    132\u001b[0m     \u001b[39mself\u001b[39m, current_constraint: Constraint, new_constraint: Constraint\n\u001b[0;32m    133\u001b[0m ) \u001b[39m-\u001b[39m\u001b[39m>\u001b[39m Constraint:\n\u001b[0;32m    134\u001b[0m     \u001b[39m\"\"\"\u001b[39;00m\n\u001b[0;32m    135\u001b[0m \u001b[39m    This function combines two constraint on the same variables to build a new one.\u001b[39;00m\n\u001b[0;32m    136\u001b[0m \u001b[39m    \"\"\"\u001b[39;00m\n\u001b[1;32m--> 137\u001b[0m     \u001b[39mreturn\u001b[39;00m \u001b[39mlambda\u001b[39;00m i, j, value_var_i, value_var_j: current_constraint(\n\u001b[0;32m    138\u001b[0m         i, j, value_var_i, value_var_j\n\u001b[0;32m    139\u001b[0m     ) \u001b[39mand\u001b[39;00m new_constraint(i, j, value_var_i, value_var_j)\n",
      "\u001b[1;31mKeyboardInterrupt\u001b[0m: "
     ]
    }
   ],
   "source": [
    "from time import time\n",
    "\n",
    "import pandas as pd\n",
    "\n",
    "from instances import n_queens_problem\n",
    "from backtrack import BacktrackClass\n",
    "\n",
    "# Display setup\n",
    "columns = [\n",
    "    \"instance\",\n",
    "    \"nodes\",\n",
    "    \"time\",\n",
    "    \"result\",\n",
    "]\n",
    "display_dataframe = pd.DataFrame({column: [] for column in columns})\n",
    "\n",
    "max_size = 32\n",
    "backtrack_object = BacktrackClass(use_forward_checking=True)\n",
    "for n in range(3,max_size,3):\n",
    "    print(f\"Starting {n} queens\")\n",
    "    csp_queen = n_queens_problem(n=n)\n",
    "    start = time()\n",
    "    result, state = backtrack_object.run_backtrack(csp_instance=csp_queen)\n",
    "\n",
    "    # Adding to display\n",
    "    new_row = [\n",
    "        f\"{n} queens\",\n",
    "        backtrack_object.nodes,\n",
    "        round(time() - start, 4),\n",
    "        result\n",
    "    ]\n",
    "    display_dataframe.loc[len(display_dataframe)] = new_row\n",
    "\n",
    "\n",
    "print(display_dataframe)\n",
    "display_dataframe.to_csv(\"queens_forward_v2_1.csv\", sep=\";\")"
   ]
  }
 ],
 "metadata": {
  "kernelspec": {
   "display_name": "Python 3.10.2 ('projet_PPC': venv)",
   "language": "python",
   "name": "python3"
  },
  "language_info": {
   "codemirror_mode": {
    "name": "ipython",
    "version": 3
   },
   "file_extension": ".py",
   "mimetype": "text/x-python",
   "name": "python",
   "nbconvert_exporter": "python",
   "pygments_lexer": "ipython3",
   "version": "3.10.2"
  },
  "orig_nbformat": 4,
  "vscode": {
   "interpreter": {
    "hash": "c0021910f745d5c1d4816958c5dc5b7f4254623e1a2c0d2037241731637929d6"
   }
  }
 },
 "nbformat": 4,
 "nbformat_minor": 2
}

{
 "cells": [
  {
   "cell_type": "code",
   "execution_count": 2,
   "metadata": {},
   "outputs": [
    {
     "name": "stdout",
     "output_type": "stream",
     "text": [
      "Variables:\n",
      "['1_col_queen', '2_col_queen', '3_col_queen', '4_col_queen']\n",
      "\n",
      "Domains:\n",
      "1_col_queen : [1, 2, 3, 4]\n",
      "2_col_queen : [1, 2, 3, 4]\n",
      "3_col_queen : [1, 2, 3, 4]\n",
      "4_col_queen : [1, 2, 3, 4]\n",
      "\n",
      "Constraints:\n",
      "('1_col_queen', '2_col_queen') : {(2, 4), (4, 1), (3, 1), (4, 2), (1, 4), (1, 3)}\n",
      "('1_col_queen', '3_col_queen') : {(1, 2), (2, 1), (3, 4), (4, 3), (1, 4), (2, 3), (3, 2), (4, 1)}\n",
      "('1_col_queen', '4_col_queen') : {(2, 4), (1, 2), (2, 1), (3, 4), (4, 3), (3, 1), (4, 2), (2, 3), (3, 2), (1, 3)}\n",
      "('2_col_queen', '3_col_queen') : {(2, 4), (4, 1), (3, 1), (4, 2), (1, 4), (1, 3)}\n",
      "('2_col_queen', '4_col_queen') : {(1, 2), (2, 1), (3, 4), (4, 3), (1, 4), (2, 3), (3, 2), (4, 1)}\n",
      "('3_col_queen', '4_col_queen') : {(2, 4), (4, 1), (3, 1), (4, 2), (1, 4), (1, 3)}\n",
      "\n"
     ]
    }
   ],
   "source": [
    "from instances import n_queens_problem\n",
    "\n",
    "csp_queen = n_queens_problem(n=4)\n",
    "print(csp_queen)"
   ]
  },
  {
   "cell_type": "code",
   "execution_count": 18,
   "metadata": {},
   "outputs": [
    {
     "data": {
      "text/plain": [
       "(True, {'1_col_queen': 1})"
      ]
     },
     "execution_count": 18,
     "metadata": {},
     "output_type": "execute_result"
    }
   ],
   "source": [
    "from instances import n_queens_problem\n",
    "from backtrack import BacktrackClass\n",
    "\n",
    "csp_queen = n_queens_problem(n=8)\n",
    "backtrack_object = BacktrackClass()\n",
    "backtrack_object.backtrack(csp_instance=csp_queen, state={})\n"
   ]
  }
 ],
 "metadata": {
  "kernelspec": {
   "display_name": "Python 3.10.2 ('projet_PPC': venv)",
   "language": "python",
   "name": "python3"
  },
  "language_info": {
   "codemirror_mode": {
    "name": "ipython",
    "version": 3
   },
   "file_extension": ".py",
   "mimetype": "text/x-python",
   "name": "python",
   "nbconvert_exporter": "python",
   "pygments_lexer": "ipython3",
   "version": "3.10.2"
  },
  "orig_nbformat": 4,
  "vscode": {
   "interpreter": {
    "hash": "c0021910f745d5c1d4816958c5dc5b7f4254623e1a2c0d2037241731637929d6"
   }
  }
 },
 "nbformat": 4,
 "nbformat_minor": 2
}

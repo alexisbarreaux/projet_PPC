{
 "cells": [
  {
   "cell_type": "code",
   "execution_count": 2,
   "metadata": {},
   "outputs": [
    {
     "name": "stdout",
     "output_type": "stream",
     "text": [
      "Variables:\n",
      "['1_col_queen', '2_col_queen', '3_col_queen', '4_col_queen']\n",
      "\n",
      "Domains:\n",
      "1_col_queen : [1, 2, 3, 4]\n",
      "2_col_queen : [1, 2, 3, 4]\n",
      "3_col_queen : [1, 2, 3, 4]\n",
      "4_col_queen : [1, 2, 3, 4]\n",
      "\n",
      "Constraints:\n",
      "('1_col_queen', '2_col_queen')  [(1, 3), (1, 4), (2, 4), (3, 1), (4, 1), (4, 2)].\n",
      "('2_col_queen', '1_col_queen')  [(1, 3), (1, 4), (2, 4), (3, 1), (4, 1), (4, 2)].\n",
      "('1_col_queen', '3_col_queen')  [(1, 2), (1, 4), (2, 1), (2, 3), (3, 2), (3, 4), (4, 1), (4, 3)].\n",
      "('3_col_queen', '1_col_queen')  [(1, 2), (1, 4), (2, 1), (2, 3), (3, 2), (3, 4), (4, 1), (4, 3)].\n",
      "('1_col_queen', '4_col_queen')  [(1, 2), (1, 3), (2, 1), (2, 3), (2, 4), (3, 1), (3, 2), (3, 4), (4, 2), (4, 3)].\n",
      "('4_col_queen', '1_col_queen')  [(1, 2), (1, 3), (2, 1), (2, 3), (2, 4), (3, 1), (3, 2), (3, 4), (4, 2), (4, 3)].\n",
      "('2_col_queen', '3_col_queen')  [(1, 3), (1, 4), (2, 4), (3, 1), (4, 1), (4, 2)].\n",
      "('3_col_queen', '2_col_queen')  [(1, 3), (1, 4), (2, 4), (3, 1), (4, 1), (4, 2)].\n",
      "('2_col_queen', '4_col_queen')  [(1, 2), (1, 4), (2, 1), (2, 3), (3, 2), (3, 4), (4, 1), (4, 3)].\n",
      "('4_col_queen', '2_col_queen')  [(1, 2), (1, 4), (2, 1), (2, 3), (3, 2), (3, 4), (4, 1), (4, 3)].\n",
      "('3_col_queen', '4_col_queen')  [(1, 3), (1, 4), (2, 4), (3, 1), (4, 1), (4, 2)].\n",
      "('4_col_queen', '3_col_queen')  [(1, 3), (1, 4), (2, 4), (3, 1), (4, 1), (4, 2)].\n",
      "\n",
      "Constrained by {0: {1, 2, 3}, 1: {0, 2, 3}, 2: {0, 1, 3}, 3: {0, 1, 2}}\n"
     ]
    }
   ],
   "source": [
    "from instances import n_queens_problem\n",
    "\n",
    "csp_queen = n_queens_problem(n=4)\n",
    "print(csp_queen)\n",
    "print(\"Constrained by\", csp_queen.variable_is_constrained_by)"
   ]
  },
  {
   "cell_type": "code",
   "execution_count": 2,
   "metadata": {},
   "outputs": [],
   "source": [
    "from instances import n_queens_problem\n",
    "from backtrack import BacktrackClass\n",
    "\n",
    "csp_queen = n_queens_problem(n=3)\n",
    "backtrack_object = BacktrackClass()\n",
    "result, state = backtrack_object.run_backtrack(csp_instance=csp_queen)\n",
    "assert(not result)\n"
   ]
  },
  {
   "cell_type": "code",
   "execution_count": 4,
   "metadata": {},
   "outputs": [],
   "source": [
    "from random import randint\n",
    "\n",
    "from instances import n_queens_problem\n",
    "from backtrack import BacktrackClass\n",
    "\n",
    "# Take a random value of size between 4 and 20\n",
    "n = randint(4,20)\n",
    "csp_queen = n_queens_problem(n=n)\n",
    "backtrack_object = BacktrackClass()\n",
    "result, state = backtrack_object.run_backtrack(csp_instance=csp_queen)\n",
    "assert(result)"
   ]
  },
  {
   "cell_type": "code",
   "execution_count": 3,
   "metadata": {},
   "outputs": [
    {
     "name": "stdout",
     "output_type": "stream",
     "text": [
      "True {'1_col_queen': 1, '2_col_queen': 3, '3_col_queen': 5, '4_col_queen': 2, '5_col_queen': 4, '6_col_queen': 9, '7_col_queen': 11, '8_col_queen': 13, '9_col_queen': 15, '10_col_queen': 19, '11_col_queen': 21, '12_col_queen': 24, '13_col_queen': 20, '14_col_queen': 25, '15_col_queen': 23, '16_col_queen': 6, '17_col_queen': 8, '18_col_queen': 10, '19_col_queen': 7, '20_col_queen': 14, '21_col_queen': 16, '22_col_queen': 18, '23_col_queen': 12, '24_col_queen': 17, '25_col_queen': 22}\n"
     ]
    }
   ],
   "source": [
    "from instances import n_queens_problem\n",
    "from backtrack import BacktrackClass\n",
    "\n",
    "csp_queen = n_queens_problem(n=25)\n",
    "backtrack_object = BacktrackClass()\n",
    "result, state = backtrack_object.run_backtrack(csp_instance=csp_queen)\n",
    "print(result, state)\n",
    "assert(result)\n"
   ]
  },
  {
   "cell_type": "code",
   "execution_count": 2,
   "metadata": {},
   "outputs": [
    {
     "name": "stdout",
     "output_type": "stream",
     "text": [
      "  instance  size        time  result\n",
      "0   queens     3    0.000000   False\n",
      "1   queens     6    0.000000    True\n",
      "2   queens     9    0.000998    True\n",
      "3   queens    12    0.021010    True\n",
      "4   queens    15    0.125988    True\n",
      "5   queens    18    6.536052    True\n",
      "6   queens    21    3.225906    True\n",
      "7   queens    24  106.851489    True\n",
      "8   queens    27  129.238916    True\n"
     ]
    }
   ],
   "source": [
    "from time import time\n",
    "\n",
    "import pandas as pd\n",
    "\n",
    "from instances import n_queens_problem\n",
    "from backtrack import BacktrackClass\n",
    "\n",
    "# Display setup\n",
    "columns = [\n",
    "    \"instance\",\n",
    "    \"size\",\n",
    "    \"time\",\n",
    "    \"result\",\n",
    "]\n",
    "display_dataframe = pd.DataFrame({column: [] for column in columns})\n",
    "\n",
    "max_size = 30\n",
    "backtrack_object = BacktrackClass()\n",
    "for n in range(3,max_size,3):\n",
    "\n",
    "    csp_queen = n_queens_problem(n=n)\n",
    "    start = time()\n",
    "    result, state = backtrack_object.run_backtrack(csp_instance=csp_queen)\n",
    "\n",
    "    # Adding to display\n",
    "    new_row = [\n",
    "        \"queens\",\n",
    "        n,\n",
    "        time() - start,\n",
    "        result\n",
    "    ]\n",
    "    display_dataframe.loc[len(display_dataframe)] = new_row\n",
    "\n",
    "\n",
    "print(display_dataframe)\n",
    "display_dataframe.to_csv(\"queens_naive_1.csv\", sep=\";\")"
   ]
  }
 ],
 "metadata": {
  "kernelspec": {
   "display_name": "Python 3.10.2 ('projet_PPC': venv)",
   "language": "python",
   "name": "python3"
  },
  "language_info": {
   "codemirror_mode": {
    "name": "ipython",
    "version": 3
   },
   "file_extension": ".py",
   "mimetype": "text/x-python",
   "name": "python",
   "nbconvert_exporter": "python",
   "pygments_lexer": "ipython3",
   "version": "3.10.2"
  },
  "orig_nbformat": 4,
  "vscode": {
   "interpreter": {
    "hash": "c0021910f745d5c1d4816958c5dc5b7f4254623e1a2c0d2037241731637929d6"
   }
  }
 },
 "nbformat": 4,
 "nbformat_minor": 2
}

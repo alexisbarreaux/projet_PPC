{
 "cells": [
  {
   "cell_type": "code",
   "execution_count": 2,
   "metadata": {},
   "outputs": [
    {
     "name": "stdout",
     "output_type": "stream",
     "text": [
      "Variables:\n",
      "['1_col_queen', '2_col_queen', '3_col_queen', '4_col_queen']\n",
      "\n",
      "Domains:\n",
      "1_col_queen : [1, 2, 3, 4]\n",
      "2_col_queen : [1, 2, 3, 4]\n",
      "3_col_queen : [1, 2, 3, 4]\n",
      "4_col_queen : [1, 2, 3, 4]\n",
      "\n",
      "Constraints:\n",
      "('1_col_queen', '2_col_queen')  [(1, 3), (1, 4), (2, 4), (3, 1), (4, 1), (4, 2)].\n",
      "('2_col_queen', '1_col_queen')  [(1, 3), (1, 4), (2, 4), (3, 1), (4, 1), (4, 2)].\n",
      "('1_col_queen', '3_col_queen')  [(1, 2), (1, 4), (2, 1), (2, 3), (3, 2), (3, 4), (4, 1), (4, 3)].\n",
      "('3_col_queen', '1_col_queen')  [(1, 2), (1, 4), (2, 1), (2, 3), (3, 2), (3, 4), (4, 1), (4, 3)].\n",
      "('1_col_queen', '4_col_queen')  [(1, 2), (1, 3), (2, 1), (2, 3), (2, 4), (3, 1), (3, 2), (3, 4), (4, 2), (4, 3)].\n",
      "('4_col_queen', '1_col_queen')  [(1, 2), (1, 3), (2, 1), (2, 3), (2, 4), (3, 1), (3, 2), (3, 4), (4, 2), (4, 3)].\n",
      "('2_col_queen', '3_col_queen')  [(1, 3), (1, 4), (2, 4), (3, 1), (4, 1), (4, 2)].\n",
      "('3_col_queen', '2_col_queen')  [(1, 3), (1, 4), (2, 4), (3, 1), (4, 1), (4, 2)].\n",
      "('2_col_queen', '4_col_queen')  [(1, 2), (1, 4), (2, 1), (2, 3), (3, 2), (3, 4), (4, 1), (4, 3)].\n",
      "('4_col_queen', '2_col_queen')  [(1, 2), (1, 4), (2, 1), (2, 3), (3, 2), (3, 4), (4, 1), (4, 3)].\n",
      "('3_col_queen', '4_col_queen')  [(1, 3), (1, 4), (2, 4), (3, 1), (4, 1), (4, 2)].\n",
      "('4_col_queen', '3_col_queen')  [(1, 3), (1, 4), (2, 4), (3, 1), (4, 1), (4, 2)].\n",
      "\n",
      "Constrained by {0: {1, 2, 3}, 1: {0, 2, 3}, 2: {0, 1, 3}, 3: {0, 1, 2}}\n"
     ]
    }
   ],
   "source": [
    "from instances import n_queens_problem\n",
    "\n",
    "csp_queen = n_queens_problem(n=4)\n",
    "print(csp_queen)\n",
    "print(\"Constrained by\", csp_queen.variable_is_constrained_by)"
   ]
  },
  {
   "cell_type": "code",
   "execution_count": 1,
   "metadata": {},
   "outputs": [],
   "source": [
    "from instances import n_queens_problem\n",
    "from backtrack import BacktrackClass\n",
    "\n",
    "csp_queen = n_queens_problem(n=3)\n",
    "backtrack_object = BacktrackClass()\n",
    "result, state = backtrack_object.run_backtrack(csp_instance=csp_queen)\n",
    "assert(not result)\n"
   ]
  },
  {
   "cell_type": "code",
   "execution_count": 4,
   "metadata": {},
   "outputs": [],
   "source": [
    "from random import randint\n",
    "\n",
    "from instances import n_queens_problem\n",
    "from backtrack import BacktrackClass\n",
    "\n",
    "# Take a random value of size between 4 and 20\n",
    "n = randint(4,20)\n",
    "csp_queen = n_queens_problem(n=n)\n",
    "backtrack_object = BacktrackClass()\n",
    "result, state = backtrack_object.run_backtrack(csp_instance=csp_queen)\n",
    "assert(result)"
   ]
  },
  {
   "cell_type": "code",
   "execution_count": 3,
   "metadata": {},
   "outputs": [
    {
     "name": "stdout",
     "output_type": "stream",
     "text": [
      "True {'1_col_queen': 1, '2_col_queen': 3, '3_col_queen': 5, '4_col_queen': 2, '5_col_queen': 4, '6_col_queen': 9, '7_col_queen': 11, '8_col_queen': 13, '9_col_queen': 15, '10_col_queen': 19, '11_col_queen': 21, '12_col_queen': 24, '13_col_queen': 20, '14_col_queen': 25, '15_col_queen': 23, '16_col_queen': 6, '17_col_queen': 8, '18_col_queen': 10, '19_col_queen': 7, '20_col_queen': 14, '21_col_queen': 16, '22_col_queen': 18, '23_col_queen': 12, '24_col_queen': 17, '25_col_queen': 22}\n"
     ]
    }
   ],
   "source": [
    "from instances import n_queens_problem\n",
    "from backtrack import BacktrackClass\n",
    "\n",
    "csp_queen = n_queens_problem(n=25)\n",
    "backtrack_object = BacktrackClass()\n",
    "result, state = backtrack_object.run_backtrack(csp_instance=csp_queen)\n",
    "print(result, state)\n",
    "assert(result)\n"
   ]
  },
  {
   "cell_type": "code",
   "execution_count": 3,
   "metadata": {},
   "outputs": [
    {
     "name": "stdout",
     "output_type": "stream",
     "text": [
      "Starting 3 queens\n",
      "{}\n",
      "Starting 6 queens\n",
      "Starting 9 queens\n",
      "Starting 12 queens\n",
      "Starting 15 queens\n",
      "Starting 18 queens\n",
      "Starting 21 queens\n",
      "Starting 24 queens\n",
      "    instance    nodes        time  result\n",
      "0   3 queens       19    0.000000   False\n",
      "1   6 queens      172    0.001993    True\n",
      "2   9 queens      334    0.009779    True\n",
      "3  12 queens     3067    0.106735    True\n",
      "4  15 queens    20281    0.349892    True\n",
      "5  18 queens   743230   13.701235    True\n",
      "6  21 queens   179593    3.390076    True\n",
      "7  24 queens  9878317  169.596425    True\n"
     ]
    }
   ],
   "source": [
    "from time import time\n",
    "\n",
    "import pandas as pd\n",
    "\n",
    "from instances import n_queens_problem\n",
    "from backtrack import BacktrackClass\n",
    "\n",
    "# Display setup\n",
    "columns = [\n",
    "    \"instance\",\n",
    "    \"nodes\",\n",
    "    \"time\",\n",
    "    \"result\",\n",
    "]\n",
    "display_dataframe = pd.DataFrame({column: [] for column in columns})\n",
    "\n",
    "max_size = 25\n",
    "backtrack_object = BacktrackClass()\n",
    "for n in range(3,max_size,3):\n",
    "    print(f\"Starting {n} queens\")\n",
    "    csp_queen = n_queens_problem(n=n)\n",
    "    start = time()\n",
    "    result, state = backtrack_object.run_backtrack(csp_instance=csp_queen)\n",
    "    if n == 3:\n",
    "        print(state)\n",
    "    # Adding to display\n",
    "    new_row = [\n",
    "        f\"{n} queens\",\n",
    "        backtrack_object.nodes,\n",
    "        time() - start,\n",
    "        result\n",
    "    ]\n",
    "    display_dataframe.loc[len(display_dataframe)] = new_row\n",
    "\n",
    "\n",
    "print(display_dataframe)\n",
    "display_dataframe.to_csv(\"queens_naive_1.csv\", sep=\";\")"
   ]
  },
  {
   "cell_type": "code",
   "execution_count": 1,
   "metadata": {},
   "outputs": [
    {
     "name": "stdout",
     "output_type": "stream",
     "text": [
      "Variables:\n",
      "['1_col_queen', '2_col_queen', '3_col_queen']\n",
      "\n",
      "Domains:\n",
      "1_col_queen : []\n",
      "2_col_queen : []\n",
      "3_col_queen : []\n",
      "\n",
      "Constraints:\n",
      "('1_col_queen', '2_col_queen')  [].\n",
      "('2_col_queen', '1_col_queen')  [].\n",
      "('1_col_queen', '3_col_queen')  [].\n",
      "('3_col_queen', '1_col_queen')  [].\n",
      "('2_col_queen', '3_col_queen')  [].\n",
      "('3_col_queen', '2_col_queen')  [].\n",
      "\n"
     ]
    }
   ],
   "source": [
    "from instances import n_queens_problem\n",
    "from backtrack import BacktrackClass, AC3_current_state\n",
    "\n",
    "csp_queen = n_queens_problem(n=3)\n",
    "AC3_current_state(csp_instance=csp_queen)\n",
    "print(csp_queen)\n",
    "# Should see empty domains for 3"
   ]
  },
  {
   "cell_type": "code",
   "execution_count": 5,
   "metadata": {},
   "outputs": [
    {
     "name": "stdout",
     "output_type": "stream",
     "text": [
      "Starting 3 queens\n",
      "Starting 6 queens\n",
      "Starting 9 queens\n",
      "Starting 12 queens\n",
      "Starting 15 queens\n",
      "Starting 18 queens\n",
      "Starting 21 queens\n",
      "Starting 24 queens\n",
      "Starting 27 queens\n",
      "Starting 30 queens\n",
      "Starting 33 queens\n",
      "Starting 36 queens\n",
      "Starting 39 queens\n",
      "     instance    nodes      time  result\n",
      "0    3 queens        6    0.0000   False\n",
      "1    6 queens       32    0.0000   False\n",
      "2    9 queens       91    0.0010    True\n",
      "3   12 queens      489    0.0100    True\n",
      "4   15 queens      567    0.0230    True\n",
      "5   18 queens     2391    0.1310    True\n",
      "6   21 queens    10263    0.2700    True\n",
      "7   24 queens    18795    0.6580    True\n",
      "8   27 queens    75114    2.7530    True\n",
      "9   30 queens    93506    7.0760    True\n",
      "10  33 queens   277799   13.5931    True\n",
      "11  36 queens   933713   46.2494    True\n",
      "12  39 queens  4183071  216.2122    True\n"
     ]
    }
   ],
   "source": [
    "from time import time\n",
    "\n",
    "import pandas as pd\n",
    "\n",
    "from instances import n_queens_problem\n",
    "from backtrack import BacktrackClass\n",
    "\n",
    "# Display setup\n",
    "columns = [\n",
    "    \"instance\",\n",
    "    \"nodes\",\n",
    "    \"time\",\n",
    "    \"result\",\n",
    "]\n",
    "display_dataframe = pd.DataFrame({column: [] for column in columns})\n",
    "\n",
    "max_size = 40\n",
    "backtrack_object = BacktrackClass(use_forward_checking=True)\n",
    "for n in range(3,max_size,3):\n",
    "    print(f\"Starting {n} queens\")\n",
    "    csp_queen = n_queens_problem(n=n)\n",
    "    start = time()\n",
    "    result, state = backtrack_object.run_backtrack(csp_instance=csp_queen)\n",
    "\n",
    "    # Adding to display\n",
    "    new_row = [\n",
    "        f\"{n} queens\",\n",
    "        backtrack_object.nodes,\n",
    "        round(time() - start, 4),\n",
    "        result\n",
    "    ]\n",
    "    display_dataframe.loc[len(display_dataframe)] = new_row\n",
    "\n",
    "\n",
    "print(display_dataframe)\n",
    "display_dataframe.to_csv(\"queens_forward_1.csv\", sep=\";\")"
   ]
  }
 ],
 "metadata": {
  "kernelspec": {
   "display_name": "Python 3.10.2 ('projet_PPC': venv)",
   "language": "python",
   "name": "python3"
  },
  "language_info": {
   "codemirror_mode": {
    "name": "ipython",
    "version": 3
   },
   "file_extension": ".py",
   "mimetype": "text/x-python",
   "name": "python",
   "nbconvert_exporter": "python",
   "pygments_lexer": "ipython3",
   "version": "3.10.2"
  },
  "orig_nbformat": 4,
  "vscode": {
   "interpreter": {
    "hash": "c0021910f745d5c1d4816958c5dc5b7f4254623e1a2c0d2037241731637929d6"
   }
  }
 },
 "nbformat": 4,
 "nbformat_minor": 2
}

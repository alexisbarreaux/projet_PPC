{
 "cells": [
  {
   "cell_type": "code",
   "execution_count": 1,
   "metadata": {},
   "outputs": [
    {
     "name": "stdout",
     "output_type": "stream",
     "text": [
      "Variables:\n",
      "['1_col_queen', '2_col_queen', '3_col_queen', '4_col_queen']\n",
      "\n",
      "Domains:\n",
      "1_col_queen : [1, 2, 3, 4]\n",
      "2_col_queen : [1, 2, 3, 4]\n",
      "3_col_queen : [1, 2, 3, 4]\n",
      "4_col_queen : [1, 2, 3, 4]\n",
      "\n",
      "Constraints:\n",
      "('1_col_queen', '2_col_queen')  [(1, 3), (1, 4), (2, 4), (3, 1), (4, 1), (4, 2)].\n",
      "('2_col_queen', '1_col_queen')  [(1, 3), (1, 4), (2, 4), (3, 1), (4, 1), (4, 2)].\n",
      "('1_col_queen', '3_col_queen')  [(1, 2), (1, 4), (2, 1), (2, 3), (3, 2), (3, 4), (4, 1), (4, 3)].\n",
      "('3_col_queen', '1_col_queen')  [(1, 2), (1, 4), (2, 1), (2, 3), (3, 2), (3, 4), (4, 1), (4, 3)].\n",
      "('1_col_queen', '4_col_queen')  [(1, 2), (1, 3), (2, 1), (2, 3), (2, 4), (3, 1), (3, 2), (3, 4), (4, 2), (4, 3)].\n",
      "('4_col_queen', '1_col_queen')  [(1, 2), (1, 3), (2, 1), (2, 3), (2, 4), (3, 1), (3, 2), (3, 4), (4, 2), (4, 3)].\n",
      "('2_col_queen', '3_col_queen')  [(1, 3), (1, 4), (2, 4), (3, 1), (4, 1), (4, 2)].\n",
      "('3_col_queen', '2_col_queen')  [(1, 3), (1, 4), (2, 4), (3, 1), (4, 1), (4, 2)].\n",
      "('2_col_queen', '4_col_queen')  [(1, 2), (1, 4), (2, 1), (2, 3), (3, 2), (3, 4), (4, 1), (4, 3)].\n",
      "('4_col_queen', '2_col_queen')  [(1, 2), (1, 4), (2, 1), (2, 3), (3, 2), (3, 4), (4, 1), (4, 3)].\n",
      "('3_col_queen', '4_col_queen')  [(1, 3), (1, 4), (2, 4), (3, 1), (4, 1), (4, 2)].\n",
      "('4_col_queen', '3_col_queen')  [(1, 3), (1, 4), (2, 4), (3, 1), (4, 1), (4, 2)].\n",
      "\n",
      "Constrained by {0: {1, 2, 3}, 1: {0, 2, 3}, 2: {0, 1, 3}, 3: {0, 1, 2}}\n"
     ]
    }
   ],
   "source": [
    "from instances import n_queens_problem\n",
    "\n",
    "csp_queen = n_queens_problem(n=4)\n",
    "print(csp_queen)\n",
    "print(\"Constrained by\", csp_queen.variable_is_constrained_by)"
   ]
  },
  {
   "cell_type": "code",
   "execution_count": 1,
   "metadata": {},
   "outputs": [],
   "source": [
    "from instances import n_queens_problem\n",
    "from backtrack import BacktrackClass\n",
    "\n",
    "csp_queen = n_queens_problem(n=3)\n",
    "backtrack_object = BacktrackClass()\n",
    "result, state = backtrack_object.run_backtrack(csp_instance=csp_queen)\n",
    "assert(not result)\n"
   ]
  },
  {
   "cell_type": "code",
   "execution_count": 4,
   "metadata": {},
   "outputs": [],
   "source": [
    "from random import randint\n",
    "\n",
    "from instances import n_queens_problem\n",
    "from backtrack import BacktrackClass\n",
    "\n",
    "# Take a random value of size between 4 and 20\n",
    "n = randint(4,20)\n",
    "csp_queen = n_queens_problem(n=n)\n",
    "backtrack_object = BacktrackClass()\n",
    "result, state = backtrack_object.run_backtrack(csp_instance=csp_queen)\n",
    "assert(result)\n",
    "# With forward\n",
    "backtrack_object.use_forward_checking = True\n",
    "result, state = backtrack_object.run_backtrack(csp_instance=csp_queen)\n",
    "assert(result)"
   ]
  },
  {
   "cell_type": "code",
   "execution_count": 3,
   "metadata": {},
   "outputs": [
    {
     "name": "stdout",
     "output_type": "stream",
     "text": [
      "True {'1_col_queen': 1, '2_col_queen': 3, '3_col_queen': 5, '4_col_queen': 2, '5_col_queen': 4, '6_col_queen': 9, '7_col_queen': 11, '8_col_queen': 13, '9_col_queen': 15, '10_col_queen': 19, '11_col_queen': 21, '12_col_queen': 24, '13_col_queen': 20, '14_col_queen': 25, '15_col_queen': 23, '16_col_queen': 6, '17_col_queen': 8, '18_col_queen': 10, '19_col_queen': 7, '20_col_queen': 14, '21_col_queen': 16, '22_col_queen': 18, '23_col_queen': 12, '24_col_queen': 17, '25_col_queen': 22}\n"
     ]
    }
   ],
   "source": [
    "from instances import n_queens_problem\n",
    "from backtrack import BacktrackClass\n",
    "\n",
    "csp_queen = n_queens_problem(n=25)\n",
    "backtrack_object = BacktrackClass()\n",
    "result, state = backtrack_object.run_backtrack(csp_instance=csp_queen)\n",
    "print(result, state)\n",
    "assert(result)\n"
   ]
  },
  {
   "cell_type": "code",
   "execution_count": 3,
   "metadata": {},
   "outputs": [
    {
     "name": "stdout",
     "output_type": "stream",
     "text": [
      "Starting 3 queens\n",
      "{}\n",
      "Starting 6 queens\n",
      "Starting 9 queens\n",
      "Starting 12 queens\n",
      "Starting 15 queens\n",
      "Starting 18 queens\n",
      "Starting 21 queens\n",
      "Starting 24 queens\n",
      "    instance    nodes        time  result\n",
      "0   3 queens       19    0.000000   False\n",
      "1   6 queens      172    0.001993    True\n",
      "2   9 queens      334    0.009779    True\n",
      "3  12 queens     3067    0.106735    True\n",
      "4  15 queens    20281    0.349892    True\n",
      "5  18 queens   743230   13.701235    True\n",
      "6  21 queens   179593    3.390076    True\n",
      "7  24 queens  9878317  169.596425    True\n"
     ]
    }
   ],
   "source": [
    "from time import time\n",
    "\n",
    "import pandas as pd\n",
    "\n",
    "from instances import n_queens_problem\n",
    "from backtrack import BacktrackClass\n",
    "\n",
    "# Display setup\n",
    "columns = [\n",
    "    \"instance\",\n",
    "    \"nodes\",\n",
    "    \"time\",\n",
    "    \"result\",\n",
    "]\n",
    "display_dataframe = pd.DataFrame({column: [] for column in columns})\n",
    "\n",
    "max_size = 25\n",
    "backtrack_object = BacktrackClass()\n",
    "for n in range(3,max_size,3):\n",
    "    print(f\"Starting {n} queens\")\n",
    "    csp_queen = n_queens_problem(n=n)\n",
    "    start = time()\n",
    "    result, state = backtrack_object.run_backtrack(csp_instance=csp_queen)\n",
    "    if n == 3:\n",
    "        print(state)\n",
    "    # Adding to display\n",
    "    new_row = [\n",
    "        f\"{n} queens\",\n",
    "        backtrack_object.nodes,\n",
    "        time() - start,\n",
    "        result\n",
    "    ]\n",
    "    display_dataframe.loc[len(display_dataframe)] = new_row\n",
    "\n",
    "\n",
    "print(display_dataframe)\n",
    "display_dataframe.to_csv(\"queens_naive_1.csv\", sep=\";\")"
   ]
  },
  {
   "cell_type": "code",
   "execution_count": 1,
   "metadata": {},
   "outputs": [
    {
     "name": "stdout",
     "output_type": "stream",
     "text": [
      "Variables:\n",
      "['1_col_queen', '2_col_queen', '3_col_queen']\n",
      "\n",
      "Domains:\n",
      "1_col_queen : []\n",
      "2_col_queen : []\n",
      "3_col_queen : []\n",
      "\n",
      "Constraints:\n",
      "('1_col_queen', '2_col_queen')  [].\n",
      "('2_col_queen', '1_col_queen')  [].\n",
      "('1_col_queen', '3_col_queen')  [].\n",
      "('3_col_queen', '1_col_queen')  [].\n",
      "('2_col_queen', '3_col_queen')  [].\n",
      "('3_col_queen', '2_col_queen')  [].\n",
      "\n"
     ]
    }
   ],
   "source": [
    "from instances import n_queens_problem\n",
    "from backtrack import BacktrackClass, AC3_current_state\n",
    "\n",
    "csp_queen = n_queens_problem(n=3)\n",
    "AC3_current_state(csp_instance=csp_queen)\n",
    "print(csp_queen)\n",
    "# Should see empty domains for 3"
   ]
  },
  {
   "cell_type": "code",
   "execution_count": 4,
   "metadata": {},
   "outputs": [
    {
     "name": "stdout",
     "output_type": "stream",
     "text": [
      "Starting 3 queens\n",
      "Starting 4 queens\n",
      "Starting 5 queens\n",
      "Starting 6 queens\n",
      "Starting 7 queens\n",
      "Starting 8 queens\n",
      "Starting 9 queens\n",
      "Starting 10 queens\n",
      "Starting 11 queens\n",
      "Starting 12 queens\n",
      "Starting 13 queens\n",
      "Starting 14 queens\n",
      "Starting 15 queens\n",
      "Starting 16 queens\n",
      "Starting 17 queens\n",
      "Starting 18 queens\n",
      "Starting 19 queens\n",
      "Starting 20 queens\n",
      "Starting 21 queens\n",
      "Starting 22 queens\n",
      "Starting 23 queens\n",
      "Starting 24 queens\n",
      "Starting 25 queens\n",
      "Starting 26 queens\n",
      "Starting 27 queens\n",
      "Starting 28 queens\n",
      "Starting 29 queens\n",
      "     instance  nodes    time  result\n",
      "0    3 queens      1  0.0002   False\n",
      "1    4 queens      8  0.0014    True\n",
      "2    5 queens      8  0.0033    True\n",
      "3    6 queens     19  0.0111    True\n",
      "4    7 queens     15  0.0121    True\n",
      "5    8 queens     27  0.0186    True\n",
      "6    9 queens     51  0.0457    True\n",
      "7   10 queens     62  0.0890    True\n",
      "8   11 queens    128  0.2259    True\n",
      "9   12 queens    150  0.6127    True\n",
      "10  13 queens    179  0.6977    True\n",
      "11  14 queens    294  0.8248    True\n",
      "12  15 queens     18  0.0538    True\n",
      "13  16 queens    140  0.4987    True\n",
      "14  17 queens    503  2.8402    True\n",
      "15  18 queens     28  0.3475    True\n",
      "16  19 queens    183  2.0106    True\n",
      "17  20 queens    260  2.1225    True\n",
      "18  21 queens     48  0.4959    True\n",
      "19  22 queens     31  0.3573    True\n",
      "20  23 queens     74  0.7772    True\n",
      "21  24 queens    435  4.3413    True\n",
      "22  25 queens    141  1.9693    True\n",
      "23  26 queens    133  1.7364    True\n",
      "24  27 queens    216  4.3141    True\n",
      "25  28 queens    144  3.2986    True\n",
      "26  29 queens    408  9.5784    True\n"
     ]
    }
   ],
   "source": [
    "from time import time\n",
    "\n",
    "import pandas as pd\n",
    "\n",
    "from instances import n_queens_problem\n",
    "from backtrack import BacktrackClass\n",
    "from backtrack.variables_choosing_algorithms import smallest_domain_variable_choosing\n",
    "\n",
    "# Display setup\n",
    "columns = [\n",
    "    \"instance\",\n",
    "    \"nodes\",\n",
    "    \"time\",\n",
    "    \"result\",\n",
    "]\n",
    "display_dataframe = pd.DataFrame({column: [] for column in columns})\n",
    "\n",
    "max_size = 30\n",
    "backtrack_object = BacktrackClass(\n",
    "    use_forward_checking=True,\n",
    "    use_arc_consistency=True,\n",
    "    next_variable_choosing_method=smallest_domain_variable_choosing,\n",
    ")  # , use_arc_consistency=True)\n",
    "for n in range(3, max_size, 1):\n",
    "    print(f\"Starting {n} queens\")\n",
    "    csp_queen = n_queens_problem(n=n)\n",
    "    start = time()\n",
    "    result, state = backtrack_object.run_backtrack(csp_instance=csp_queen)\n",
    "\n",
    "    # Adding to display\n",
    "    new_row = [f\"{n} queens\", backtrack_object.nodes, round(time() - start, 4), result]\n",
    "    display_dataframe.loc[len(display_dataframe)] = new_row\n",
    "\n",
    "\n",
    "print(display_dataframe)\n",
    "display_dataframe.to_csv(\"./queens_results/queens_forward_arc_cutting_on_last.csv\", sep=\";\")"
   ]
  },
  {
   "cell_type": "code",
   "execution_count": 15,
   "metadata": {},
   "outputs": [
    {
     "name": "stdout",
     "output_type": "stream",
     "text": [
      "         2729815 function calls (2358956 primitive calls) in 3.113 seconds\n",
      "\n",
      "   Ordered by: cumulative time\n",
      "\n",
      "   ncalls  tottime  percall  cumtime  percall filename:lineno(function)\n",
      "        1    0.000    0.000    3.094    3.094 c:\\Users\\alexi\\Documents\\GitHub\\projet_PPC\\backtrack\\backtrack_class.py:212(run_backtrack)\n",
      "  12413/1    0.161    0.000    3.094    3.094 c:\\Users\\alexi\\Documents\\GitHub\\projet_PPC\\backtrack\\backtrack_class.py:115(_backtrack)\n",
      "716894/358447    1.130    0.000    1.974    0.000 c:\\Users\\alexi\\Documents\\GitHub\\projet_PPC\\models\\csp.py:131(<lambda>)\n",
      "    12413    0.283    0.000    1.503    0.000 c:\\Users\\alexi\\Documents\\GitHub\\projet_PPC\\backtrack\\backtrack_class.py:73(_check_if_new_state_is_valid)\n",
      "    12412    0.464    0.000    1.360    0.000 c:\\Users\\alexi\\Documents\\GitHub\\projet_PPC\\backtrack\\forward_checking.py:6(forward_checking_current_state)\n",
      "   465054    0.407    0.000    0.613    0.000 c:\\Users\\alexi\\Documents\\GitHub\\projet_PPC\\models\\csp.py:121(<lambda>)\n",
      "   336964    0.157    0.000    0.157    0.000 c:\\Users\\alexi\\Documents\\GitHub\\projet_PPC\\instances\\n_queens.py:34(<lambda>)\n",
      "   320827    0.148    0.000    0.148    0.000 c:\\Users\\alexi\\Documents\\GitHub\\projet_PPC\\instances\\n_queens.py:45(<lambda>)\n",
      "   406528    0.143    0.000    0.143    0.000 {method 'get' of 'dict' objects}\n",
      "   358447    0.132    0.000    0.132    0.000 c:\\Users\\alexi\\Documents\\GitHub\\projet_PPC\\wrappers\\alldiff_wrapper.py:4(<lambda>)\n",
      "    12392    0.020    0.000    0.020    0.000 c:\\Users\\alexi\\Documents\\GitHub\\projet_PPC\\backtrack\\backtrack_class.py:103(_revert_shrinking_operations)\n",
      "        1    0.000    0.000    0.019    0.019 c:\\Users\\alexi\\Documents\\GitHub\\projet_PPC\\instances\\n_queens.py:6(n_queens_problem)\n",
      "        3    0.002    0.001    0.018    0.006 c:\\Users\\alexi\\Documents\\GitHub\\projet_PPC\\models\\csp.py:184(add_constraints_with_indices)\n",
      "      570    0.008    0.000    0.016    0.000 c:\\Users\\alexi\\Documents\\GitHub\\projet_PPC\\models\\csp.py:135(add_constraint)\n",
      "    12412    0.014    0.000    0.014    0.000 {method 'copy' of 'dict' objects}\n",
      "    32280    0.011    0.000    0.011    0.000 {built-in method builtins.len}\n",
      "     7367    0.008    0.000    0.010    0.000 c:\\Users\\alexi\\Documents\\GitHub\\projet_PPC\\backtrack\\variables_choosing_algorithms.py:7(naive_variable_choosing)\n",
      "     7367    0.009    0.000    0.009    0.000 c:\\Users\\alexi\\Documents\\GitHub\\projet_PPC\\backtrack\\values_ordering_algorithms.py:7(naive_values_ordering)\n",
      "    12412    0.009    0.000    0.009    0.000 {method 'update' of 'dict' objects}\n",
      "      570    0.003    0.000    0.004    0.000 c:\\Users\\alexi\\Documents\\GitHub\\projet_PPC\\models\\csp.py:57(_update_constrained_information_with_single_constraint)\n",
      "      760    0.002    0.000    0.002    0.000 c:\\Users\\alexi\\Documents\\GitHub\\projet_PPC\\models\\csp.py:125(_combine_two_constraints)\n",
      "      570    0.001    0.000    0.001    0.000 c:\\Users\\alexi\\Documents\\GitHub\\projet_PPC\\models\\csp.py:114(_swap_constraint)\n",
      "     1140    0.001    0.000    0.001    0.000 {method 'add' of 'set' objects}\n",
      "        1    0.000    0.000    0.000    0.000 c:\\Users\\alexi\\Documents\\GitHub\\projet_PPC\\instances\\n_queens.py:26(<dictcomp>)\n",
      "        1    0.000    0.000    0.000    0.000 c:\\Users\\alexi\\Documents\\GitHub\\projet_PPC\\instances\\n_queens.py:37(<dictcomp>)\n",
      "        1    0.000    0.000    0.000    0.000 c:\\Users\\alexi\\Documents\\GitHub\\projet_PPC\\instances\\n_queens.py:48(<dictcomp>)\n",
      "        1    0.000    0.000    0.000    0.000 c:\\Users\\alexi\\Documents\\GitHub\\projet_PPC\\models\\csp.py:42(__init__)\n",
      "        1    0.000    0.000    0.000    0.000 c:\\Users\\alexi\\Documents\\GitHub\\projet_PPC\\instances\\n_queens.py:20(<listcomp>)\n",
      "        1    0.000    0.000    0.000    0.000 c:\\Users\\alexi\\Documents\\GitHub\\projet_PPC\\backtrack\\backtrack_class.py:218(<listcomp>)\n",
      "        1    0.000    0.000    0.000    0.000 c:\\Users\\alexi\\Documents\\GitHub\\projet_PPC\\instances\\n_queens.py:18(<listcomp>)\n",
      "        1    0.000    0.000    0.000    0.000 c:\\Users\\alexi\\Documents\\GitHub\\projet_PPC\\models\\csp.py:65(<dictcomp>)\n",
      "        1    0.000    0.000    0.000    0.000 c:\\Users\\alexi\\Documents\\GitHub\\projet_PPC\\models\\csp.py:52(<dictcomp>)\n",
      "        1    0.000    0.000    0.000    0.000 c:\\Users\\alexi\\Documents\\GitHub\\projet_PPC\\models\\csp.py:73(_update_constrained_information_with_constraints)\n",
      "        1    0.000    0.000    0.000    0.000 C:\\Users\\alexi\\AppData\\Local\\Programs\\Python\\Python310\\lib\\cProfile.py:117(__exit__)\n",
      "        1    0.000    0.000    0.000    0.000 c:\\Users\\alexi\\Documents\\GitHub\\projet_PPC\\backtrack\\backtrack_class.py:60(reset_statistics_variables)\n",
      "        3    0.000    0.000    0.000    0.000 {method 'items' of 'dict' objects}\n",
      "        1    0.000    0.000    0.000    0.000 {method 'keys' of 'dict' objects}\n",
      "        1    0.000    0.000    0.000    0.000 c:\\Users\\alexi\\Documents\\GitHub\\projet_PPC\\backtrack\\backtrack_class.py:67(decision_leaf_evaluation)\n",
      "        1    0.000    0.000    0.000    0.000 {method 'disable' of '_lsprof.Profiler' objects}\n",
      "\n",
      "\n"
     ]
    },
    {
     "data": {
      "text/plain": [
       "<pstats.Stats at 0x16f1b2548b0>"
      ]
     },
     "execution_count": 15,
     "metadata": {},
     "output_type": "execute_result"
    }
   ],
   "source": [
    "import cProfile, pstats\n",
    "from instances import n_queens_problem\n",
    "from backtrack import BacktrackClass\n",
    "\n",
    "backtrack_object = BacktrackClass(use_forward_checking=True)\n",
    "n = 20\n",
    "\n",
    "with cProfile.Profile() as pr:\n",
    "    csp_queen = n_queens_problem(n=n)\n",
    "    result, state = backtrack_object.run_backtrack(csp_instance=csp_queen)\n",
    "stats = pstats.Stats(pr).sort_stats(\"cumtime\")\n",
    "stats.print_stats()\n"
   ]
  }
 ],
 "metadata": {
  "kernelspec": {
   "display_name": "Python 3.10.2 ('projet_PPC': venv)",
   "language": "python",
   "name": "python3"
  },
  "language_info": {
   "codemirror_mode": {
    "name": "ipython",
    "version": 3
   },
   "file_extension": ".py",
   "mimetype": "text/x-python",
   "name": "python",
   "nbconvert_exporter": "python",
   "pygments_lexer": "ipython3",
   "version": "3.10.2"
  },
  "orig_nbformat": 4,
  "vscode": {
   "interpreter": {
    "hash": "c0021910f745d5c1d4816958c5dc5b7f4254623e1a2c0d2037241731637929d6"
   }
  }
 },
 "nbformat": 4,
 "nbformat_minor": 2
}

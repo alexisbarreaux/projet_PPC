{
 "cells": [
  {
   "cell_type": "code",
   "execution_count": 3,
   "metadata": {},
   "outputs": [
    {
     "name": "stdout",
     "output_type": "stream",
     "text": [
      "<models.csp.CSP object at 0x000001738409F910>\n",
      "{('1_queen_col', '2_queen_col'): {(2, 4), (4, 1), (3, 1), (4, 2), (1, 4), (1, 3)}, ('1_queen_col', '3_queen_col'): {(1, 2), (2, 1), (3, 4), (4, 3), (1, 4), (2, 3), (3, 2), (4, 1)}, ('1_queen_col', '4_queen_col'): {(2, 4), (1, 2), (2, 1), (3, 4), (4, 3), (3, 1), (4, 2), (2, 3), (3, 2), (1, 3)}, ('2_queen_col', '3_queen_col'): {(2, 4), (4, 1), (3, 1), (4, 2), (1, 4), (1, 3)}, ('2_queen_col', '4_queen_col'): {(1, 2), (2, 1), (3, 4), (4, 3), (1, 4), (2, 3), (3, 2), (4, 1)}, ('3_queen_col', '4_queen_col'): {(2, 4), (4, 1), (3, 1), (4, 2), (1, 4), (1, 3)}}\n"
     ]
    }
   ],
   "source": [
    "from instances import n_queens_problem\n",
    "\n",
    "csp_queen = n_queens_problem(n=4)\n",
    "print(csp_queen)\n",
    "print(csp_queen.constraints)"
   ]
  }
 ],
 "metadata": {
  "kernelspec": {
   "display_name": "Python 3.10.2 ('projet_PPC': venv)",
   "language": "python",
   "name": "python3"
  },
  "language_info": {
   "codemirror_mode": {
    "name": "ipython",
    "version": 3
   },
   "file_extension": ".py",
   "mimetype": "text/x-python",
   "name": "python",
   "nbconvert_exporter": "python",
   "pygments_lexer": "ipython3",
   "version": "3.10.2"
  },
  "orig_nbformat": 4,
  "vscode": {
   "interpreter": {
    "hash": "c0021910f745d5c1d4816958c5dc5b7f4254623e1a2c0d2037241731637929d6"
   }
  }
 },
 "nbformat": 4,
 "nbformat_minor": 2
}

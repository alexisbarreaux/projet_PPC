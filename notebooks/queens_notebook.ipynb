{
 "cells": [
  {
   "cell_type": "code",
   "execution_count": 1,
   "metadata": {},
   "outputs": [
    {
     "name": "stdout",
     "output_type": "stream",
     "text": [
      "Variables:\n",
      "['1_col_queen', '2_col_queen', '3_col_queen', '4_col_queen']\n",
      "\n",
      "Domains:\n",
      "1_col_queen : [1, 2, 3, 4]\n",
      "2_col_queen : [1, 2, 3, 4]\n",
      "3_col_queen : [1, 2, 3, 4]\n",
      "4_col_queen : [1, 2, 3, 4]\n",
      "\n",
      "Constraints:\n",
      "('1_col_queen', '2_col_queen')  [(1, 3), (1, 4), (2, 4), (3, 1), (4, 1), (4, 2)].\n",
      "('2_col_queen', '1_col_queen')  [(1, 3), (1, 4), (2, 4), (3, 1), (4, 1), (4, 2)].\n",
      "('1_col_queen', '3_col_queen')  [(1, 2), (1, 4), (2, 1), (2, 3), (3, 2), (3, 4), (4, 1), (4, 3)].\n",
      "('3_col_queen', '1_col_queen')  [(1, 2), (1, 4), (2, 1), (2, 3), (3, 2), (3, 4), (4, 1), (4, 3)].\n",
      "('1_col_queen', '4_col_queen')  [(1, 2), (1, 3), (2, 1), (2, 3), (2, 4), (3, 1), (3, 2), (3, 4), (4, 2), (4, 3)].\n",
      "('4_col_queen', '1_col_queen')  [(1, 2), (1, 3), (2, 1), (2, 3), (2, 4), (3, 1), (3, 2), (3, 4), (4, 2), (4, 3)].\n",
      "('2_col_queen', '3_col_queen')  [(1, 3), (1, 4), (2, 4), (3, 1), (4, 1), (4, 2)].\n",
      "('3_col_queen', '2_col_queen')  [(1, 3), (1, 4), (2, 4), (3, 1), (4, 1), (4, 2)].\n",
      "('2_col_queen', '4_col_queen')  [(1, 2), (1, 4), (2, 1), (2, 3), (3, 2), (3, 4), (4, 1), (4, 3)].\n",
      "('4_col_queen', '2_col_queen')  [(1, 2), (1, 4), (2, 1), (2, 3), (3, 2), (3, 4), (4, 1), (4, 3)].\n",
      "('3_col_queen', '4_col_queen')  [(1, 3), (1, 4), (2, 4), (3, 1), (4, 1), (4, 2)].\n",
      "('4_col_queen', '3_col_queen')  [(1, 3), (1, 4), (2, 4), (3, 1), (4, 1), (4, 2)].\n",
      "\n",
      "Constrained by {0: {1, 2, 3}, 1: {0, 2, 3}, 2: {0, 1, 3}, 3: {0, 1, 2}}\n"
     ]
    }
   ],
   "source": [
    "from instances import n_queens_problem\n",
    "\n",
    "csp_queen = n_queens_problem(n=4)\n",
    "print(csp_queen)\n",
    "print(\"Constrained by\", csp_queen.variable_is_constrained_by)"
   ]
  },
  {
   "cell_type": "code",
   "execution_count": 1,
   "metadata": {},
   "outputs": [],
   "source": [
    "from instances import n_queens_problem\n",
    "from backtrack import BacktrackClass\n",
    "\n",
    "csp_queen = n_queens_problem(n=3)\n",
    "backtrack_object = BacktrackClass()\n",
    "result, state = backtrack_object.run_backtrack(csp_instance=csp_queen)\n",
    "assert(not result)\n"
   ]
  },
  {
   "cell_type": "code",
   "execution_count": 4,
   "metadata": {},
   "outputs": [],
   "source": [
    "from random import randint\n",
    "\n",
    "from instances import n_queens_problem\n",
    "from backtrack import BacktrackClass\n",
    "\n",
    "# Take a random value of size between 4 and 20\n",
    "n = randint(4,20)\n",
    "csp_queen = n_queens_problem(n=n)\n",
    "backtrack_object = BacktrackClass()\n",
    "result, state = backtrack_object.run_backtrack(csp_instance=csp_queen)\n",
    "assert(result)\n",
    "# With forward\n",
    "backtrack_object.use_forward_checking = True\n",
    "result, state = backtrack_object.run_backtrack(csp_instance=csp_queen)\n",
    "assert(result)"
   ]
  },
  {
   "cell_type": "code",
   "execution_count": 3,
   "metadata": {},
   "outputs": [
    {
     "name": "stdout",
     "output_type": "stream",
     "text": [
      "True {'1_col_queen': 1, '2_col_queen': 3, '3_col_queen': 5, '4_col_queen': 2, '5_col_queen': 4, '6_col_queen': 9, '7_col_queen': 11, '8_col_queen': 13, '9_col_queen': 15, '10_col_queen': 19, '11_col_queen': 21, '12_col_queen': 24, '13_col_queen': 20, '14_col_queen': 25, '15_col_queen': 23, '16_col_queen': 6, '17_col_queen': 8, '18_col_queen': 10, '19_col_queen': 7, '20_col_queen': 14, '21_col_queen': 16, '22_col_queen': 18, '23_col_queen': 12, '24_col_queen': 17, '25_col_queen': 22}\n"
     ]
    }
   ],
   "source": [
    "from instances import n_queens_problem\n",
    "from backtrack import BacktrackClass\n",
    "\n",
    "csp_queen = n_queens_problem(n=25)\n",
    "backtrack_object = BacktrackClass()\n",
    "result, state = backtrack_object.run_backtrack(csp_instance=csp_queen)\n",
    "print(result, state)\n",
    "assert(result)\n"
   ]
  },
  {
   "cell_type": "code",
   "execution_count": 3,
   "metadata": {},
   "outputs": [
    {
     "name": "stdout",
     "output_type": "stream",
     "text": [
      "Starting 3 queens\n",
      "{}\n",
      "Starting 6 queens\n",
      "Starting 9 queens\n",
      "Starting 12 queens\n",
      "Starting 15 queens\n",
      "Starting 18 queens\n",
      "Starting 21 queens\n",
      "Starting 24 queens\n",
      "    instance    nodes        time  result\n",
      "0   3 queens       19    0.000000   False\n",
      "1   6 queens      172    0.001993    True\n",
      "2   9 queens      334    0.009779    True\n",
      "3  12 queens     3067    0.106735    True\n",
      "4  15 queens    20281    0.349892    True\n",
      "5  18 queens   743230   13.701235    True\n",
      "6  21 queens   179593    3.390076    True\n",
      "7  24 queens  9878317  169.596425    True\n"
     ]
    }
   ],
   "source": [
    "from time import time\n",
    "\n",
    "import pandas as pd\n",
    "\n",
    "from instances import n_queens_problem\n",
    "from backtrack import BacktrackClass\n",
    "\n",
    "# Display setup\n",
    "columns = [\n",
    "    \"instance\",\n",
    "    \"nodes\",\n",
    "    \"time\",\n",
    "    \"result\",\n",
    "]\n",
    "display_dataframe = pd.DataFrame({column: [] for column in columns})\n",
    "\n",
    "max_size = 25\n",
    "backtrack_object = BacktrackClass()\n",
    "for n in range(3,max_size,3):\n",
    "    print(f\"Starting {n} queens\")\n",
    "    csp_queen = n_queens_problem(n=n)\n",
    "    start = time()\n",
    "    result, state = backtrack_object.run_backtrack(csp_instance=csp_queen)\n",
    "    if n == 3:\n",
    "        print(state)\n",
    "    # Adding to display\n",
    "    new_row = [\n",
    "        f\"{n} queens\",\n",
    "        backtrack_object.nodes,\n",
    "        time() - start,\n",
    "        result\n",
    "    ]\n",
    "    display_dataframe.loc[len(display_dataframe)] = new_row\n",
    "\n",
    "\n",
    "print(display_dataframe)\n",
    "display_dataframe.to_csv(\"queens_naive_1.csv\", sep=\";\")"
   ]
  },
  {
   "cell_type": "code",
   "execution_count": 1,
   "metadata": {},
   "outputs": [
    {
     "name": "stdout",
     "output_type": "stream",
     "text": [
      "Variables:\n",
      "['1_col_queen', '2_col_queen', '3_col_queen']\n",
      "\n",
      "Domains:\n",
      "1_col_queen : []\n",
      "2_col_queen : []\n",
      "3_col_queen : []\n",
      "\n",
      "Constraints:\n",
      "('1_col_queen', '2_col_queen')  [].\n",
      "('2_col_queen', '1_col_queen')  [].\n",
      "('1_col_queen', '3_col_queen')  [].\n",
      "('3_col_queen', '1_col_queen')  [].\n",
      "('2_col_queen', '3_col_queen')  [].\n",
      "('3_col_queen', '2_col_queen')  [].\n",
      "\n"
     ]
    }
   ],
   "source": [
    "from instances import n_queens_problem\n",
    "from backtrack import BacktrackClass, AC3_current_state\n",
    "\n",
    "csp_queen = n_queens_problem(n=3)\n",
    "AC3_current_state(csp_instance=csp_queen)\n",
    "print(csp_queen)\n",
    "# Should see empty domains for 3"
   ]
  },
  {
   "cell_type": "code",
   "execution_count": 8,
   "metadata": {},
   "outputs": [
    {
     "name": "stdout",
     "output_type": "stream",
     "text": [
      "Starting 100 queens\n"
     ]
    },
    {
     "ename": "KeyboardInterrupt",
     "evalue": "",
     "output_type": "error",
     "traceback": [
      "\u001b[1;31m---------------------------------------------------------------------------\u001b[0m",
      "\u001b[1;31mKeyboardInterrupt\u001b[0m                         Traceback (most recent call last)",
      "Cell \u001b[1;32mIn [8], line 27\u001b[0m\n\u001b[0;32m     25\u001b[0m csp_queen \u001b[39m=\u001b[39m n_queens_problem(n\u001b[39m=\u001b[39mn)\n\u001b[0;32m     26\u001b[0m start \u001b[39m=\u001b[39m time()\n\u001b[1;32m---> 27\u001b[0m result, state \u001b[39m=\u001b[39m backtrack_object\u001b[39m.\u001b[39;49mrun_backtrack(csp_instance\u001b[39m=\u001b[39;49mcsp_queen)\n\u001b[0;32m     29\u001b[0m \u001b[39m# Adding to display\u001b[39;00m\n\u001b[0;32m     30\u001b[0m new_row \u001b[39m=\u001b[39m [\u001b[39mf\u001b[39m\u001b[39m\"\u001b[39m\u001b[39m{\u001b[39;00mn\u001b[39m}\u001b[39;00m\u001b[39m queens\u001b[39m\u001b[39m\"\u001b[39m, backtrack_object\u001b[39m.\u001b[39mnodes, \u001b[39mround\u001b[39m(time() \u001b[39m-\u001b[39m start, \u001b[39m4\u001b[39m), result]\n",
      "File \u001b[1;32mc:\\Users\\alexi\\Documents\\GitHub\\projet_PPC\\backtrack\\backtrack_class.py:227\u001b[0m, in \u001b[0;36mBacktrackClass.run_backtrack\u001b[1;34m(self, csp_instance)\u001b[0m\n\u001b[0;32m    221\u001b[0m \u001b[39mself\u001b[39m\u001b[39m.\u001b[39mreset_statistics_variables()\n\u001b[0;32m    223\u001b[0m \u001b[39mself\u001b[39m\u001b[39m.\u001b[39mdomains_last_valid_index \u001b[39m=\u001b[39m [\n\u001b[0;32m    224\u001b[0m     \u001b[39mlen\u001b[39m(csp_instance\u001b[39m.\u001b[39mdomains[i]) \u001b[39m-\u001b[39m \u001b[39m1\u001b[39m \u001b[39mfor\u001b[39;00m i \u001b[39min\u001b[39;00m \u001b[39mrange\u001b[39m(\u001b[39mlen\u001b[39m(csp_instance\u001b[39m.\u001b[39mdomains))\n\u001b[0;32m    225\u001b[0m ]\n\u001b[1;32m--> 227\u001b[0m found_solution, indexes_state \u001b[39m=\u001b[39m \u001b[39mself\u001b[39;49m\u001b[39m.\u001b[39;49m_backtrack(\n\u001b[0;32m    228\u001b[0m     csp_instance\u001b[39m=\u001b[39;49mcsp_instance, state\u001b[39m=\u001b[39;49m\u001b[39mdict\u001b[39;49m()\n\u001b[0;32m    229\u001b[0m )\n\u001b[0;32m    230\u001b[0m readable_state \u001b[39m=\u001b[39m \u001b[39mdict\u001b[39m()\n\u001b[0;32m    231\u001b[0m \u001b[39mfor\u001b[39;00m index \u001b[39min\u001b[39;00m indexes_state:\n",
      "File \u001b[1;32mc:\\Users\\alexi\\Documents\\GitHub\\projet_PPC\\backtrack\\backtrack_class.py:200\u001b[0m, in \u001b[0;36mBacktrackClass._backtrack\u001b[1;34m(self, csp_instance, state, last_variable_index)\u001b[0m\n\u001b[0;32m    197\u001b[0m new_state \u001b[39m=\u001b[39m state\u001b[39m.\u001b[39mcopy()\n\u001b[0;32m    198\u001b[0m new_state\u001b[39m.\u001b[39mupdate({last_variable_index: new_variable_possible_value})\n\u001b[1;32m--> 200\u001b[0m child_result, child_state \u001b[39m=\u001b[39m \u001b[39mself\u001b[39;49m\u001b[39m.\u001b[39;49m_backtrack(\n\u001b[0;32m    201\u001b[0m     csp_instance\u001b[39m=\u001b[39;49mcsp_instance,\n\u001b[0;32m    202\u001b[0m     state\u001b[39m=\u001b[39;49mnew_state,\n\u001b[0;32m    203\u001b[0m     last_variable_index\u001b[39m=\u001b[39;49mlast_variable_index,\n\u001b[0;32m    204\u001b[0m )\n\u001b[0;32m    205\u001b[0m \u001b[39mif\u001b[39;00m child_result:\n\u001b[0;32m    206\u001b[0m     \u001b[39m# If a sub node has a solution, go back up and return true\u001b[39;00m\n\u001b[0;32m    207\u001b[0m     \u001b[39mreturn\u001b[39;00m \u001b[39mTrue\u001b[39;00m, child_state\n",
      "File \u001b[1;32mc:\\Users\\alexi\\Documents\\GitHub\\projet_PPC\\backtrack\\backtrack_class.py:200\u001b[0m, in \u001b[0;36mBacktrackClass._backtrack\u001b[1;34m(self, csp_instance, state, last_variable_index)\u001b[0m\n\u001b[0;32m    197\u001b[0m new_state \u001b[39m=\u001b[39m state\u001b[39m.\u001b[39mcopy()\n\u001b[0;32m    198\u001b[0m new_state\u001b[39m.\u001b[39mupdate({last_variable_index: new_variable_possible_value})\n\u001b[1;32m--> 200\u001b[0m child_result, child_state \u001b[39m=\u001b[39m \u001b[39mself\u001b[39;49m\u001b[39m.\u001b[39;49m_backtrack(\n\u001b[0;32m    201\u001b[0m     csp_instance\u001b[39m=\u001b[39;49mcsp_instance,\n\u001b[0;32m    202\u001b[0m     state\u001b[39m=\u001b[39;49mnew_state,\n\u001b[0;32m    203\u001b[0m     last_variable_index\u001b[39m=\u001b[39;49mlast_variable_index,\n\u001b[0;32m    204\u001b[0m )\n\u001b[0;32m    205\u001b[0m \u001b[39mif\u001b[39;00m child_result:\n\u001b[0;32m    206\u001b[0m     \u001b[39m# If a sub node has a solution, go back up and return true\u001b[39;00m\n\u001b[0;32m    207\u001b[0m     \u001b[39mreturn\u001b[39;00m \u001b[39mTrue\u001b[39;00m, child_state\n",
      "    \u001b[1;31m[... skipping similar frames: BacktrackClass._backtrack at line 200 (87 times)]\u001b[0m\n",
      "File \u001b[1;32mc:\\Users\\alexi\\Documents\\GitHub\\projet_PPC\\backtrack\\backtrack_class.py:200\u001b[0m, in \u001b[0;36mBacktrackClass._backtrack\u001b[1;34m(self, csp_instance, state, last_variable_index)\u001b[0m\n\u001b[0;32m    197\u001b[0m new_state \u001b[39m=\u001b[39m state\u001b[39m.\u001b[39mcopy()\n\u001b[0;32m    198\u001b[0m new_state\u001b[39m.\u001b[39mupdate({last_variable_index: new_variable_possible_value})\n\u001b[1;32m--> 200\u001b[0m child_result, child_state \u001b[39m=\u001b[39m \u001b[39mself\u001b[39;49m\u001b[39m.\u001b[39;49m_backtrack(\n\u001b[0;32m    201\u001b[0m     csp_instance\u001b[39m=\u001b[39;49mcsp_instance,\n\u001b[0;32m    202\u001b[0m     state\u001b[39m=\u001b[39;49mnew_state,\n\u001b[0;32m    203\u001b[0m     last_variable_index\u001b[39m=\u001b[39;49mlast_variable_index,\n\u001b[0;32m    204\u001b[0m )\n\u001b[0;32m    205\u001b[0m \u001b[39mif\u001b[39;00m child_result:\n\u001b[0;32m    206\u001b[0m     \u001b[39m# If a sub node has a solution, go back up and return true\u001b[39;00m\n\u001b[0;32m    207\u001b[0m     \u001b[39mreturn\u001b[39;00m \u001b[39mTrue\u001b[39;00m, child_state\n",
      "File \u001b[1;32mc:\\Users\\alexi\\Documents\\GitHub\\projet_PPC\\backtrack\\backtrack_class.py:180\u001b[0m, in \u001b[0;36mBacktrackClass._backtrack\u001b[1;34m(self, csp_instance, state, last_variable_index)\u001b[0m\n\u001b[0;32m    177\u001b[0m         \u001b[39mreturn\u001b[39;00m \u001b[39mFalse\u001b[39;00m, state\n\u001b[0;32m    179\u001b[0m \u001b[39m# Otherwise, choose a new variable to add to state\u001b[39;00m\n\u001b[1;32m--> 180\u001b[0m last_variable_index \u001b[39m=\u001b[39m \u001b[39mself\u001b[39;49m\u001b[39m.\u001b[39;49mnext_variable_choosing_method(\n\u001b[0;32m    181\u001b[0m     csp_instance\u001b[39m=\u001b[39;49mcsp_instance,\n\u001b[0;32m    182\u001b[0m     state\u001b[39m=\u001b[39;49mstate,\n\u001b[0;32m    183\u001b[0m     domains_last_valid_index\u001b[39m=\u001b[39;49m\u001b[39mself\u001b[39;49m\u001b[39m.\u001b[39;49mdomains_last_valid_index,\n\u001b[0;32m    184\u001b[0m )\n\u001b[0;32m    185\u001b[0m \u001b[39m# Compute the order in which to test the possible values\u001b[39;00m\n\u001b[0;32m    186\u001b[0m \u001b[39m# TODO handle the last variable index here better\u001b[39;00m\n\u001b[0;32m    187\u001b[0m new_variable_values_order \u001b[39m=\u001b[39m \u001b[39mself\u001b[39m\u001b[39m.\u001b[39mnext_values_ordering_method(\n\u001b[0;32m    188\u001b[0m     csp_instance\u001b[39m=\u001b[39mcsp_instance,\n\u001b[0;32m    189\u001b[0m     last_variable_index\u001b[39m=\u001b[39mlast_variable_index,\n\u001b[0;32m    190\u001b[0m     domain_last_valid_index\u001b[39m=\u001b[39m\u001b[39mself\u001b[39m\u001b[39m.\u001b[39mdomains_last_valid_index[last_variable_index],\n\u001b[0;32m    191\u001b[0m )\n",
      "File \u001b[1;32mc:\\Users\\alexi\\Documents\\GitHub\\projet_PPC\\backtrack\\variables_choosing_algorithms.py:31\u001b[0m, in \u001b[0;36msmallest_domain_variable_choosing\u001b[1;34m(csp_instance, state, domains_last_valid_index)\u001b[0m\n\u001b[0;32m     23\u001b[0m \u001b[39m\"\"\"\u001b[39;00m\n\u001b[0;32m     24\u001b[0m \u001b[39mHere, we choose the variable with the smallest domain to take next.\u001b[39;00m\n\u001b[0;32m     25\u001b[0m \u001b[39mreturn np.argmin(domains_sizes)\u001b[39;00m\n\u001b[0;32m     26\u001b[0m \u001b[39m\"\"\"\u001b[39;00m\n\u001b[0;32m     27\u001b[0m domains_sizes \u001b[39m=\u001b[39m [\n\u001b[0;32m     28\u001b[0m     domains_last_valid_index[i] \u001b[39mif\u001b[39;00m state\u001b[39m.\u001b[39mget(i, \u001b[39mNone\u001b[39;00m) \u001b[39mis\u001b[39;00m \u001b[39mNone\u001b[39;00m \u001b[39melse\u001b[39;00m math\u001b[39m.\u001b[39minf\n\u001b[0;32m     29\u001b[0m     \u001b[39mfor\u001b[39;00m i \u001b[39min\u001b[39;00m \u001b[39mrange\u001b[39m(\u001b[39mlen\u001b[39m(csp_instance\u001b[39m.\u001b[39mvariables))\n\u001b[0;32m     30\u001b[0m ]\n\u001b[1;32m---> 31\u001b[0m \u001b[39mreturn\u001b[39;00m np\u001b[39m.\u001b[39;49margmin(domains_sizes)\n",
      "File \u001b[1;32m<__array_function__ internals>:180\u001b[0m, in \u001b[0;36margmin\u001b[1;34m(*args, **kwargs)\u001b[0m\n",
      "File \u001b[1;32mc:\\Users\\alexi\\Documents\\GitHub\\projet_PPC\\lib\\site-packages\\numpy\\core\\fromnumeric.py:1312\u001b[0m, in \u001b[0;36margmin\u001b[1;34m(a, axis, out, keepdims)\u001b[0m\n\u001b[0;32m   1225\u001b[0m \u001b[39m\"\"\"\u001b[39;00m\n\u001b[0;32m   1226\u001b[0m \u001b[39mReturns the indices of the minimum values along an axis.\u001b[39;00m\n\u001b[0;32m   1227\u001b[0m \n\u001b[1;32m   (...)\u001b[0m\n\u001b[0;32m   1309\u001b[0m \u001b[39m(2, 1, 4)\u001b[39;00m\n\u001b[0;32m   1310\u001b[0m \u001b[39m\"\"\"\u001b[39;00m\n\u001b[0;32m   1311\u001b[0m kwds \u001b[39m=\u001b[39m {\u001b[39m'\u001b[39m\u001b[39mkeepdims\u001b[39m\u001b[39m'\u001b[39m: keepdims} \u001b[39mif\u001b[39;00m keepdims \u001b[39mis\u001b[39;00m \u001b[39mnot\u001b[39;00m np\u001b[39m.\u001b[39m_NoValue \u001b[39melse\u001b[39;00m {}\n\u001b[1;32m-> 1312\u001b[0m \u001b[39mreturn\u001b[39;00m _wrapfunc(a, \u001b[39m'\u001b[39m\u001b[39margmin\u001b[39m\u001b[39m'\u001b[39m, axis\u001b[39m=\u001b[39maxis, out\u001b[39m=\u001b[39mout, \u001b[39m*\u001b[39m\u001b[39m*\u001b[39mkwds)\n",
      "File \u001b[1;32mc:\\Users\\alexi\\Documents\\GitHub\\projet_PPC\\lib\\site-packages\\numpy\\core\\fromnumeric.py:54\u001b[0m, in \u001b[0;36m_wrapfunc\u001b[1;34m(obj, method, *args, **kwds)\u001b[0m\n\u001b[0;32m     52\u001b[0m bound \u001b[39m=\u001b[39m \u001b[39mgetattr\u001b[39m(obj, method, \u001b[39mNone\u001b[39;00m)\n\u001b[0;32m     53\u001b[0m \u001b[39mif\u001b[39;00m bound \u001b[39mis\u001b[39;00m \u001b[39mNone\u001b[39;00m:\n\u001b[1;32m---> 54\u001b[0m     \u001b[39mreturn\u001b[39;00m _wrapit(obj, method, \u001b[39m*\u001b[39margs, \u001b[39m*\u001b[39m\u001b[39m*\u001b[39mkwds)\n\u001b[0;32m     56\u001b[0m \u001b[39mtry\u001b[39;00m:\n\u001b[0;32m     57\u001b[0m     \u001b[39mreturn\u001b[39;00m bound(\u001b[39m*\u001b[39margs, \u001b[39m*\u001b[39m\u001b[39m*\u001b[39mkwds)\n",
      "File \u001b[1;32mc:\\Users\\alexi\\Documents\\GitHub\\projet_PPC\\lib\\site-packages\\numpy\\core\\fromnumeric.py:43\u001b[0m, in \u001b[0;36m_wrapit\u001b[1;34m(obj, method, *args, **kwds)\u001b[0m\n\u001b[0;32m     41\u001b[0m \u001b[39mexcept\u001b[39;00m \u001b[39mAttributeError\u001b[39;00m:\n\u001b[0;32m     42\u001b[0m     wrap \u001b[39m=\u001b[39m \u001b[39mNone\u001b[39;00m\n\u001b[1;32m---> 43\u001b[0m result \u001b[39m=\u001b[39m \u001b[39mgetattr\u001b[39m(asarray(obj), method)(\u001b[39m*\u001b[39margs, \u001b[39m*\u001b[39m\u001b[39m*\u001b[39mkwds)\n\u001b[0;32m     44\u001b[0m \u001b[39mif\u001b[39;00m wrap:\n\u001b[0;32m     45\u001b[0m     \u001b[39mif\u001b[39;00m \u001b[39mnot\u001b[39;00m \u001b[39misinstance\u001b[39m(result, mu\u001b[39m.\u001b[39mndarray):\n",
      "\u001b[1;31mKeyboardInterrupt\u001b[0m: "
     ]
    }
   ],
   "source": [
    "from time import time\n",
    "\n",
    "import pandas as pd\n",
    "\n",
    "from instances import n_queens_problem\n",
    "from backtrack import BacktrackClass\n",
    "from backtrack.variables_choosing_algorithms import smallest_domain_variable_choosing\n",
    "\n",
    "# Display setup\n",
    "columns = [\n",
    "    \"instance\",\n",
    "    \"nodes\",\n",
    "    \"time\",\n",
    "    \"result\",\n",
    "]\n",
    "display_dataframe = pd.DataFrame({column: [] for column in columns})\n",
    "\n",
    "max_size = 60\n",
    "backtrack_object = BacktrackClass(\n",
    "    use_forward_checking=True,\n",
    "    next_variable_choosing_method=smallest_domain_variable_choosing,\n",
    ")  # , use_arc_consistency=True)\n",
    "for n in range(3, max_size, 1):\n",
    "    print(f\"Starting {n} queens\")\n",
    "    csp_queen = n_queens_problem(n=n)\n",
    "    start = time()\n",
    "    result, state = backtrack_object.run_backtrack(csp_instance=csp_queen)\n",
    "\n",
    "    # Adding to display\n",
    "    new_row = [f\"{n} queens\", backtrack_object.nodes, round(time() - start, 4), result]\n",
    "    display_dataframe.loc[len(display_dataframe)] = new_row\n",
    "\n",
    "\n",
    "print(display_dataframe)\n",
    "display_dataframe.to_csv(\"./queens_results/queens_forward_smallest_domain_2.csv\", sep=\";\")"
   ]
  },
  {
   "cell_type": "code",
   "execution_count": 15,
   "metadata": {},
   "outputs": [
    {
     "name": "stdout",
     "output_type": "stream",
     "text": [
      "         2729815 function calls (2358956 primitive calls) in 3.113 seconds\n",
      "\n",
      "   Ordered by: cumulative time\n",
      "\n",
      "   ncalls  tottime  percall  cumtime  percall filename:lineno(function)\n",
      "        1    0.000    0.000    3.094    3.094 c:\\Users\\alexi\\Documents\\GitHub\\projet_PPC\\backtrack\\backtrack_class.py:212(run_backtrack)\n",
      "  12413/1    0.161    0.000    3.094    3.094 c:\\Users\\alexi\\Documents\\GitHub\\projet_PPC\\backtrack\\backtrack_class.py:115(_backtrack)\n",
      "716894/358447    1.130    0.000    1.974    0.000 c:\\Users\\alexi\\Documents\\GitHub\\projet_PPC\\models\\csp.py:131(<lambda>)\n",
      "    12413    0.283    0.000    1.503    0.000 c:\\Users\\alexi\\Documents\\GitHub\\projet_PPC\\backtrack\\backtrack_class.py:73(_check_if_new_state_is_valid)\n",
      "    12412    0.464    0.000    1.360    0.000 c:\\Users\\alexi\\Documents\\GitHub\\projet_PPC\\backtrack\\forward_checking.py:6(forward_checking_current_state)\n",
      "   465054    0.407    0.000    0.613    0.000 c:\\Users\\alexi\\Documents\\GitHub\\projet_PPC\\models\\csp.py:121(<lambda>)\n",
      "   336964    0.157    0.000    0.157    0.000 c:\\Users\\alexi\\Documents\\GitHub\\projet_PPC\\instances\\n_queens.py:34(<lambda>)\n",
      "   320827    0.148    0.000    0.148    0.000 c:\\Users\\alexi\\Documents\\GitHub\\projet_PPC\\instances\\n_queens.py:45(<lambda>)\n",
      "   406528    0.143    0.000    0.143    0.000 {method 'get' of 'dict' objects}\n",
      "   358447    0.132    0.000    0.132    0.000 c:\\Users\\alexi\\Documents\\GitHub\\projet_PPC\\wrappers\\alldiff_wrapper.py:4(<lambda>)\n",
      "    12392    0.020    0.000    0.020    0.000 c:\\Users\\alexi\\Documents\\GitHub\\projet_PPC\\backtrack\\backtrack_class.py:103(_revert_shrinking_operations)\n",
      "        1    0.000    0.000    0.019    0.019 c:\\Users\\alexi\\Documents\\GitHub\\projet_PPC\\instances\\n_queens.py:6(n_queens_problem)\n",
      "        3    0.002    0.001    0.018    0.006 c:\\Users\\alexi\\Documents\\GitHub\\projet_PPC\\models\\csp.py:184(add_constraints_with_indices)\n",
      "      570    0.008    0.000    0.016    0.000 c:\\Users\\alexi\\Documents\\GitHub\\projet_PPC\\models\\csp.py:135(add_constraint)\n",
      "    12412    0.014    0.000    0.014    0.000 {method 'copy' of 'dict' objects}\n",
      "    32280    0.011    0.000    0.011    0.000 {built-in method builtins.len}\n",
      "     7367    0.008    0.000    0.010    0.000 c:\\Users\\alexi\\Documents\\GitHub\\projet_PPC\\backtrack\\variables_choosing_algorithms.py:7(naive_variable_choosing)\n",
      "     7367    0.009    0.000    0.009    0.000 c:\\Users\\alexi\\Documents\\GitHub\\projet_PPC\\backtrack\\values_ordering_algorithms.py:7(naive_values_ordering)\n",
      "    12412    0.009    0.000    0.009    0.000 {method 'update' of 'dict' objects}\n",
      "      570    0.003    0.000    0.004    0.000 c:\\Users\\alexi\\Documents\\GitHub\\projet_PPC\\models\\csp.py:57(_update_constrained_information_with_single_constraint)\n",
      "      760    0.002    0.000    0.002    0.000 c:\\Users\\alexi\\Documents\\GitHub\\projet_PPC\\models\\csp.py:125(_combine_two_constraints)\n",
      "      570    0.001    0.000    0.001    0.000 c:\\Users\\alexi\\Documents\\GitHub\\projet_PPC\\models\\csp.py:114(_swap_constraint)\n",
      "     1140    0.001    0.000    0.001    0.000 {method 'add' of 'set' objects}\n",
      "        1    0.000    0.000    0.000    0.000 c:\\Users\\alexi\\Documents\\GitHub\\projet_PPC\\instances\\n_queens.py:26(<dictcomp>)\n",
      "        1    0.000    0.000    0.000    0.000 c:\\Users\\alexi\\Documents\\GitHub\\projet_PPC\\instances\\n_queens.py:37(<dictcomp>)\n",
      "        1    0.000    0.000    0.000    0.000 c:\\Users\\alexi\\Documents\\GitHub\\projet_PPC\\instances\\n_queens.py:48(<dictcomp>)\n",
      "        1    0.000    0.000    0.000    0.000 c:\\Users\\alexi\\Documents\\GitHub\\projet_PPC\\models\\csp.py:42(__init__)\n",
      "        1    0.000    0.000    0.000    0.000 c:\\Users\\alexi\\Documents\\GitHub\\projet_PPC\\instances\\n_queens.py:20(<listcomp>)\n",
      "        1    0.000    0.000    0.000    0.000 c:\\Users\\alexi\\Documents\\GitHub\\projet_PPC\\backtrack\\backtrack_class.py:218(<listcomp>)\n",
      "        1    0.000    0.000    0.000    0.000 c:\\Users\\alexi\\Documents\\GitHub\\projet_PPC\\instances\\n_queens.py:18(<listcomp>)\n",
      "        1    0.000    0.000    0.000    0.000 c:\\Users\\alexi\\Documents\\GitHub\\projet_PPC\\models\\csp.py:65(<dictcomp>)\n",
      "        1    0.000    0.000    0.000    0.000 c:\\Users\\alexi\\Documents\\GitHub\\projet_PPC\\models\\csp.py:52(<dictcomp>)\n",
      "        1    0.000    0.000    0.000    0.000 c:\\Users\\alexi\\Documents\\GitHub\\projet_PPC\\models\\csp.py:73(_update_constrained_information_with_constraints)\n",
      "        1    0.000    0.000    0.000    0.000 C:\\Users\\alexi\\AppData\\Local\\Programs\\Python\\Python310\\lib\\cProfile.py:117(__exit__)\n",
      "        1    0.000    0.000    0.000    0.000 c:\\Users\\alexi\\Documents\\GitHub\\projet_PPC\\backtrack\\backtrack_class.py:60(reset_statistics_variables)\n",
      "        3    0.000    0.000    0.000    0.000 {method 'items' of 'dict' objects}\n",
      "        1    0.000    0.000    0.000    0.000 {method 'keys' of 'dict' objects}\n",
      "        1    0.000    0.000    0.000    0.000 c:\\Users\\alexi\\Documents\\GitHub\\projet_PPC\\backtrack\\backtrack_class.py:67(decision_leaf_evaluation)\n",
      "        1    0.000    0.000    0.000    0.000 {method 'disable' of '_lsprof.Profiler' objects}\n",
      "\n",
      "\n"
     ]
    },
    {
     "data": {
      "text/plain": [
       "<pstats.Stats at 0x16f1b2548b0>"
      ]
     },
     "execution_count": 15,
     "metadata": {},
     "output_type": "execute_result"
    }
   ],
   "source": [
    "import cProfile, pstats\n",
    "from instances import n_queens_problem\n",
    "from backtrack import BacktrackClass\n",
    "\n",
    "backtrack_object = BacktrackClass(use_forward_checking=True)\n",
    "n = 20\n",
    "\n",
    "with cProfile.Profile() as pr:\n",
    "    csp_queen = n_queens_problem(n=n)\n",
    "    result, state = backtrack_object.run_backtrack(csp_instance=csp_queen)\n",
    "stats = pstats.Stats(pr).sort_stats(\"cumtime\")\n",
    "stats.print_stats()\n"
   ]
  },
  {
   "cell_type": "code",
   "execution_count": 1,
   "metadata": {},
   "outputs": [
    {
     "name": "stdout",
     "output_type": "stream",
     "text": [
      "AAAA\n",
      "HERERE\n",
      "[4, 4, 4, 4, 4]\n",
      "HERERE\n",
      "[inf, 2, 2, 2, 2]\n",
      "HERERE\n",
      "[inf, inf, 0, 0, 1]\n",
      "HERERE\n",
      "[inf, inf, 0, 1, 1]\n",
      "HERERE\n",
      "[inf, inf, inf, 0, 0]\n",
      "HERERE\n",
      "[inf, inf, inf, inf, 0]\n",
      "True {'1_col_queen': 1, '2_col_queen': 4, '3_col_queen': 2, '4_col_queen': 5, '5_col_queen': 3}\n"
     ]
    }
   ],
   "source": [
    "from time import time\n",
    "\n",
    "\n",
    "from instances import n_queens_problem\n",
    "from backtrack import BacktrackClass\n",
    "from backtrack.variables_choosing_algorithms import smallest_domain_variable_choosing, naive_variable_choosing\n",
    "print(\"AAAA\")\n",
    "n = 5\n",
    "backtrack_object = BacktrackClass(\n",
    "    use_forward_checking=True,\n",
    "    next_variable_choosing_method=smallest_domain_variable_choosing,\n",
    ")  # , use_arc_consistency=True)\n",
    "\n",
    "csp_queen = n_queens_problem(n=n)\n",
    "result, state = backtrack_object.run_backtrack(csp_instance=csp_queen)\n",
    "print(result, state)\n"
   ]
  }
 ],
 "metadata": {
  "kernelspec": {
   "display_name": "Python 3.10.2 ('projet_PPC': venv)",
   "language": "python",
   "name": "python3"
  },
  "language_info": {
   "codemirror_mode": {
    "name": "ipython",
    "version": 3
   },
   "file_extension": ".py",
   "mimetype": "text/x-python",
   "name": "python",
   "nbconvert_exporter": "python",
   "pygments_lexer": "ipython3",
   "version": "3.10.2"
  },
  "orig_nbformat": 4,
  "vscode": {
   "interpreter": {
    "hash": "c0021910f745d5c1d4816958c5dc5b7f4254623e1a2c0d2037241731637929d6"
   }
  }
 },
 "nbformat": 4,
 "nbformat_minor": 2
}

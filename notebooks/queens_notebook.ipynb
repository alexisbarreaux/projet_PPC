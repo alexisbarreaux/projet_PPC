{
 "cells": [
  {
   "cell_type": "code",
   "execution_count": 2,
   "metadata": {},
   "outputs": [
    {
     "name": "stdout",
     "output_type": "stream",
     "text": [
      "Variables:\n",
      "['1_col_queen', '2_col_queen', '3_col_queen', '4_col_queen']\n",
      "\n",
      "Domains:\n",
      "1_col_queen : [1, 2, 3, 4]\n",
      "2_col_queen : [1, 2, 3, 4]\n",
      "3_col_queen : [1, 2, 3, 4]\n",
      "4_col_queen : [1, 2, 3, 4]\n",
      "\n",
      "Constraints:\n",
      "('1_col_queen', '2_col_queen')  [(1, 3), (1, 4), (2, 4), (3, 1), (4, 1), (4, 2)].\n",
      "('2_col_queen', '1_col_queen')  [(1, 3), (1, 4), (2, 4), (3, 1), (4, 1), (4, 2)].\n",
      "('1_col_queen', '3_col_queen')  [(1, 2), (1, 4), (2, 1), (2, 3), (3, 2), (3, 4), (4, 1), (4, 3)].\n",
      "('3_col_queen', '1_col_queen')  [(1, 2), (1, 4), (2, 1), (2, 3), (3, 2), (3, 4), (4, 1), (4, 3)].\n",
      "('1_col_queen', '4_col_queen')  [(1, 2), (1, 3), (2, 1), (2, 3), (2, 4), (3, 1), (3, 2), (3, 4), (4, 2), (4, 3)].\n",
      "('4_col_queen', '1_col_queen')  [(1, 2), (1, 3), (2, 1), (2, 3), (2, 4), (3, 1), (3, 2), (3, 4), (4, 2), (4, 3)].\n",
      "('2_col_queen', '3_col_queen')  [(1, 3), (1, 4), (2, 4), (3, 1), (4, 1), (4, 2)].\n",
      "('3_col_queen', '2_col_queen')  [(1, 3), (1, 4), (2, 4), (3, 1), (4, 1), (4, 2)].\n",
      "('2_col_queen', '4_col_queen')  [(1, 2), (1, 4), (2, 1), (2, 3), (3, 2), (3, 4), (4, 1), (4, 3)].\n",
      "('4_col_queen', '2_col_queen')  [(1, 2), (1, 4), (2, 1), (2, 3), (3, 2), (3, 4), (4, 1), (4, 3)].\n",
      "('3_col_queen', '4_col_queen')  [(1, 3), (1, 4), (2, 4), (3, 1), (4, 1), (4, 2)].\n",
      "('4_col_queen', '3_col_queen')  [(1, 3), (1, 4), (2, 4), (3, 1), (4, 1), (4, 2)].\n",
      "\n",
      "Constrained by {0: {1, 2, 3}, 1: {0, 2, 3}, 2: {0, 1, 3}, 3: {0, 1, 2}}\n"
     ]
    }
   ],
   "source": [
    "from instances import n_queens_problem\n",
    "\n",
    "csp_queen = n_queens_problem(n=4)\n",
    "print(csp_queen)\n",
    "print(\"Constrained by\", csp_queen.variable_is_constrained_by)"
   ]
  },
  {
   "cell_type": "code",
   "execution_count": 1,
   "metadata": {},
   "outputs": [],
   "source": [
    "from instances import n_queens_problem\n",
    "from backtrack import BacktrackClass\n",
    "\n",
    "csp_queen = n_queens_problem(n=3)\n",
    "backtrack_object = BacktrackClass()\n",
    "result, state = backtrack_object.run_backtrack(csp_instance=csp_queen)\n",
    "assert(not result)\n"
   ]
  },
  {
   "cell_type": "code",
   "execution_count": 4,
   "metadata": {},
   "outputs": [],
   "source": [
    "from random import randint\n",
    "\n",
    "from instances import n_queens_problem\n",
    "from backtrack import BacktrackClass\n",
    "\n",
    "# Take a random value of size between 4 and 20\n",
    "n = randint(4,20)\n",
    "csp_queen = n_queens_problem(n=n)\n",
    "backtrack_object = BacktrackClass()\n",
    "result, state = backtrack_object.run_backtrack(csp_instance=csp_queen)\n",
    "assert(result)\n",
    "# With forward\n",
    "backtrack_object.use_forward_checking = True\n",
    "result, state = backtrack_object.run_backtrack(csp_instance=csp_queen)\n",
    "assert(result)"
   ]
  },
  {
   "cell_type": "code",
   "execution_count": 3,
   "metadata": {},
   "outputs": [
    {
     "name": "stdout",
     "output_type": "stream",
     "text": [
      "True {'1_col_queen': 1, '2_col_queen': 3, '3_col_queen': 5, '4_col_queen': 2, '5_col_queen': 4, '6_col_queen': 9, '7_col_queen': 11, '8_col_queen': 13, '9_col_queen': 15, '10_col_queen': 19, '11_col_queen': 21, '12_col_queen': 24, '13_col_queen': 20, '14_col_queen': 25, '15_col_queen': 23, '16_col_queen': 6, '17_col_queen': 8, '18_col_queen': 10, '19_col_queen': 7, '20_col_queen': 14, '21_col_queen': 16, '22_col_queen': 18, '23_col_queen': 12, '24_col_queen': 17, '25_col_queen': 22}\n"
     ]
    }
   ],
   "source": [
    "from instances import n_queens_problem\n",
    "from backtrack import BacktrackClass\n",
    "\n",
    "csp_queen = n_queens_problem(n=25)\n",
    "backtrack_object = BacktrackClass()\n",
    "result, state = backtrack_object.run_backtrack(csp_instance=csp_queen)\n",
    "print(result, state)\n",
    "assert(result)\n"
   ]
  },
  {
   "cell_type": "code",
   "execution_count": 3,
   "metadata": {},
   "outputs": [
    {
     "name": "stdout",
     "output_type": "stream",
     "text": [
      "Starting 3 queens\n",
      "{}\n",
      "Starting 6 queens\n",
      "Starting 9 queens\n",
      "Starting 12 queens\n",
      "Starting 15 queens\n",
      "Starting 18 queens\n",
      "Starting 21 queens\n",
      "Starting 24 queens\n",
      "    instance    nodes        time  result\n",
      "0   3 queens       19    0.000000   False\n",
      "1   6 queens      172    0.001993    True\n",
      "2   9 queens      334    0.009779    True\n",
      "3  12 queens     3067    0.106735    True\n",
      "4  15 queens    20281    0.349892    True\n",
      "5  18 queens   743230   13.701235    True\n",
      "6  21 queens   179593    3.390076    True\n",
      "7  24 queens  9878317  169.596425    True\n"
     ]
    }
   ],
   "source": [
    "from time import time\n",
    "\n",
    "import pandas as pd\n",
    "\n",
    "from instances import n_queens_problem\n",
    "from backtrack import BacktrackClass\n",
    "\n",
    "# Display setup\n",
    "columns = [\n",
    "    \"instance\",\n",
    "    \"nodes\",\n",
    "    \"time\",\n",
    "    \"result\",\n",
    "]\n",
    "display_dataframe = pd.DataFrame({column: [] for column in columns})\n",
    "\n",
    "max_size = 25\n",
    "backtrack_object = BacktrackClass()\n",
    "for n in range(3,max_size,3):\n",
    "    print(f\"Starting {n} queens\")\n",
    "    csp_queen = n_queens_problem(n=n)\n",
    "    start = time()\n",
    "    result, state = backtrack_object.run_backtrack(csp_instance=csp_queen)\n",
    "    if n == 3:\n",
    "        print(state)\n",
    "    # Adding to display\n",
    "    new_row = [\n",
    "        f\"{n} queens\",\n",
    "        backtrack_object.nodes,\n",
    "        time() - start,\n",
    "        result\n",
    "    ]\n",
    "    display_dataframe.loc[len(display_dataframe)] = new_row\n",
    "\n",
    "\n",
    "print(display_dataframe)\n",
    "display_dataframe.to_csv(\"queens_naive_1.csv\", sep=\";\")"
   ]
  },
  {
   "cell_type": "code",
   "execution_count": 1,
   "metadata": {},
   "outputs": [
    {
     "name": "stdout",
     "output_type": "stream",
     "text": [
      "Variables:\n",
      "['1_col_queen', '2_col_queen', '3_col_queen']\n",
      "\n",
      "Domains:\n",
      "1_col_queen : []\n",
      "2_col_queen : []\n",
      "3_col_queen : []\n",
      "\n",
      "Constraints:\n",
      "('1_col_queen', '2_col_queen')  [].\n",
      "('2_col_queen', '1_col_queen')  [].\n",
      "('1_col_queen', '3_col_queen')  [].\n",
      "('3_col_queen', '1_col_queen')  [].\n",
      "('2_col_queen', '3_col_queen')  [].\n",
      "('3_col_queen', '2_col_queen')  [].\n",
      "\n"
     ]
    }
   ],
   "source": [
    "from instances import n_queens_problem\n",
    "from backtrack import BacktrackClass, AC3_current_state\n",
    "\n",
    "csp_queen = n_queens_problem(n=3)\n",
    "AC3_current_state(csp_instance=csp_queen)\n",
    "print(csp_queen)\n",
    "# Should see empty domains for 3"
   ]
  },
  {
   "cell_type": "code",
   "execution_count": 2,
   "metadata": {},
   "outputs": [
    {
     "name": "stdout",
     "output_type": "stream",
     "text": [
      "Starting 3 queens\n",
      "Starting 4 queens\n",
      "Starting 5 queens\n",
      "Starting 6 queens\n",
      "Starting 7 queens\n",
      "Starting 8 queens\n",
      "Starting 9 queens\n",
      "Starting 10 queens\n",
      "Starting 11 queens\n",
      "Starting 12 queens\n",
      "Starting 13 queens\n",
      "Starting 14 queens\n",
      "Starting 15 queens\n",
      "Starting 16 queens\n",
      "Starting 17 queens\n",
      "Starting 18 queens\n",
      "Starting 19 queens\n",
      "Starting 20 queens\n",
      "Starting 21 queens\n",
      "Starting 22 queens\n",
      "Starting 23 queens\n",
      "Starting 24 queens\n",
      "Starting 25 queens\n",
      "Starting 26 queens\n",
      "Starting 27 queens\n",
      "Starting 28 queens\n",
      "Starting 29 queens\n",
      "Starting 30 queens\n",
      "     instance   nodes    time  result\n",
      "0    3 queens       6  0.0000   False\n",
      "1    4 queens       9  0.0000    True\n",
      "2    5 queens       8  0.0000    True\n",
      "3    6 queens      42  0.0010    True\n",
      "4    7 queens      20  0.0010    True\n",
      "5    8 queens      46  0.0050    True\n",
      "6    9 queens     100  0.0030    True\n",
      "7   10 queens     125  0.0060    True\n",
      "8   11 queens     383  0.0210    True\n",
      "9   12 queens     409  0.0140    True\n",
      "10  13 queens     530  0.0170    True\n",
      "11  14 queens     928  0.0220    True\n",
      "12  15 queens     184  0.0040    True\n",
      "13  16 queens     510  0.0110    True\n",
      "14  17 queens    2579  0.0550    True\n",
      "15  18 queens     589  0.0140    True\n",
      "16  19 queens     811  0.0210    True\n",
      "17  20 queens   12413  0.3845    True\n",
      "18  21 queens    1875  0.0610    True\n",
      "19  22 queens    5598  0.2020    True\n",
      "20  23 queens   12188  0.4586    True\n",
      "21  24 queens   24332  0.7643    True\n",
      "22  25 queens  106360  5.8798    True\n",
      "23  26 queens   32829  1.3000    True\n",
      "24  27 queens  130891  5.4656    True\n",
      "25  28 queens   47819  2.1702    True\n",
      "26  29 queens  222659  8.9647    True\n",
      "27  30 queens  155465  8.3105    True\n"
     ]
    }
   ],
   "source": [
    "from time import time\n",
    "\n",
    "import pandas as pd\n",
    "\n",
    "from instances import n_queens_problem\n",
    "from backtrack import BacktrackClass\n",
    "\n",
    "# Display setup\n",
    "columns = [\n",
    "    \"instance\",\n",
    "    \"nodes\",\n",
    "    \"time\",\n",
    "    \"result\",\n",
    "]\n",
    "display_dataframe = pd.DataFrame({column: [] for column in columns})\n",
    "\n",
    "max_size = 31\n",
    "backtrack_object = BacktrackClass(use_forward_checking=True)\n",
    "for n in range(3,max_size,1):\n",
    "    print(f\"Starting {n} queens\")\n",
    "    csp_queen = n_queens_problem(n=n)\n",
    "    start = time()\n",
    "    result, state = backtrack_object.run_backtrack(csp_instance=csp_queen)\n",
    "\n",
    "    # Adding to display\n",
    "    new_row = [\n",
    "        f\"{n} queens\",\n",
    "        backtrack_object.nodes,\n",
    "        round(time() - start, 4),\n",
    "        result\n",
    "    ]\n",
    "    display_dataframe.loc[len(display_dataframe)] = new_row\n",
    "\n",
    "\n",
    "print(display_dataframe)\n",
    "display_dataframe.to_csv(\"queens_forward_v2_2.csv\", sep=\";\")"
   ]
  }
 ],
 "metadata": {
  "kernelspec": {
   "display_name": "Python 3.10.2 ('projet_PPC': venv)",
   "language": "python",
   "name": "python3"
  },
  "language_info": {
   "codemirror_mode": {
    "name": "ipython",
    "version": 3
   },
   "file_extension": ".py",
   "mimetype": "text/x-python",
   "name": "python",
   "nbconvert_exporter": "python",
   "pygments_lexer": "ipython3",
   "version": "3.10.2"
  },
  "orig_nbformat": 4,
  "vscode": {
   "interpreter": {
    "hash": "c0021910f745d5c1d4816958c5dc5b7f4254623e1a2c0d2037241731637929d6"
   }
  }
 },
 "nbformat": 4,
 "nbformat_minor": 2
}

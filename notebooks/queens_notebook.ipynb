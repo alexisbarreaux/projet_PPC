{
      "cells": [
            {
                  "cell_type": "code",
                  "execution_count": 1,
                  "metadata": {},
                  "outputs": [
                        {
                              "name": "stdout",
                              "output_type": "stream",
                              "text": [
                                    "Variables:\n",
                                    "['1_col_queen', '2_col_queen', '3_col_queen', '4_col_queen']\n",
                                    "\n",
                                    "Domains:\n",
                                    "1_col_queen : [1, 2, 3, 4]\n",
                                    "2_col_queen : [1, 2, 3, 4]\n",
                                    "3_col_queen : [1, 2, 3, 4]\n",
                                    "4_col_queen : [1, 2, 3, 4]\n",
                                    "\n",
                                    "Constraints:\n",
                                    "('1_col_queen', '2_col_queen')  [(1, 3), (1, 4), (2, 4), (3, 1), (4, 1), (4, 2)].\n",
                                    "('2_col_queen', '1_col_queen')  [(1, 3), (1, 4), (2, 4), (3, 1), (4, 1), (4, 2)].\n",
                                    "('1_col_queen', '3_col_queen')  [(1, 2), (1, 4), (2, 1), (2, 3), (3, 2), (3, 4), (4, 1), (4, 3)].\n",
                                    "('3_col_queen', '1_col_queen')  [(1, 2), (1, 4), (2, 1), (2, 3), (3, 2), (3, 4), (4, 1), (4, 3)].\n",
                                    "('1_col_queen', '4_col_queen')  [(1, 2), (1, 3), (2, 1), (2, 3), (2, 4), (3, 1), (3, 2), (3, 4), (4, 2), (4, 3)].\n",
                                    "('4_col_queen', '1_col_queen')  [(1, 2), (1, 3), (2, 1), (2, 3), (2, 4), (3, 1), (3, 2), (3, 4), (4, 2), (4, 3)].\n",
                                    "('2_col_queen', '3_col_queen')  [(1, 3), (1, 4), (2, 4), (3, 1), (4, 1), (4, 2)].\n",
                                    "('3_col_queen', '2_col_queen')  [(1, 3), (1, 4), (2, 4), (3, 1), (4, 1), (4, 2)].\n",
                                    "('2_col_queen', '4_col_queen')  [(1, 2), (1, 4), (2, 1), (2, 3), (3, 2), (3, 4), (4, 1), (4, 3)].\n",
                                    "('4_col_queen', '2_col_queen')  [(1, 2), (1, 4), (2, 1), (2, 3), (3, 2), (3, 4), (4, 1), (4, 3)].\n",
                                    "('3_col_queen', '4_col_queen')  [(1, 3), (1, 4), (2, 4), (3, 1), (4, 1), (4, 2)].\n",
                                    "('4_col_queen', '3_col_queen')  [(1, 3), (1, 4), (2, 4), (3, 1), (4, 1), (4, 2)].\n",
                                    "\n",
                                    "Constrained by {0: {1, 2, 3}, 1: {0, 2, 3}, 2: {0, 1, 3}, 3: {0, 1, 2}}\n"
                              ]
                        }
                  ],
                  "source": [
                        "from instances import n_queens_problem\n",
                        "\n",
                        "csp_queen = n_queens_problem(n=4)\n",
                        "print(csp_queen)\n",
                        "print(\"Constrained by\", csp_queen.variable_is_constrained_by)"
                  ]
            },
            {
                  "cell_type": "code",
                  "execution_count": 1,
                  "metadata": {},
                  "outputs": [],
                  "source": [
                        "from instances import n_queens_problem\n",
                        "from backtrack import BacktrackClass\n",
                        "\n",
                        "csp_queen = n_queens_problem(n=3)\n",
                        "backtrack_object = BacktrackClass()\n",
                        "result, state = backtrack_object.run_backtrack(csp_instance=csp_queen)\n",
                        "assert(not result)\n"
                  ]
            },
            {
                  "cell_type": "code",
                  "execution_count": 3,
                  "metadata": {},
                  "outputs": [],
                  "source": [
                        "from random import randint\n",
                        "\n",
                        "from instances import n_queens_problem\n",
                        "from backtrack import BacktrackClass\n",
                        "\n",
                        "# Take a random value of size between 4 and 20\n",
                        "n = randint(4,20)\n",
                        "csp_queen = n_queens_problem(n=n)\n",
                        "backtrack_object = BacktrackClass(use_arc_consistency=True, use_forward_checking=True)\n",
                        "result, state = backtrack_object.run_backtrack(csp_instance=csp_queen)\n",
                        "assert(result)\n",
                        "# With forward\n",
                        "backtrack_object.use_forward_checking = True\n",
                        "result, state = backtrack_object.run_backtrack(csp_instance=csp_queen)\n",
                        "assert(result)"
                  ]
            },
            {
                  "cell_type": "code",
                  "execution_count": 2,
                  "metadata": {},
                  "outputs": [
                        {
                              "name": "stdout",
                              "output_type": "stream",
                              "text": [
                                    "True {'1_col_queen': 1, '2_col_queen': 3, '3_col_queen': 5, '4_col_queen': 2, '5_col_queen': 4, '6_col_queen': 9, '7_col_queen': 11, '8_col_queen': 13, '9_col_queen': 15, '10_col_queen': 19, '11_col_queen': 21, '12_col_queen': 24, '13_col_queen': 20, '14_col_queen': 25, '15_col_queen': 23, '16_col_queen': 6, '17_col_queen': 8, '18_col_queen': 10, '19_col_queen': 7, '20_col_queen': 14, '21_col_queen': 16, '22_col_queen': 18, '23_col_queen': 12, '24_col_queen': 17, '25_col_queen': 22}\n"
                              ]
                        }
                  ],
                  "source": [
                        "from instances import n_queens_problem\n",
                        "from backtrack import BacktrackClass\n",
                        "\n",
                        "csp_queen = n_queens_problem(n=25)\n",
                        "backtrack_object = BacktrackClass()\n",
                        "result, state = backtrack_object.run_backtrack(csp_instance=csp_queen)\n",
                        "print(result, state)\n",
                        "assert(result)\n"
                  ]
            },
            {
                  "cell_type": "code",
                  "execution_count": 1,
                  "metadata": {},
                  "outputs": [
                        {
                              "name": "stdout",
                              "output_type": "stream",
                              "text": [
                                    "True {'1_col_queen': 1, '2_col_queen': 3, '3_col_queen': 5, '4_col_queen': 2, '5_col_queen': 4, '6_col_queen': 9, '7_col_queen': 11, '8_col_queen': 13, '9_col_queen': 15, '10_col_queen': 19, '11_col_queen': 21, '12_col_queen': 24, '13_col_queen': 20, '14_col_queen': 25, '15_col_queen': 23, '16_col_queen': 6, '17_col_queen': 8, '18_col_queen': 10, '19_col_queen': 7, '20_col_queen': 14, '21_col_queen': 16, '22_col_queen': 18, '23_col_queen': 12, '24_col_queen': 17, '25_col_queen': 22}\n"
                              ]
                        }
                  ],
                  "source": [
                        "from instances import n_queens_problem\n",
                        "from backjump import BackjumpClass\n",
                        "\n",
                        "csp_queen = n_queens_problem(n=25)\n",
                        "backjump_object = BackjumpClass()\n",
                        "result, state = backjump_object.run_backjump(csp_instance=csp_queen)\n",
                        "print(result, state)\n",
                        "assert(result)"
                  ]
            },
            {
                  "cell_type": "code",
                  "execution_count": 6,
                  "metadata": {},
                  "outputs": [
                        {
                              "name": "stdout",
                              "output_type": "stream",
                              "text": [
                                    "Starting 3 queens\n",
                                    "{}\n",
                                    "Starting 6 queens\n",
                                    "Starting 9 queens\n",
                                    "Starting 12 queens\n",
                                    "Starting 15 queens\n",
                                    "Starting 18 queens\n",
                                    "Starting 21 queens\n",
                                    "Starting 24 queens\n",
                                    "    instance  nodes      time  result\n",
                                    "0   3 queens      6  0.000000   False\n",
                                    "1   6 queens     42  0.000000    True\n",
                                    "2   9 queens    100  0.001006    True\n",
                                    "3  12 queens    409  0.004987    True\n",
                                    "4  15 queens    184  0.002992    True\n",
                                    "5  18 queens    589  0.010474    True\n",
                                    "6  21 queens   1875  0.036974    True\n",
                                    "7  24 queens  24332  0.525692    True\n"
                              ]
                        }
                  ],
                  "source": [
                        "from time import time\n",
                        "\n",
                        "import pandas as pd\n",
                        "\n",
                        "from instances import n_queens_problem\n",
                        "from backtrack import BacktrackClass\n",
                        "\n",
                        "# Display setup\n",
                        "columns = [\n",
                        "    \"instance\",\n",
                        "    \"nodes\",\n",
                        "    \"time\",\n",
                        "    \"result\",\n",
                        "]\n",
                        "display_dataframe = pd.DataFrame({column: [] for column in columns})\n",
                        "\n",
                        "max_size = 25\n",
                        "backtrack_object = BacktrackClass(use_forward_checking=True)\n",
                        "for n in range(3,max_size,3):\n",
                        "    print(f\"Starting {n} queens\")\n",
                        "    csp_queen = n_queens_problem(n=n)\n",
                        "    start = time()\n",
                        "    result, state = backtrack_object.run_backtrack(csp_instance=csp_queen)\n",
                        "    if n == 3:\n",
                        "        print(state)\n",
                        "    # Adding to display\n",
                        "    new_row = [\n",
                        "        f\"{n} queens\",\n",
                        "        backtrack_object.nodes,\n",
                        "        time() - start,\n",
                        "        result\n",
                        "    ]\n",
                        "    display_dataframe.loc[len(display_dataframe)] = new_row\n",
                        "\n",
                        "\n",
                        "print(display_dataframe)\n",
                        "display_dataframe.to_csv(\"queens_naive_1.csv\", sep=\";\")"
                  ]
            },
            {
                  "cell_type": "code",
                  "execution_count": 5,
                  "metadata": {},
                  "outputs": [
                        {
                              "name": "stdout",
                              "output_type": "stream",
                              "text": [
                                    "Starting 3 queens\n",
                                    "{}\n",
                                    "Starting 6 queens\n",
                                    "Starting 9 queens\n",
                                    "Starting 12 queens\n",
                                    "Starting 15 queens\n",
                                    "Starting 18 queens\n",
                                    "Starting 21 queens\n",
                                    "Starting 24 queens\n",
                                    "    instance  nodes      time  result\n",
                                    "0   3 queens      6  0.000000   False\n",
                                    "1   6 queens     42  0.001006    True\n",
                                    "2   9 queens    100  0.000999    True\n",
                                    "3  12 queens    409  0.006056    True\n",
                                    "4  15 queens    184  0.003992    True\n",
                                    "5  18 queens    589  0.011665    True\n",
                                    "6  21 queens   1875  0.041222    True\n",
                                    "7  24 queens  24332  0.633688    True\n"
                              ]
                        }
                  ],
                  "source": [
                        "from time import time\n",
                        "\n",
                        "import pandas as pd\n",
                        "\n",
                        "from instances import n_queens_problem\n",
                        "from backjump import BackjumpClass\n",
                        "\n",
                        "# Display setup\n",
                        "columns = [\n",
                        "    \"instance\",\n",
                        "    \"nodes\",\n",
                        "    \"time\",\n",
                        "    \"result\",\n",
                        "]\n",
                        "display_dataframe = pd.DataFrame({column: [] for column in columns})\n",
                        "\n",
                        "max_size = 25\n",
                        "backjump_object = BackjumpClass(use_forward_checking=True)\n",
                        "for n in range(3,max_size,3):\n",
                        "    print(f\"Starting {n} queens\")\n",
                        "    csp_queen = n_queens_problem(n=n)\n",
                        "    start = time()\n",
                        "    result, state = backjump_object.run_backjump(csp_instance=csp_queen)\n",
                        "    if n == 3:\n",
                        "        print(state)\n",
                        "    # Adding to display\n",
                        "    new_row = [\n",
                        "        f\"{n} queens\",\n",
                        "        backjump_object.nodes,\n",
                        "        time() - start,\n",
                        "        result\n",
                        "    ]\n",
                        "    display_dataframe.loc[len(display_dataframe)] = new_row\n",
                        "\n",
                        "\n",
                        "print(display_dataframe)\n",
                        "display_dataframe.to_csv(\"queens_naive_1.csv\", sep=\";\")"
                  ]
            },
            {
                  "cell_type": "code",
                  "execution_count": 1,
                  "metadata": {},
                  "outputs": [
                        {
                              "ename": "TypeError",
                              "evalue": "AC3_current_state() missing 4 required positional arguments: 'state', 'shrinking_operations', 'domains_last_valid_index', and 'last_variable_index'",
                              "output_type": "error",
                              "traceback": [
                                    "\u001b[1;31m---------------------------------------------------------------------------\u001b[0m",
                                    "\u001b[1;31mTypeError\u001b[0m                                 Traceback (most recent call last)",
                                    "Cell \u001b[1;32mIn [1], line 5\u001b[0m\n\u001b[0;32m      2\u001b[0m \u001b[39mfrom\u001b[39;00m \u001b[39mbacktrack\u001b[39;00m \u001b[39mimport\u001b[39;00m BacktrackClass, AC3_current_state\n\u001b[0;32m      4\u001b[0m csp_queen \u001b[39m=\u001b[39m n_queens_problem(n\u001b[39m=\u001b[39m\u001b[39m3\u001b[39m)\n\u001b[1;32m----> 5\u001b[0m AC3_current_state(csp_instance\u001b[39m=\u001b[39;49mcsp_queen)\n\u001b[0;32m      6\u001b[0m \u001b[39mprint\u001b[39m(csp_queen)\n\u001b[0;32m      7\u001b[0m \u001b[39m# Should see empty domains for 3\u001b[39;00m\n",
                                    "\u001b[1;31mTypeError\u001b[0m: AC3_current_state() missing 4 required positional arguments: 'state', 'shrinking_operations', 'domains_last_valid_index', and 'last_variable_index'"
                              ]
                        }
                  ],
                  "source": [
                        "from instances import n_queens_problem\n",
                        "from backtrack import BacktrackClass, AC3_current_state\n",
                        "\n",
                        "csp_queen = n_queens_problem(n=3)\n",
                        "AC3_current_state(csp_instance=csp_queen)\n",
                        "print(csp_queen)\n",
                        "# Should see empty domains for 3"
                  ]
            },
            {
                  "cell_type": "code",
                  "execution_count": 2,
                  "metadata": {},
                  "outputs": [
                        {
                              "name": "stdout",
                              "output_type": "stream",
                              "text": [
                                    "Starting 3 queens\n",
                                    "Starting 4 queens\n",
                                    "Starting 5 queens\n",
                                    "Starting 6 queens\n",
                                    "Starting 7 queens\n",
                                    "Starting 8 queens\n",
                                    "Starting 9 queens\n",
                                    "Starting 10 queens\n",
                                    "Starting 11 queens\n",
                                    "Starting 12 queens\n",
                                    "Starting 13 queens\n",
                                    "Starting 14 queens\n",
                                    "Starting 15 queens\n",
                                    "Starting 16 queens\n",
                                    "Starting 17 queens\n",
                                    "Starting 18 queens\n",
                                    "Starting 19 queens\n",
                                    "Starting 20 queens\n",
                                    "Starting 21 queens\n",
                                    "Starting 22 queens\n",
                                    "Starting 23 queens\n",
                                    "Starting 24 queens\n",
                                    "Starting 25 queens\n",
                                    "Starting 26 queens\n",
                                    "Starting 27 queens\n",
                                    "Starting 28 queens\n",
                                    "Starting 29 queens\n",
                                    "Starting 30 queens\n",
                                    "Starting 31 queens\n",
                                    "Starting 32 queens\n",
                                    "Starting 33 queens\n",
                                    "Starting 34 queens\n",
                                    "Starting 35 queens\n",
                                    "Starting 36 queens\n",
                                    "Starting 37 queens\n",
                                    "Starting 38 queens\n",
                                    "Starting 39 queens\n",
                                    "     instance  nodes    time  result\n",
                                    "0    3 queens      1  0.0000   False\n",
                                    "1    4 queens      6  0.0010    True\n",
                                    "2    5 queens      6  0.0000    True\n",
                                    "3    6 queens     14  0.0010    True\n",
                                    "4    7 queens     12  0.0010    True\n",
                                    "5    8 queens     19  0.0010    True\n",
                                    "6    9 queens     30  0.0040    True\n",
                                    "7   10 queens     34  0.0061    True\n",
                                    "8   11 queens     77  0.0125    True\n",
                                    "9   12 queens     79  0.0135    True\n",
                                    "10  13 queens    117  0.0210    True\n",
                                    "11  14 queens    154  0.0294    True\n",
                                    "12  15 queens     16  0.0085    True\n",
                                    "13  16 queens     88  0.0235    True\n",
                                    "14  17 queens    282  0.0651    True\n",
                                    "15  18 queens     23  0.0194    True\n",
                                    "16  19 queens     87  0.0359    True\n",
                                    "17  20 queens    202  0.0595    True\n",
                                    "18  21 queens     33  0.0336    True\n",
                                    "19  22 queens     29  0.0395    True\n",
                                    "20  23 queens     47  0.0498    True\n",
                                    "21  24 queens    275  0.1240    True\n",
                                    "22  25 queens     85  0.0856    True\n",
                                    "23  26 queens     88  0.0945    True\n",
                                    "24  27 queens    104  0.1152    True\n",
                                    "25  28 queens     88  0.1194    True\n",
                                    "26  29 queens    236  0.1761    True\n",
                                    "27  30 queens    133  0.1471    True\n",
                                    "28  31 queens     47  0.1350    True\n",
                                    "29  32 queens     63  0.1635    True\n",
                                    "30  33 queens    253  0.2174    True\n",
                                    "31  34 queens     42  0.1965    True\n",
                                    "32  35 queens     54  0.2155    True\n",
                                    "33  36 queens     40  0.2345    True\n",
                                    "34  37 queens     46  0.2644    True\n",
                                    "35  38 queens     51  0.2946    True\n",
                                    "36  39 queens     67  0.3222    True\n"
                              ]
                        }
                  ],
                  "source": [
                        "from time import time\n",
                        "\n",
                        "import pandas as pd\n",
                        "\n",
                        "from instances import n_queens_problem\n",
                        "from backtrack import BacktrackClass\n",
                        "from backtrack.variables_choosing_algorithms import smallest_domain_variable_choosing\n",
                        "\n",
                        "# Display setup\n",
                        "columns = [\n",
                        "    \"instance\",\n",
                        "    \"nodes\",\n",
                        "    \"time\",\n",
                        "    \"result\",\n",
                        "]\n",
                        "display_dataframe = pd.DataFrame({column: [] for column in columns})\n",
                        "\n",
                        "max_size = 40\n",
                        "backtrack_object = BacktrackClass(\n",
                        "    use_forward_checking=True,\n",
                        "    use_arc_consistency=True,\n",
                        "    next_variable_choosing_method=smallest_domain_variable_choosing,\n",
                        ")  # , use_arc_consistency=True)\n",
                        "for n in range(3, max_size, 1):\n",
                        "    print(f\"Starting {n} queens\")\n",
                        "    csp_queen = n_queens_problem(n=n)\n",
                        "    start = time()\n",
                        "    result, state = backtrack_object.run_backtrack(csp_instance=csp_queen)\n",
                        "\n",
                        "    # Adding to display\n",
                        "    new_row = [f\"{n} queens\", backtrack_object.nodes, round(time() - start, 4), result]\n",
                        "    display_dataframe.loc[len(display_dataframe)] = new_row\n",
                        "\n",
                        "\n",
                        "print(display_dataframe)\n",
                        "display_dataframe.to_csv(\"./queens_results/queens_forward_arc_AC3_cut_2.csv\", sep=\";\")"
                  ]
            },
            {
                  "cell_type": "code",
                  "execution_count": 3,
                  "metadata": {},
                  "outputs": [
                        {
                              "name": "stdout",
                              "output_type": "stream",
                              "text": [
                                    "         2767034 function calls (2396175 primitive calls) in 0.779 seconds\n",
                                    "\n",
                                    "   Ordered by: cumulative time\n",
                                    "\n",
                                    "   ncalls  tottime  percall  cumtime  percall filename:lineno(function)\n",
                                    "        1    0.000    0.000    0.777    0.777 c:\\Users\\sulia\\Documents\\MPRO\\PPC\\projet_PPC\\backtrack\\backtrack_class.py:278(run_backtrack)\n",
                                    "  12413/1    0.055    0.000    0.777    0.777 c:\\Users\\sulia\\Documents\\MPRO\\PPC\\projet_PPC\\backtrack\\backtrack_class.py:141(_backtrack)\n",
                                    "716894/358447    0.275    0.000    0.474    0.000 c:\\Users\\sulia\\Documents\\MPRO\\PPC\\projet_PPC\\models\\csp.py:134(<lambda>)\n",
                                    "    12413    0.072    0.000    0.359    0.000 c:\\Users\\sulia\\Documents\\MPRO\\PPC\\projet_PPC\\backtrack\\backtrack_class.py:88(_check_if_new_state_is_valid)\n",
                                    "    12412    0.124    0.000    0.341    0.000 c:\\Users\\sulia\\Documents\\MPRO\\PPC\\projet_PPC\\backtrack\\forward_checking.py:6(forward_checking_current_state)\n",
                                    "   465054    0.096    0.000    0.146    0.000 c:\\Users\\sulia\\Documents\\MPRO\\PPC\\projet_PPC\\models\\csp.py:124(<lambda>)\n",
                                    "   336964    0.038    0.000    0.038    0.000 c:\\Users\\sulia\\Documents\\MPRO\\PPC\\projet_PPC\\instances\\n_queens.py:34(<lambda>)\n",
                                    "   320827    0.035    0.000    0.035    0.000 c:\\Users\\sulia\\Documents\\MPRO\\PPC\\projet_PPC\\instances\\n_queens.py:45(<lambda>)\n",
                                    "   358447    0.030    0.000    0.030    0.000 c:\\Users\\sulia\\Documents\\MPRO\\PPC\\projet_PPC\\wrappers\\alldiff_wrapper.py:4(<lambda>)\n",
                                    "   406528    0.029    0.000    0.029    0.000 {method 'get' of 'dict' objects}\n",
                                    "    12413    0.004    0.000    0.005    0.000 c:\\Users\\sulia\\Documents\\MPRO\\PPC\\projet_PPC\\backtrack\\backtrack_class.py:79(_update_runtime)\n",
                                    "    12392    0.005    0.000    0.005    0.000 c:\\Users\\sulia\\Documents\\MPRO\\PPC\\projet_PPC\\backtrack\\backtrack_class.py:118(_revert_shrinking_operations)\n",
                                    "    12412    0.003    0.000    0.003    0.000 {method 'copy' of 'dict' objects}\n",
                                    "    12392    0.002    0.000    0.002    0.000 c:\\Users\\sulia\\Documents\\MPRO\\PPC\\projet_PPC\\backtrack\\backtrack_class.py:130(_revert_last_variable_domain)\n",
                                    "        1    0.000    0.000    0.002    0.002 c:\\Users\\sulia\\Documents\\MPRO\\PPC\\projet_PPC\\instances\\n_queens.py:6(n_queens_problem)\n",
                                    "    32280    0.002    0.000    0.002    0.000 {built-in method builtins.len}\n",
                                    "        3    0.000    0.000    0.002    0.001 c:\\Users\\sulia\\Documents\\MPRO\\PPC\\projet_PPC\\models\\csp.py:187(add_constraints_with_indices)\n",
                                    "     7367    0.002    0.000    0.002    0.000 c:\\Users\\sulia\\Documents\\MPRO\\PPC\\projet_PPC\\backtrack\\variables_choosing_algorithms.py:10(naive_variable_choosing)\n",
                                    "      570    0.001    0.000    0.002    0.000 c:\\Users\\sulia\\Documents\\MPRO\\PPC\\projet_PPC\\models\\csp.py:138(add_constraint)\n",
                                    "     7367    0.002    0.000    0.002    0.000 c:\\Users\\sulia\\Documents\\MPRO\\PPC\\projet_PPC\\backtrack\\values_ordering_algorithms.py:7(naive_values_ordering)\n",
                                    "    12412    0.002    0.000    0.002    0.000 {method 'update' of 'dict' objects}\n",
                                    "    12414    0.001    0.000    0.001    0.000 {built-in method time.time}\n",
                                    "      570    0.000    0.000    0.001    0.000 c:\\Users\\sulia\\Documents\\MPRO\\PPC\\projet_PPC\\models\\csp.py:60(_update_constrained_information_with_single_constraint)\n",
                                    "      570    0.000    0.000    0.000    0.000 c:\\Users\\sulia\\Documents\\MPRO\\PPC\\projet_PPC\\models\\csp.py:117(_swap_constraint)\n",
                                    "      760    0.000    0.000    0.000    0.000 c:\\Users\\sulia\\Documents\\MPRO\\PPC\\projet_PPC\\models\\csp.py:128(_combine_two_constraints)\n",
                                    "     1140    0.000    0.000    0.000    0.000 {method 'add' of 'set' objects}\n",
                                    "        1    0.000    0.000    0.000    0.000 c:\\Users\\sulia\\Documents\\MPRO\\PPC\\projet_PPC\\instances\\n_queens.py:26(<dictcomp>)\n",
                                    "        1    0.000    0.000    0.000    0.000 c:\\Users\\sulia\\Documents\\MPRO\\PPC\\projet_PPC\\instances\\n_queens.py:37(<dictcomp>)\n",
                                    "        1    0.000    0.000    0.000    0.000 c:\\Users\\sulia\\Documents\\MPRO\\PPC\\projet_PPC\\models\\csp.py:42(__init__)\n",
                                    "        1    0.000    0.000    0.000    0.000 c:\\Users\\sulia\\Documents\\MPRO\\PPC\\projet_PPC\\instances\\n_queens.py:48(<dictcomp>)\n",
                                    "        1    0.000    0.000    0.000    0.000 c:\\Users\\sulia\\Documents\\MPRO\\PPC\\projet_PPC\\instances\\n_queens.py:20(<listcomp>)\n",
                                    "        1    0.000    0.000    0.000    0.000 c:\\Users\\sulia\\Documents\\MPRO\\PPC\\projet_PPC\\backtrack\\backtrack_class.py:71(_reset_statistics_variables)\n",
                                    "        1    0.000    0.000    0.000    0.000 c:\\Users\\sulia\\Documents\\MPRO\\PPC\\projet_PPC\\backtrack\\backtrack_class.py:284(<listcomp>)\n",
                                    "        1    0.000    0.000    0.000    0.000 C:\\Users\\sulia\\AppData\\Local\\Programs\\Python\\Python310\\lib\\cProfile.py:117(__exit__)\n",
                                    "        1    0.000    0.000    0.000    0.000 c:\\Users\\sulia\\Documents\\MPRO\\PPC\\projet_PPC\\models\\csp.py:76(_update_constrained_information_with_constraints)\n",
                                    "        1    0.000    0.000    0.000    0.000 c:\\Users\\sulia\\Documents\\MPRO\\PPC\\projet_PPC\\instances\\n_queens.py:18(<listcomp>)\n",
                                    "        1    0.000    0.000    0.000    0.000 c:\\Users\\sulia\\Documents\\MPRO\\PPC\\projet_PPC\\models\\csp.py:55(<dictcomp>)\n",
                                    "        1    0.000    0.000    0.000    0.000 c:\\Users\\sulia\\Documents\\MPRO\\PPC\\projet_PPC\\models\\csp.py:52(<dictcomp>)\n",
                                    "        1    0.000    0.000    0.000    0.000 c:\\Users\\sulia\\Documents\\MPRO\\PPC\\projet_PPC\\backtrack\\backtrack_class.py:82(decision_leaf_evaluation)\n",
                                    "        1    0.000    0.000    0.000    0.000 {method 'keys' of 'dict' objects}\n",
                                    "        1    0.000    0.000    0.000    0.000 {method 'disable' of '_lsprof.Profiler' objects}\n",
                                    "        3    0.000    0.000    0.000    0.000 {method 'items' of 'dict' objects}\n",
                                    "\n",
                                    "\n"
                              ]
                        },
                        {
                              "data": {
                                    "text/plain": [
                                          "<pstats.Stats at 0x24c9747c880>"
                                    ]
                              },
                              "execution_count": 3,
                              "metadata": {},
                              "output_type": "execute_result"
                        }
                  ],
                  "source": [
                        "import cProfile, pstats\n",
                        "from instances import n_queens_problem\n",
                        "from backtrack import BacktrackClass\n",
                        "\n",
                        "backtrack_object = BacktrackClass(use_forward_checking=True)\n",
                        "n = 20\n",
                        "\n",
                        "with cProfile.Profile() as pr:\n",
                        "    csp_queen = n_queens_problem(n=n)\n",
                        "    result, state = backtrack_object.run_backtrack(csp_instance=csp_queen)\n",
                        "stats = pstats.Stats(pr).sort_stats(\"cumtime\")\n",
                        "stats.print_stats()\n"
                  ]
            }
      ],
      "metadata": {
            "kernelspec": {
                  "display_name": "projet_PPC",
                  "language": "python",
                  "name": "python3"
            },
            "language_info": {
                  "codemirror_mode": {
                        "name": "ipython",
                        "version": 3
                  },
                  "file_extension": ".py",
                  "mimetype": "text/x-python",
                  "name": "python",
                  "nbconvert_exporter": "python",
                  "pygments_lexer": "ipython3",
                  "version": "3.10.5"
            },
            "orig_nbformat": 4,
            "vscode": {
                  "interpreter": {
                        "hash": "97bf09204eacb64ee93020726c27896ab50c4211d0e7c329e7917478e5b7b255"
                  }
            }
      },
      "nbformat": 4,
      "nbformat_minor": 2
}

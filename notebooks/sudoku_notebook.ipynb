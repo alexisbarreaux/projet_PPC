{
 "cells": [
  {
   "cell_type": "code",
   "execution_count": 1,
   "metadata": {},
   "outputs": [
    {
     "name": "stdout",
     "output_type": "stream",
     "text": [
      "['x_1_1', 'x_1_2', 'x_1_3', 'x_1_4', 'x_1_5', 'x_1_6', 'x_1_7', 'x_1_8', 'x_1_9', 'x_2_1', 'x_2_2', 'x_2_3', 'x_2_4', 'x_2_5', 'x_2_6', 'x_2_7', 'x_2_8', 'x_2_9', 'x_3_1', 'x_3_2', 'x_3_3', 'x_3_4', 'x_3_5', 'x_3_6', 'x_3_7', 'x_3_8', 'x_3_9', 'x_4_1', 'x_4_2', 'x_4_3', 'x_4_4', 'x_4_5', 'x_4_6', 'x_4_7', 'x_4_8', 'x_4_9', 'x_5_1', 'x_5_2', 'x_5_3', 'x_5_4', 'x_5_5', 'x_5_6', 'x_5_7', 'x_5_8', 'x_5_9', 'x_6_1', 'x_6_2', 'x_6_3', 'x_6_4', 'x_6_5', 'x_6_6', 'x_6_7', 'x_6_8', 'x_6_9', 'x_7_1', 'x_7_2', 'x_7_3', 'x_7_4', 'x_7_5', 'x_7_6', 'x_7_7', 'x_7_8', 'x_7_9', 'x_8_1', 'x_8_2', 'x_8_3', 'x_8_4', 'x_8_5', 'x_8_6', 'x_8_7', 'x_8_8', 'x_8_9', 'x_9_1', 'x_9_2', 'x_9_3', 'x_9_4', 'x_9_5', 'x_9_6', 'x_9_7', 'x_9_8', 'x_9_9'] \n",
      "\n",
      "[[6], [5], [7], [8], [1], [9], [3], [4], [2], [2], [8], [9], [7], [3], [4], [6], [5], [1], [4], [3], [1], [5], [2], [6], [9], [8], [7], [5], [9], [8], [1], [4], [7], [2], [6], [3], [7], [1], [2], [3], [6], [8], [4], [9], [5], [3], [6], [4], [2], [9], [5], [7], [1], [8], [9], [2], [3], [6], [8], [1], [5], [7], [4], [1], [4], [5], [9], [7], [3], [8], [2], [6], [1, 2, 3, 4, 5, 6, 7, 8, 9], [1, 2, 3, 4, 5, 6, 7, 8, 9], [1, 2, 3, 4, 5, 6, 7, 8, 9], [1, 2, 3, 4, 5, 6, 7, 8, 9], [1, 2, 3, 4, 5, 6, 7, 8, 9], [1, 2, 3, 4, 5, 6, 7, 8, 9], [1, 2, 3, 4, 5, 6, 7, 8, 9], [1, 2, 3, 4, 5, 6, 7, 8, 9], [1, 2, 3, 4, 5, 6, 7, 8, 9]] \n",
      "\n",
      "{1, 2, 9, 10, 11, 18, 19, 20}\n",
      "{0, 2, 9, 10, 11, 18, 19, 20}\n",
      "{0, 1, 9, 10, 11, 18, 19, 20}\n",
      "{4, 5, 12, 13, 14, 21, 22, 23}\n",
      "{6, 7, 8, 15, 16, 17, 24, 26}\n"
     ]
    }
   ],
   "source": [
    "from instances import sudoku_problem, SUDOKU_INSTANCES_PATH\n",
    "from models import CSP\n",
    "\n",
    "csp_sudoku: CSP = sudoku_problem(\n",
    "    instance_path=SUDOKU_INSTANCES_PATH / \"almost_full.txt\"\n",
    ")\n",
    "print(csp_sudoku.variables, \"\\n\")\n",
    "print(csp_sudoku.domains, \"\\n\")\n",
    "print(csp_sudoku.variable_is_constrained_by[0])\n",
    "print(csp_sudoku.variable_is_constrained_by[1])\n",
    "print(csp_sudoku.variable_is_constrained_by[3])\n",
    "print(csp_sudoku.variable_is_constrained_by[25])\n"
   ]
  },
  {
   "cell_type": "code",
   "execution_count": 1,
   "metadata": {},
   "outputs": [
    {
     "name": "stdout",
     "output_type": "stream",
     "text": [
      "True\n",
      "[6, 5, 7, 8, 1, 9, 3, 4, 2]\n",
      "[2, 8, 9, 7, 3, 4, 6, 5, 1]\n",
      "[4, 3, 1, 5, 2, 6, 9, 8, 7]\n",
      "[5, 9, 8, 1, 4, 7, 2, 6, 3]\n",
      "[7, 1, 2, 3, 6, 8, 4, 9, 5]\n",
      "[3, 6, 4, 2, 9, 5, 7, 1, 8]\n",
      "[9, 2, 3, 6, 8, 1, 5, 7, 4]\n",
      "[1, 4, 5, 9, 7, 3, 8, 2, 6]\n",
      "[8, 7, 6, 4, 5, 2, 1, 3, 9]\n"
     ]
    }
   ],
   "source": [
    "from instances import sudoku_problem, SUDOKU_INSTANCES_PATH, SUDOKU_EASY_INSTANCES, display_grid\n",
    "from backtrack import BacktrackClass\n",
    "from backtrack.variables_choosing_algorithms import smallest_domain_variable_choosing\n",
    "\n",
    "csp_sudoku = sudoku_problem(instance_path=SUDOKU_INSTANCES_PATH / \"almost_full.txt\")\n",
    "backtrack_object = BacktrackClass(use_arc_consistency=True, use_forward_checking=True, next_variable_choosing_method=smallest_domain_variable_choosing)\n",
    "result, state = backtrack_object.run_backtrack(csp_instance=csp_sudoku)\n",
    "print(result)\n",
    "if result:\n",
    "    display_grid(state=state)\n"
   ]
  }
 ],
 "metadata": {
  "kernelspec": {
   "display_name": "projet_PPC",
   "language": "python",
   "name": "python3"
  },
  "language_info": {
   "codemirror_mode": {
    "name": "ipython",
    "version": 3
   },
   "file_extension": ".py",
   "mimetype": "text/x-python",
   "name": "python",
   "nbconvert_exporter": "python",
   "pygments_lexer": "ipython3",
   "version": "3.10.2"
  },
  "orig_nbformat": 4,
  "vscode": {
   "interpreter": {
    "hash": "c0021910f745d5c1d4816958c5dc5b7f4254623e1a2c0d2037241731637929d6"
   }
  }
 },
 "nbformat": 4,
 "nbformat_minor": 2
}

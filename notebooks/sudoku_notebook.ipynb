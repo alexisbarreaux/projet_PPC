{
 "cells": [
  {
   "cell_type": "code",
   "execution_count": 1,
   "metadata": {},
   "outputs": [
    {
     "name": "stdout",
     "output_type": "stream",
     "text": [
      "['x_1_1', 'x_1_2', 'x_1_3', 'x_1_4', 'x_1_5', 'x_1_6', 'x_1_7', 'x_1_8', 'x_1_9', 'x_2_1', 'x_2_2', 'x_2_3', 'x_2_4', 'x_2_5', 'x_2_6', 'x_2_7', 'x_2_8', 'x_2_9', 'x_3_1', 'x_3_2', 'x_3_3', 'x_3_4', 'x_3_5', 'x_3_6', 'x_3_7', 'x_3_8', 'x_3_9', 'x_4_1', 'x_4_2', 'x_4_3', 'x_4_4', 'x_4_5', 'x_4_6', 'x_4_7', 'x_4_8', 'x_4_9', 'x_5_1', 'x_5_2', 'x_5_3', 'x_5_4', 'x_5_5', 'x_5_6', 'x_5_7', 'x_5_8', 'x_5_9', 'x_6_1', 'x_6_2', 'x_6_3', 'x_6_4', 'x_6_5', 'x_6_6', 'x_6_7', 'x_6_8', 'x_6_9', 'x_7_1', 'x_7_2', 'x_7_3', 'x_7_4', 'x_7_5', 'x_7_6', 'x_7_7', 'x_7_8', 'x_7_9', 'x_8_1', 'x_8_2', 'x_8_3', 'x_8_4', 'x_8_5', 'x_8_6', 'x_8_7', 'x_8_8', 'x_8_9', 'x_9_1', 'x_9_2', 'x_9_3', 'x_9_4', 'x_9_5', 'x_9_6', 'x_9_7', 'x_9_8', 'x_9_9'] \n",
      "\n",
      "[[6], [5], [7], [8], [1], [9], [3], [4], [2], [2], [8], [9], [7], [3], [4], [6], [5], [1], [4], [3], [1], [5], [2], [6], [9], [8], [7], [5], [9], [8], [1], [4], [7], [2], [6], [3], [7], [1], [2], [3], [6], [8], [4], [9], [5], [3], [6], [4], [2], [9], [5], [7], [1], [8], [9], [2], [3], [6], [8], [1], [5], [7], [4], [1], [4], [5], [9], [7], [3], [8], [2], [6], [1, 2, 3, 4, 5, 6, 7, 8, 9], [1, 2, 3, 4, 5, 6, 7, 8, 9], [1, 2, 3, 4, 5, 6, 7, 8, 9], [1, 2, 3, 4, 5, 6, 7, 8, 9], [1, 2, 3, 4, 5, 6, 7, 8, 9], [1, 2, 3, 4, 5, 6, 7, 8, 9], [1, 2, 3, 4, 5, 6, 7, 8, 9], [1, 2, 3, 4, 5, 6, 7, 8, 9], [1, 2, 3, 4, 5, 6, 7, 8, 9]] \n",
      "\n",
      "{1, 2, 9, 10, 11, 18, 19, 20}\n",
      "{0, 2, 9, 10, 11, 18, 19, 20}\n",
      "{0, 1, 9, 10, 11, 18, 19, 20}\n",
      "{4, 5, 12, 13, 14, 21, 22, 23}\n",
      "{6, 7, 8, 15, 16, 17, 24, 26}\n"
     ]
    }
   ],
   "source": [
    "from instances import sudoku_problem, SUDOKU_INSTANCES_PATH\n",
    "from models import CSP\n",
    "\n",
    "csp_sudoku: CSP = sudoku_problem(\n",
    "    instance_path=SUDOKU_INSTANCES_PATH / \"almost_full.txt\"\n",
    ")\n",
    "print(csp_sudoku.variables, \"\\n\")\n",
    "print(csp_sudoku.domains, \"\\n\")\n",
    "print(csp_sudoku.variable_is_constrained_by[0])\n",
    "print(csp_sudoku.variable_is_constrained_by[1])\n",
    "print(csp_sudoku.variable_is_constrained_by[3])\n",
    "print(csp_sudoku.variable_is_constrained_by[25])\n"
   ]
  },
  {
   "cell_type": "code",
   "execution_count": 6,
   "metadata": {},
   "outputs": [
    {
     "name": "stdout",
     "output_type": "stream",
     "text": [
      "True\n",
      "[6, 5, 7, 8, 1, 9, 3, 4, 2]\n",
      "[2, 8, 9, 7, 3, 4, 6, 5, 1]\n",
      "[4, 3, 1, 5, 2, 6, 9, 8, 7]\n",
      "[5, 9, 8, 1, 4, 7, 2, 6, 3]\n",
      "[7, 1, 2, 3, 6, 8, 4, 9, 5]\n",
      "[3, 6, 4, 2, 9, 5, 7, 1, 8]\n",
      "[9, 2, 3, 6, 8, 1, 5, 7, 4]\n",
      "[1, 4, 5, 9, 7, 3, 8, 2, 6]\n",
      "[8, 7, 6, 4, 5, 2, 1, 3, 9]\n"
     ]
    }
   ],
   "source": [
    "from instances import (\n",
    "    sudoku_problem,\n",
    "    SUDOKU_INSTANCES_PATH,\n",
    "    SUDOKU_EASY_INSTANCES,\n",
    "    display_grid,\n",
    ")\n",
    "from backtrack import BacktrackClass\n",
    "from backtrack.variables_choosing_algorithms import smallest_domain_variable_choosing\n",
    "\n",
    "csp_sudoku = sudoku_problem(instance_path=SUDOKU_INSTANCES_PATH / \"almost_full.txt\")\n",
    "backtrack_object = BacktrackClass(\n",
    "    use_arc_consistency=True,\n",
    "    use_forward_checking=True,\n",
    "    next_variable_choosing_method=smallest_domain_variable_choosing,\n",
    ")\n",
    "result, state = backtrack_object.run_backtrack(csp_instance=csp_sudoku)\n",
    "print(result)\n",
    "if result:\n",
    "    result_grid = display_grid(state=state)\n",
    "    assert result_grid == [\n",
    "        [6, 5, 7, 8, 1, 9, 3, 4, 2],\n",
    "        [2, 8, 9, 7, 3, 4, 6, 5, 1],\n",
    "        [4, 3, 1, 5, 2, 6, 9, 8, 7],\n",
    "        [5, 9, 8, 1, 4, 7, 2, 6, 3],\n",
    "        [7, 1, 2, 3, 6, 8, 4, 9, 5],\n",
    "        [3, 6, 4, 2, 9, 5, 7, 1, 8],\n",
    "        [9, 2, 3, 6, 8, 1, 5, 7, 4],\n",
    "        [1, 4, 5, 9, 7, 3, 8, 2, 6],\n",
    "        [8, 7, 6, 4, 5, 2, 1, 3, 9],\n",
    "    ]\n"
   ]
  },
  {
   "cell_type": "code",
   "execution_count": 9,
   "metadata": {},
   "outputs": [
    {
     "name": "stdout",
     "output_type": "stream",
     "text": [
      "True\n",
      "[9, 5, 3, 2, 7, 1, 4, 8, 6]\n",
      "[1, 4, 8, 6, 9, 5, 7, 2, 3]\n",
      "[6, 2, 7, 3, 4, 8, 1, 5, 9]\n",
      "[2, 8, 9, 7, 3, 6, 5, 4, 1]\n",
      "[4, 6, 5, 1, 2, 9, 8, 3, 7]\n",
      "[7, 3, 1, 5, 8, 4, 6, 9, 2]\n",
      "[3, 1, 6, 8, 5, 2, 9, 7, 4]\n",
      "[8, 7, 4, 9, 1, 3, 2, 6, 5]\n",
      "[5, 9, 2, 4, 6, 7, 3, 1, 8]\n"
     ]
    }
   ],
   "source": [
    "from instances import (\n",
    "    sudoku_problem,\n",
    "    SUDOKU_INSTANCES_PATH,\n",
    "    SUDOKU_EASY_INSTANCES,\n",
    "    display_grid,\n",
    ")\n",
    "from backtrack import BacktrackClass\n",
    "from backtrack.variables_choosing_algorithms import smallest_domain_variable_choosing\n",
    "\n",
    "csp_sudoku = sudoku_problem(instance_path=SUDOKU_INSTANCES_PATH / \"easy1.txt\")\n",
    "backtrack_object = BacktrackClass(\n",
    "    use_arc_consistency=True,\n",
    "    use_forward_checking=True,\n",
    "    next_variable_choosing_method=smallest_domain_variable_choosing,\n",
    ")\n",
    "result, state = backtrack_object.run_backtrack(csp_instance=csp_sudoku)\n",
    "print(result)\n",
    "if result:\n",
    "    result_grid = display_grid(state=state)\n",
    "    assert result_grid == [\n",
    "        [9, 5, 3, 2, 7, 1, 4, 8, 6],\n",
    "        [1, 4, 8, 6, 9, 5, 7, 2, 3],\n",
    "        [6, 2, 7, 3, 4, 8, 1, 5, 9],\n",
    "        [2, 8, 9, 7, 3, 6, 5, 4, 1],\n",
    "        [4, 6, 5, 1, 2, 9, 8, 3, 7],\n",
    "        [7, 3, 1, 5, 8, 4, 6, 9, 2],\n",
    "        [3, 1, 6, 8, 5, 2, 9, 7, 4],\n",
    "        [8, 7, 4, 9, 1, 3, 2, 6, 5],\n",
    "        [5, 9, 2, 4, 6, 7, 3, 1, 8],\n",
    "    ]\n"
   ]
  },
  {
   "cell_type": "code",
   "execution_count": 11,
   "metadata": {},
   "outputs": [
    {
     "name": "stdout",
     "output_type": "stream",
     "text": [
      "Current instance almost_full.txt\n",
      "Current instance easy1.txt\n",
      "Current instance easy10.txt\n",
      "Current instance easy2.txt\n",
      "Current instance easy3.txt\n",
      "Current instance easy4.txt\n",
      "Current instance easy5.txt\n",
      "Current instance easy6.txt\n",
      "Current instance easy7.txt\n",
      "Current instance easy8.txt\n",
      "Current instance easy9.txt\n",
      "Current instance intermediate1.txt\n",
      "Current instance intermediate10.txt\n",
      "Current instance intermediate2.txt\n",
      "Current instance intermediate3.txt\n",
      "Current instance intermediate4.txt\n",
      "Current instance intermediate5.txt\n",
      "Current instance intermediate6.txt\n",
      "Current instance intermediate7.txt\n",
      "Current instance intermediate8.txt\n",
      "Current instance intermediate9.txt\n",
      "Current instance expert1.txt\n",
      "Current instance expert10.txt\n"
     ]
    },
    {
     "ename": "KeyboardInterrupt",
     "evalue": "",
     "output_type": "error",
     "traceback": [
      "\u001b[1;31m---------------------------------------------------------------------------\u001b[0m",
      "\u001b[1;31mKeyboardInterrupt\u001b[0m                         Traceback (most recent call last)",
      "Cell \u001b[1;32mIn [11], line 33\u001b[0m\n\u001b[0;32m     29\u001b[0m     csp_sudoku \u001b[39m=\u001b[39m sudoku_problem(\n\u001b[0;32m     30\u001b[0m         instance_path\u001b[39m=\u001b[39mSUDOKU_INSTANCES_PATH \u001b[39m/\u001b[39m instance\n\u001b[0;32m     31\u001b[0m     )\n\u001b[0;32m     32\u001b[0m     start \u001b[39m=\u001b[39m time()\n\u001b[1;32m---> 33\u001b[0m     result, state \u001b[39m=\u001b[39m backtrack_object\u001b[39m.\u001b[39;49mrun_backtrack(csp_instance\u001b[39m=\u001b[39;49mcsp_sudoku)\n\u001b[0;32m     34\u001b[0m     \u001b[39m# Adding to display\u001b[39;00m\n\u001b[0;32m     35\u001b[0m     columns \u001b[39m=\u001b[39m [\n\u001b[0;32m     36\u001b[0m     \u001b[39m\"\u001b[39m\u001b[39minstance\u001b[39m\u001b[39m\"\u001b[39m,\n\u001b[0;32m     37\u001b[0m     \u001b[39m\"\u001b[39m\u001b[39mtime\u001b[39m\u001b[39m\"\u001b[39m,\n\u001b[1;32m   (...)\u001b[0m\n\u001b[0;32m     40\u001b[0m     \u001b[39m\"\u001b[39m\u001b[39mfinished\u001b[39m\u001b[39m\"\u001b[39m,\n\u001b[0;32m     41\u001b[0m ]\n",
      "File \u001b[1;32mc:\\Users\\alexi\\Documents\\GitHub\\projet_PPC\\backtrack\\backtrack_class.py:288\u001b[0m, in \u001b[0;36mBacktrackClass.run_backtrack\u001b[1;34m(self, csp_instance)\u001b[0m\n\u001b[0;32m    282\u001b[0m \u001b[39mself\u001b[39m\u001b[39m.\u001b[39m_reset_statistics_variables()\n\u001b[0;32m    284\u001b[0m \u001b[39mself\u001b[39m\u001b[39m.\u001b[39mdomains_last_valid_index \u001b[39m=\u001b[39m [\n\u001b[0;32m    285\u001b[0m     \u001b[39mlen\u001b[39m(csp_instance\u001b[39m.\u001b[39mdomains[i]) \u001b[39m-\u001b[39m \u001b[39m1\u001b[39m \u001b[39mfor\u001b[39;00m i \u001b[39min\u001b[39;00m \u001b[39mrange\u001b[39m(\u001b[39mlen\u001b[39m(csp_instance\u001b[39m.\u001b[39mdomains))\n\u001b[0;32m    286\u001b[0m ]\n\u001b[1;32m--> 288\u001b[0m found_solution, indexes_state \u001b[39m=\u001b[39m \u001b[39mself\u001b[39;49m\u001b[39m.\u001b[39;49m_backtrack(\n\u001b[0;32m    289\u001b[0m     csp_instance\u001b[39m=\u001b[39;49mcsp_instance, state\u001b[39m=\u001b[39;49m\u001b[39mdict\u001b[39;49m()\n\u001b[0;32m    290\u001b[0m )\n\u001b[0;32m    291\u001b[0m readable_state \u001b[39m=\u001b[39m \u001b[39mdict\u001b[39m()\n\u001b[0;32m    292\u001b[0m \u001b[39mfor\u001b[39;00m index \u001b[39min\u001b[39;00m indexes_state:\n",
      "File \u001b[1;32mc:\\Users\\alexi\\Documents\\GitHub\\projet_PPC\\backtrack\\backtrack_class.py:254\u001b[0m, in \u001b[0;36mBacktrackClass._backtrack\u001b[1;34m(self, csp_instance, state, last_variable_index)\u001b[0m\n\u001b[0;32m    251\u001b[0m new_state \u001b[39m=\u001b[39m state\u001b[39m.\u001b[39mcopy()\n\u001b[0;32m    252\u001b[0m new_state\u001b[39m.\u001b[39mupdate({new_variable_index: new_variable_possible_value})\n\u001b[1;32m--> 254\u001b[0m child_result, child_state \u001b[39m=\u001b[39m \u001b[39mself\u001b[39;49m\u001b[39m.\u001b[39;49m_backtrack(\n\u001b[0;32m    255\u001b[0m     csp_instance\u001b[39m=\u001b[39;49mcsp_instance,\n\u001b[0;32m    256\u001b[0m     state\u001b[39m=\u001b[39;49mnew_state,\n\u001b[0;32m    257\u001b[0m     last_variable_index\u001b[39m=\u001b[39;49mnew_variable_index,\n\u001b[0;32m    258\u001b[0m )\n\u001b[0;32m    259\u001b[0m \u001b[39mif\u001b[39;00m child_result:\n\u001b[0;32m    260\u001b[0m     \u001b[39m# If a sub node has a solution, go back up and return true\u001b[39;00m\n\u001b[0;32m    261\u001b[0m     \u001b[39mreturn\u001b[39;00m \u001b[39mTrue\u001b[39;00m, child_state\n",
      "File \u001b[1;32mc:\\Users\\alexi\\Documents\\GitHub\\projet_PPC\\backtrack\\backtrack_class.py:254\u001b[0m, in \u001b[0;36mBacktrackClass._backtrack\u001b[1;34m(self, csp_instance, state, last_variable_index)\u001b[0m\n\u001b[0;32m    251\u001b[0m new_state \u001b[39m=\u001b[39m state\u001b[39m.\u001b[39mcopy()\n\u001b[0;32m    252\u001b[0m new_state\u001b[39m.\u001b[39mupdate({new_variable_index: new_variable_possible_value})\n\u001b[1;32m--> 254\u001b[0m child_result, child_state \u001b[39m=\u001b[39m \u001b[39mself\u001b[39;49m\u001b[39m.\u001b[39;49m_backtrack(\n\u001b[0;32m    255\u001b[0m     csp_instance\u001b[39m=\u001b[39;49mcsp_instance,\n\u001b[0;32m    256\u001b[0m     state\u001b[39m=\u001b[39;49mnew_state,\n\u001b[0;32m    257\u001b[0m     last_variable_index\u001b[39m=\u001b[39;49mnew_variable_index,\n\u001b[0;32m    258\u001b[0m )\n\u001b[0;32m    259\u001b[0m \u001b[39mif\u001b[39;00m child_result:\n\u001b[0;32m    260\u001b[0m     \u001b[39m# If a sub node has a solution, go back up and return true\u001b[39;00m\n\u001b[0;32m    261\u001b[0m     \u001b[39mreturn\u001b[39;00m \u001b[39mTrue\u001b[39;00m, child_state\n",
      "    \u001b[1;31m[... skipping similar frames: BacktrackClass._backtrack at line 254 (48 times)]\u001b[0m\n",
      "File \u001b[1;32mc:\\Users\\alexi\\Documents\\GitHub\\projet_PPC\\backtrack\\backtrack_class.py:254\u001b[0m, in \u001b[0;36mBacktrackClass._backtrack\u001b[1;34m(self, csp_instance, state, last_variable_index)\u001b[0m\n\u001b[0;32m    251\u001b[0m new_state \u001b[39m=\u001b[39m state\u001b[39m.\u001b[39mcopy()\n\u001b[0;32m    252\u001b[0m new_state\u001b[39m.\u001b[39mupdate({new_variable_index: new_variable_possible_value})\n\u001b[1;32m--> 254\u001b[0m child_result, child_state \u001b[39m=\u001b[39m \u001b[39mself\u001b[39;49m\u001b[39m.\u001b[39;49m_backtrack(\n\u001b[0;32m    255\u001b[0m     csp_instance\u001b[39m=\u001b[39;49mcsp_instance,\n\u001b[0;32m    256\u001b[0m     state\u001b[39m=\u001b[39;49mnew_state,\n\u001b[0;32m    257\u001b[0m     last_variable_index\u001b[39m=\u001b[39;49mnew_variable_index,\n\u001b[0;32m    258\u001b[0m )\n\u001b[0;32m    259\u001b[0m \u001b[39mif\u001b[39;00m child_result:\n\u001b[0;32m    260\u001b[0m     \u001b[39m# If a sub node has a solution, go back up and return true\u001b[39;00m\n\u001b[0;32m    261\u001b[0m     \u001b[39mreturn\u001b[39;00m \u001b[39mTrue\u001b[39;00m, child_state\n",
      "File \u001b[1;32mc:\\Users\\alexi\\Documents\\GitHub\\projet_PPC\\backtrack\\backtrack_class.py:235\u001b[0m, in \u001b[0;36mBacktrackClass._backtrack\u001b[1;34m(self, csp_instance, state, last_variable_index)\u001b[0m\n\u001b[0;32m    232\u001b[0m         \u001b[39mreturn\u001b[39;00m \u001b[39mFalse\u001b[39;00m, state\n\u001b[0;32m    234\u001b[0m \u001b[39m# Otherwise, choose a new variable to add to state\u001b[39;00m\n\u001b[1;32m--> 235\u001b[0m new_variable_index \u001b[39m=\u001b[39m \u001b[39mself\u001b[39;49m\u001b[39m.\u001b[39;49mnext_variable_choosing_method(\n\u001b[0;32m    236\u001b[0m     csp_instance\u001b[39m=\u001b[39;49mcsp_instance,\n\u001b[0;32m    237\u001b[0m     state\u001b[39m=\u001b[39;49mstate,\n\u001b[0;32m    238\u001b[0m     domains_last_valid_index\u001b[39m=\u001b[39;49m\u001b[39mself\u001b[39;49m\u001b[39m.\u001b[39;49mdomains_last_valid_index,\n\u001b[0;32m    239\u001b[0m )\n\u001b[0;32m    240\u001b[0m \u001b[39m# Compute the order in which to test the possible values\u001b[39;00m\n\u001b[0;32m    241\u001b[0m new_variable_values_order \u001b[39m=\u001b[39m \u001b[39mself\u001b[39m\u001b[39m.\u001b[39mnext_values_ordering_method(\n\u001b[0;32m    242\u001b[0m     csp_instance\u001b[39m=\u001b[39mcsp_instance,\n\u001b[0;32m    243\u001b[0m     last_variable_index\u001b[39m=\u001b[39mnew_variable_index,\n\u001b[0;32m    244\u001b[0m     domain_last_valid_index\u001b[39m=\u001b[39m\u001b[39mself\u001b[39m\u001b[39m.\u001b[39mdomains_last_valid_index[new_variable_index],\n\u001b[0;32m    245\u001b[0m )\n",
      "File \u001b[1;32mc:\\Users\\alexi\\Documents\\GitHub\\projet_PPC\\backtrack\\variables_choosing_algorithms.py:31\u001b[0m, in \u001b[0;36msmallest_domain_variable_choosing\u001b[1;34m(csp_instance, state, domains_last_valid_index)\u001b[0m\n\u001b[0;32m     23\u001b[0m \u001b[39m\"\"\"\u001b[39;00m\n\u001b[0;32m     24\u001b[0m \u001b[39mHere, we choose the variable with the smallest domain to take next.\u001b[39;00m\n\u001b[0;32m     25\u001b[0m \u001b[39mreturn np.argmin(domains_sizes)\u001b[39;00m\n\u001b[0;32m     26\u001b[0m \u001b[39m\"\"\"\u001b[39;00m\n\u001b[0;32m     27\u001b[0m domains_sizes \u001b[39m=\u001b[39m [\n\u001b[0;32m     28\u001b[0m     domains_last_valid_index[i] \u001b[39mif\u001b[39;00m state\u001b[39m.\u001b[39mget(i, \u001b[39mNone\u001b[39;00m) \u001b[39mis\u001b[39;00m \u001b[39mNone\u001b[39;00m \u001b[39melse\u001b[39;00m math\u001b[39m.\u001b[39minf\n\u001b[0;32m     29\u001b[0m     \u001b[39mfor\u001b[39;00m i \u001b[39min\u001b[39;00m \u001b[39mrange\u001b[39m(\u001b[39mlen\u001b[39m(csp_instance\u001b[39m.\u001b[39mvariables))\n\u001b[0;32m     30\u001b[0m ]\n\u001b[1;32m---> 31\u001b[0m \u001b[39mreturn\u001b[39;00m np\u001b[39m.\u001b[39;49margmin(domains_sizes)\n",
      "File \u001b[1;32m<__array_function__ internals>:180\u001b[0m, in \u001b[0;36margmin\u001b[1;34m(*args, **kwargs)\u001b[0m\n",
      "File \u001b[1;32mc:\\Users\\alexi\\Documents\\GitHub\\projet_PPC\\lib\\site-packages\\numpy\\core\\fromnumeric.py:1312\u001b[0m, in \u001b[0;36margmin\u001b[1;34m(a, axis, out, keepdims)\u001b[0m\n\u001b[0;32m   1225\u001b[0m \u001b[39m\"\"\"\u001b[39;00m\n\u001b[0;32m   1226\u001b[0m \u001b[39mReturns the indices of the minimum values along an axis.\u001b[39;00m\n\u001b[0;32m   1227\u001b[0m \n\u001b[1;32m   (...)\u001b[0m\n\u001b[0;32m   1309\u001b[0m \u001b[39m(2, 1, 4)\u001b[39;00m\n\u001b[0;32m   1310\u001b[0m \u001b[39m\"\"\"\u001b[39;00m\n\u001b[0;32m   1311\u001b[0m kwds \u001b[39m=\u001b[39m {\u001b[39m'\u001b[39m\u001b[39mkeepdims\u001b[39m\u001b[39m'\u001b[39m: keepdims} \u001b[39mif\u001b[39;00m keepdims \u001b[39mis\u001b[39;00m \u001b[39mnot\u001b[39;00m np\u001b[39m.\u001b[39m_NoValue \u001b[39melse\u001b[39;00m {}\n\u001b[1;32m-> 1312\u001b[0m \u001b[39mreturn\u001b[39;00m _wrapfunc(a, \u001b[39m'\u001b[39m\u001b[39margmin\u001b[39m\u001b[39m'\u001b[39m, axis\u001b[39m=\u001b[39maxis, out\u001b[39m=\u001b[39mout, \u001b[39m*\u001b[39m\u001b[39m*\u001b[39mkwds)\n",
      "File \u001b[1;32mc:\\Users\\alexi\\Documents\\GitHub\\projet_PPC\\lib\\site-packages\\numpy\\core\\fromnumeric.py:54\u001b[0m, in \u001b[0;36m_wrapfunc\u001b[1;34m(obj, method, *args, **kwds)\u001b[0m\n\u001b[0;32m     52\u001b[0m bound \u001b[39m=\u001b[39m \u001b[39mgetattr\u001b[39m(obj, method, \u001b[39mNone\u001b[39;00m)\n\u001b[0;32m     53\u001b[0m \u001b[39mif\u001b[39;00m bound \u001b[39mis\u001b[39;00m \u001b[39mNone\u001b[39;00m:\n\u001b[1;32m---> 54\u001b[0m     \u001b[39mreturn\u001b[39;00m _wrapit(obj, method, \u001b[39m*\u001b[39margs, \u001b[39m*\u001b[39m\u001b[39m*\u001b[39mkwds)\n\u001b[0;32m     56\u001b[0m \u001b[39mtry\u001b[39;00m:\n\u001b[0;32m     57\u001b[0m     \u001b[39mreturn\u001b[39;00m bound(\u001b[39m*\u001b[39margs, \u001b[39m*\u001b[39m\u001b[39m*\u001b[39mkwds)\n",
      "File \u001b[1;32mc:\\Users\\alexi\\Documents\\GitHub\\projet_PPC\\lib\\site-packages\\numpy\\core\\fromnumeric.py:43\u001b[0m, in \u001b[0;36m_wrapit\u001b[1;34m(obj, method, *args, **kwds)\u001b[0m\n\u001b[0;32m     41\u001b[0m \u001b[39mexcept\u001b[39;00m \u001b[39mAttributeError\u001b[39;00m:\n\u001b[0;32m     42\u001b[0m     wrap \u001b[39m=\u001b[39m \u001b[39mNone\u001b[39;00m\n\u001b[1;32m---> 43\u001b[0m result \u001b[39m=\u001b[39m \u001b[39mgetattr\u001b[39m(asarray(obj), method)(\u001b[39m*\u001b[39margs, \u001b[39m*\u001b[39m\u001b[39m*\u001b[39mkwds)\n\u001b[0;32m     44\u001b[0m \u001b[39mif\u001b[39;00m wrap:\n\u001b[0;32m     45\u001b[0m     \u001b[39mif\u001b[39;00m \u001b[39mnot\u001b[39;00m \u001b[39misinstance\u001b[39m(result, mu\u001b[39m.\u001b[39mndarray):\n",
      "\u001b[1;31mKeyboardInterrupt\u001b[0m: "
     ]
    }
   ],
   "source": [
    "from time import time\n",
    "\n",
    "import pandas as pd\n",
    "\n",
    "from instances import sudoku_problem, SUDOKU_INSTANCES_PATH, SUDOKU_ALL_INSTANCES\n",
    "from backtrack import BacktrackClass\n",
    "from backtrack.variables_choosing_algorithms import smallest_domain_variable_choosing\n",
    "\n",
    "\n",
    "# Display setup\n",
    "columns = [\n",
    "    \"instance\",\n",
    "    \"time\",\n",
    "    \"backtrack nodes\",\n",
    "    \"time_limit\",\n",
    "    \"finished\",\n",
    "]\n",
    "display_dataframe = pd.DataFrame({column: [] for column in columns})\n",
    "\n",
    "\n",
    "backtrack_object = BacktrackClass(\n",
    "    #use_forward_checking=True,\n",
    "    #use_arc_consistency=True,\n",
    "    next_variable_choosing_method=smallest_domain_variable_choosing,\n",
    ")\n",
    "time_limit = 30\n",
    "for instance in SUDOKU_ALL_INSTANCES:\n",
    "    print(\"Current instance\", instance)\n",
    "    csp_sudoku = sudoku_problem(\n",
    "        instance_path=SUDOKU_INSTANCES_PATH / instance\n",
    "    )\n",
    "    start = time()\n",
    "    result, state = backtrack_object.run_backtrack(csp_instance=csp_sudoku)\n",
    "    # Adding to display\n",
    "    columns = [\n",
    "    \"instance\",\n",
    "    \"time\",\n",
    "    \"backtrack nodes\",\n",
    "    \"time_limit\",\n",
    "    \"finished\",\n",
    "]\n",
    "    new_row = [\n",
    "        instance.split(\".\")[0],\n",
    "        time() - start,\n",
    "        backtrack_object.nodes,\n",
    "        time_limit,\n",
    "        result,\n",
    "    ]\n",
    "    display_dataframe.loc[len(display_dataframe)] = new_row\n",
    "\n",
    "\n",
    "print(display_dataframe)\n",
    "display_dataframe.to_csv(\"./sudoku_results/sudoku_smallest_1.csv\", sep=\";\")"
   ]
  }
 ],
 "metadata": {
  "kernelspec": {
   "display_name": "projet_PPC",
   "language": "python",
   "name": "python3"
  },
  "language_info": {
   "codemirror_mode": {
    "name": "ipython",
    "version": 3
   },
   "file_extension": ".py",
   "mimetype": "text/x-python",
   "name": "python",
   "nbconvert_exporter": "python",
   "pygments_lexer": "ipython3",
   "version": "3.10.2"
  },
  "orig_nbformat": 4,
  "vscode": {
   "interpreter": {
    "hash": "c0021910f745d5c1d4816958c5dc5b7f4254623e1a2c0d2037241731637929d6"
   }
  }
 },
 "nbformat": 4,
 "nbformat_minor": 2
}

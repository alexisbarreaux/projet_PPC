{
 "cells": [
  {
   "cell_type": "code",
   "execution_count": 10,
   "metadata": {},
   "outputs": [
    {
     "name": "stdout",
     "output_type": "stream",
     "text": [
      "Alldiff itertools : 0.13360018730163575, alldiff manual 0.0\n"
     ]
    }
   ],
   "source": [
    "from itertools import product\n",
    "from time import time\n",
    "\n",
    "from constants import domain, constraint\n",
    "\n",
    "\n",
    "def alldiff(domain_1: domain, domain_2: domain) -> constraint:\n",
    "    return list(filter(lambda x: x[0] != x[1], product(domain_1, domain_2)))\n",
    "\n",
    "\n",
    "def alldiff2(domain_1: domain, domain_2: domain) -> constraint:\n",
    "    return [\n",
    "        (value_1, value_2)\n",
    "        for value_1 in domain_1\n",
    "        for value_2 in domain_2\n",
    "        if value_1 != value_2\n",
    "    ]\n",
    "\n",
    "\n",
    "domain_1 = [i for i in range(1000)]\n",
    "domain_2 = [i for i in range(0, 1000, 2)]\n",
    "assert alldiff(domain_1, domain_2) == alldiff2(domain_1, domain_2)\n",
    "\n",
    "time_all_diff_1 = 0\n",
    "time_all_diff_2 = 0\n",
    "number_of_iterations = 10\n",
    "for _ in range(number_of_iterations):\n",
    "    start_time = time()\n",
    "    alldiff(domain_1, domain_2)\n",
    "    time_all_diff_1 += (time_1 := time()) - start_time\n",
    "    alldiff2(domain_1, domain_2)\n",
    "    time_all_diff_1 += time() - time_1\n",
    "\n",
    "print(\n",
    "    f\"Alldiff itertools : {time_all_diff_1 / number_of_iterations}, alldiff manual {time_all_diff_2 / number_of_iterations}\"\n",
    ")\n"
   ]
  }
 ],
 "metadata": {
  "kernelspec": {
   "display_name": "Python 3.10.2 ('projet_PPC': venv)",
   "language": "python",
   "name": "python3"
  },
  "language_info": {
   "codemirror_mode": {
    "name": "ipython",
    "version": 3
   },
   "file_extension": ".py",
   "mimetype": "text/x-python",
   "name": "python",
   "nbconvert_exporter": "python",
   "pygments_lexer": "ipython3",
   "version": "3.10.2"
  },
  "orig_nbformat": 4,
  "vscode": {
   "interpreter": {
    "hash": "c0021910f745d5c1d4816958c5dc5b7f4254623e1a2c0d2037241731637929d6"
   }
  }
 },
 "nbformat": 4,
 "nbformat_minor": 2
}

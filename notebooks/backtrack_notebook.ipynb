{
 "cells": [
  {
   "cell_type": "code",
   "execution_count": 2,
   "metadata": {},
   "outputs": [
    {
     "ename": "ImportError",
     "evalue": "attempted relative import with no known parent package",
     "output_type": "error",
     "traceback": [
      "\u001b[1;31m---------------------------------------------------------------------------\u001b[0m",
      "\u001b[1;31mImportError\u001b[0m                               Traceback (most recent call last)",
      "\u001b[1;32mc:\\Users\\sulia\\Documents\\MPRO\\PPC\\projet_PPC\\notebooks\\backtrack_notebook.ipynb Cellule 1\u001b[0m in \u001b[0;36m<cell line: 1>\u001b[1;34m()\u001b[0m\n\u001b[1;32m----> <a href='vscode-notebook-cell:/c%3A/Users/sulia/Documents/MPRO/PPC/projet_PPC/notebooks/backtrack_notebook.ipynb#W0sZmlsZQ%3D%3D?line=0'>1</a>\u001b[0m \u001b[39mfrom\u001b[39;00m \u001b[39m.\u001b[39;00m\u001b[39m.\u001b[39;00m\u001b[39mmodels\u001b[39;00m \u001b[39mimport\u001b[39;00m CSP\n\u001b[0;32m      <a href='vscode-notebook-cell:/c%3A/Users/sulia/Documents/MPRO/PPC/projet_PPC/notebooks/backtrack_notebook.ipynb#W0sZmlsZQ%3D%3D?line=1'>2</a>\u001b[0m \u001b[39mfrom\u001b[39;00m \u001b[39mbacktrack\u001b[39;00m \u001b[39mimport\u001b[39;00m BacktrackClass\n\u001b[0;32m      <a href='vscode-notebook-cell:/c%3A/Users/sulia/Documents/MPRO/PPC/projet_PPC/notebooks/backtrack_notebook.ipynb#W0sZmlsZQ%3D%3D?line=2'>3</a>\u001b[0m \u001b[39mfrom\u001b[39;00m \u001b[39mwrappers\u001b[39;00m \u001b[39mimport\u001b[39;00m alldiff\n",
      "\u001b[1;31mImportError\u001b[0m: attempted relative import with no known parent package"
     ]
    }
   ],
   "source": [
    "from models import CSP\n",
    "from backtrack import BacktrackClass\n",
    "from wrappers import alldiff\n",
    "\n",
    "variables = [\"A\", \"B\"]\n",
    "domains = {\n",
    "    \"A\": [0,1],\n",
    "    \"B\": [0,1]\n",
    "}\n",
    "csp = CSP(variables=variables, domains=domains, constraints={})\n",
    "csp.constraints = alldiff(csp)\n",
    "# {(\"A\", \"B\"): [(0,1), (1,0)]}\n",
    "backtrack = BacktrackClass()\n",
    "backtrack.backtrack(csp_instance=csp, state={})"
   ]
  }
 ],
 "metadata": {
  "kernelspec": {
   "display_name": "Python 3",
   "language": "python",
   "name": "python3"
  },
  "language_info": {
   "codemirror_mode": {
    "name": "ipython",
    "version": 3
   },
   "file_extension": ".py",
   "mimetype": "text/x-python",
   "name": "python",
   "nbconvert_exporter": "python",
   "pygments_lexer": "ipython3",
   "version": "3.10.5"
  },
  "orig_nbformat": 4,
  "vscode": {
   "interpreter": {
    "hash": "f2eab4400b6ec7ed6edf34e3c2f0bf74c2986f0ac08a40c656915dcc57d49525"
   }
  }
 },
 "nbformat": 4,
 "nbformat_minor": 2
}

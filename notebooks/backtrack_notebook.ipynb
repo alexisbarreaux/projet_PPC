{
 "cells": [
  {
   "cell_type": "code",
   "execution_count": 1,
   "metadata": {},
   "outputs": [
    {
     "data": {
      "text/plain": [
       "(True, {'A': 0, 'B': 1})"
      ]
     },
     "execution_count": 1,
     "metadata": {},
     "output_type": "execute_result"
    }
   ],
   "source": [
    "from models import CSP\n",
    "from backtrack import BacktrackClass\n",
    "from wrappers import alldiff\n",
    "\n",
    "variables = [\"A\", \"B\"]\n",
    "domains = [[0, 1], [0, 1]]\n",
    "csp = CSP(variables=variables, domains=domains, constraints={})\n",
    "csp.constraints = {(0, 1): alldiff, (1, 0): alldiff}\n",
    "# {(\"A\", \"B\"): [(0,1), (1,0)]}\n",
    "backtrack = BacktrackClass()\n",
    "backtrack.run_backtrack(csp_instance=csp)"
   ]
  }
 ],
 "metadata": {
  "kernelspec": {
   "display_name": "projet_PPC",
   "language": "python",
   "name": "python3"
  },
  "language_info": {
   "codemirror_mode": {
    "name": "ipython",
    "version": 3
   },
   "file_extension": ".py",
   "mimetype": "text/x-python",
   "name": "python",
   "nbconvert_exporter": "python",
   "pygments_lexer": "ipython3",
   "version": "3.10.5"
  },
  "orig_nbformat": 4,
  "vscode": {
   "interpreter": {
    "hash": "97bf09204eacb64ee93020726c27896ab50c4211d0e7c329e7917478e5b7b255"
   }
  }
 },
 "nbformat": 4,
 "nbformat_minor": 2
}

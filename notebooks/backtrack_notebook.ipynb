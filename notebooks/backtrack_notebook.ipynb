{
 "cells": [
  {
   "cell_type": "code",
   "execution_count": 3,
   "metadata": {},
   "outputs": [
    {
     "data": {
      "text/plain": [
       "(True, {'A': 0, 'B': 1})"
      ]
     },
     "execution_count": 3,
     "metadata": {},
     "output_type": "execute_result"
    }
   ],
   "source": [
    "from models import CSP\n",
    "from backtrack import BacktrackClass\n",
    "from wrappers import alldiff\n",
    "\n",
    "variables = [\"A\", \"B\"]\n",
    "domains = {\n",
    "    \"A\": [0,1],\n",
    "    \"B\": [0,1]\n",
    "}\n",
    "csp = CSP(variables=variables, domains=domains, constraints={})\n",
    "csp.constraints = alldiff(csp)\n",
    "# {(\"A\", \"B\"): [(0,1), (1,0)]}\n",
    "backtrack = BacktrackClass()\n",
    "backtrack.backtrack(csp_instance=csp, state={})"
   ]
  }
 ],
 "metadata": {
  "kernelspec": {
   "display_name": "Python 3.10.2 ('projet_PPC': venv)",
   "language": "python",
   "name": "python3"
  },
  "language_info": {
   "codemirror_mode": {
    "name": "ipython",
    "version": 3
   },
   "file_extension": ".py",
   "mimetype": "text/x-python",
   "name": "python",
   "nbconvert_exporter": "python",
   "pygments_lexer": "ipython3",
   "version": "3.10.2"
  },
  "orig_nbformat": 4,
  "vscode": {
   "interpreter": {
    "hash": "c0021910f745d5c1d4816958c5dc5b7f4254623e1a2c0d2037241731637929d6"
   }
  }
 },
 "nbformat": 4,
 "nbformat_minor": 2
}

{
 "cells": [
  {
   "cell_type": "code",
   "execution_count": 1,
   "metadata": {},
   "outputs": [
    {
     "ename": "TypeError",
     "evalue": "<lambda>() missing 3 required positional arguments: 'j', 'value_var_i', and 'value_var_j'",
     "output_type": "error",
     "traceback": [
      "\u001b[1;31m---------------------------------------------------------------------------\u001b[0m",
      "\u001b[1;31mTypeError\u001b[0m                                 Traceback (most recent call last)",
      "Cell \u001b[1;32mIn [1], line 11\u001b[0m\n\u001b[0;32m      6\u001b[0m domains \u001b[39m=\u001b[39m {\n\u001b[0;32m      7\u001b[0m     \u001b[39m\"\u001b[39m\u001b[39mA\u001b[39m\u001b[39m\"\u001b[39m: [\u001b[39m0\u001b[39m,\u001b[39m1\u001b[39m],\n\u001b[0;32m      8\u001b[0m     \u001b[39m\"\u001b[39m\u001b[39mB\u001b[39m\u001b[39m\"\u001b[39m: [\u001b[39m0\u001b[39m,\u001b[39m1\u001b[39m]\n\u001b[0;32m      9\u001b[0m }\n\u001b[0;32m     10\u001b[0m csp \u001b[39m=\u001b[39m CSP(variables\u001b[39m=\u001b[39mvariables, domains\u001b[39m=\u001b[39mdomains, constraints\u001b[39m=\u001b[39m{})\n\u001b[1;32m---> 11\u001b[0m csp\u001b[39m.\u001b[39mconstraints \u001b[39m=\u001b[39m alldiff(csp)\n\u001b[0;32m     12\u001b[0m \u001b[39m# {(\"A\", \"B\"): [(0,1), (1,0)]}\u001b[39;00m\n\u001b[0;32m     13\u001b[0m backtrack \u001b[39m=\u001b[39m BacktrackClass()\n",
      "\u001b[1;31mTypeError\u001b[0m: <lambda>() missing 3 required positional arguments: 'j', 'value_var_i', and 'value_var_j'"
     ]
    }
   ],
   "source": [
    "from models import CSP\n",
    "from backtrack import BacktrackClass\n",
    "from wrappers import alldiff\n",
    "\n",
    "variables = [\"A\", \"B\"]\n",
    "domains = {\n",
    "    \"A\": [0,1],\n",
    "    \"B\": [0,1]\n",
    "}\n",
    "csp = CSP(variables=variables, domains=domains, constraints={})\n",
    "csp.constraints = alldiff(csp)\n",
    "# {(\"A\", \"B\"): [(0,1), (1,0)]}\n",
    "backtrack = BacktrackClass()\n",
    "backtrack.backtrack(csp_instance=csp, state={})"
   ]
  }
 ],
 "metadata": {
  "kernelspec": {
   "display_name": "projet_PPC",
   "language": "python",
   "name": "python3"
  },
  "language_info": {
   "codemirror_mode": {
    "name": "ipython",
    "version": 3
   },
   "file_extension": ".py",
   "mimetype": "text/x-python",
   "name": "python",
   "nbconvert_exporter": "python",
   "pygments_lexer": "ipython3",
   "version": "3.10.5"
  },
  "orig_nbformat": 4,
  "vscode": {
   "interpreter": {
    "hash": "97bf09204eacb64ee93020726c27896ab50c4211d0e7c329e7917478e5b7b255"
   }
  }
 },
 "nbformat": 4,
 "nbformat_minor": 2
}

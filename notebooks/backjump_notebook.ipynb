{
 "cells": [
  {
   "cell_type": "code",
   "execution_count": 1,
   "metadata": {},
   "outputs": [
    {
     "name": "stdout",
     "output_type": "stream",
     "text": [
      "[0]\n",
      "{1}\n"
     ]
    },
    {
     "ename": "NameError",
     "evalue": "csp.instance.variable_is_constrainedy is None",
     "output_type": "error",
     "traceback": [
      "\u001b[1;31m---------------------------------------------------------------------------\u001b[0m",
      "\u001b[1;31mNameError\u001b[0m                                 Traceback (most recent call last)",
      "Cell \u001b[1;32mIn [1], line 11\u001b[0m\n\u001b[0;32m      9\u001b[0m \u001b[39m# {(\"A\", \"B\"): [(0,1), (1,0)]}\u001b[39;00m\n\u001b[0;32m     10\u001b[0m backtrack \u001b[39m=\u001b[39m BackjumpClass()\n\u001b[1;32m---> 11\u001b[0m backtrack\u001b[39m.\u001b[39;49mrun_backjump(csp_instance\u001b[39m=\u001b[39;49mcsp)\n",
      "File \u001b[1;32mc:\\Users\\sulia\\Documents\\MPRO\\PPC\\projet_PPC\\backjump\\backjump_class.py:368\u001b[0m, in \u001b[0;36mBackjumpClass.run_backjump\u001b[1;34m(self, csp_instance)\u001b[0m\n\u001b[0;32m    362\u001b[0m \u001b[39mself\u001b[39m\u001b[39m.\u001b[39m_reset_statistics_variables()\n\u001b[0;32m    364\u001b[0m \u001b[39mself\u001b[39m\u001b[39m.\u001b[39mdomains_last_valid_index \u001b[39m=\u001b[39m [\n\u001b[0;32m    365\u001b[0m     \u001b[39mlen\u001b[39m(csp_instance\u001b[39m.\u001b[39mdomains[i]) \u001b[39m-\u001b[39m \u001b[39m1\u001b[39m \u001b[39mfor\u001b[39;00m i \u001b[39min\u001b[39;00m \u001b[39mrange\u001b[39m(\u001b[39mlen\u001b[39m(csp_instance\u001b[39m.\u001b[39mdomains))\n\u001b[0;32m    366\u001b[0m ]\n\u001b[1;32m--> 368\u001b[0m found_solution, indexes_state \u001b[39m=\u001b[39m \u001b[39mself\u001b[39;49m\u001b[39m.\u001b[39;49m_backjump(\n\u001b[0;32m    369\u001b[0m     csp_instance\u001b[39m=\u001b[39;49mcsp_instance, state\u001b[39m=\u001b[39;49m\u001b[39mdict\u001b[39;49m(), order\u001b[39m=\u001b[39;49m\u001b[39mlist\u001b[39;49m()\n\u001b[0;32m    370\u001b[0m )\n\u001b[0;32m    371\u001b[0m readable_state \u001b[39m=\u001b[39m \u001b[39mdict\u001b[39m()\n\u001b[0;32m    372\u001b[0m \u001b[39mfor\u001b[39;00m index \u001b[39min\u001b[39;00m indexes_state:\n",
      "File \u001b[1;32mc:\\Users\\sulia\\Documents\\MPRO\\PPC\\projet_PPC\\backjump\\backjump_class.py:305\u001b[0m, in \u001b[0;36mBackjumpClass._backjump\u001b[1;34m(self, csp_instance, state, order, last_variable_index)\u001b[0m\n\u001b[0;32m    297\u001b[0m new_state \u001b[39m=\u001b[39m state\u001b[39m.\u001b[39mcopy()\n\u001b[0;32m    298\u001b[0m new_state\u001b[39m.\u001b[39mupdate({new_variable_index: new_variable_possible_value})\n\u001b[0;32m    300\u001b[0m (\n\u001b[0;32m    301\u001b[0m     child_result,\n\u001b[0;32m    302\u001b[0m     child_state,\n\u001b[0;32m    303\u001b[0m     child_jump,\n\u001b[0;32m    304\u001b[0m     child_relevant_variables,\n\u001b[1;32m--> 305\u001b[0m ) \u001b[39m=\u001b[39m \u001b[39mself\u001b[39;49m\u001b[39m.\u001b[39;49m_backjump(\n\u001b[0;32m    306\u001b[0m     csp_instance\u001b[39m=\u001b[39;49mcsp_instance,\n\u001b[0;32m    307\u001b[0m     state\u001b[39m=\u001b[39;49mnew_state,\n\u001b[0;32m    308\u001b[0m     order\u001b[39m=\u001b[39;49morder,\n\u001b[0;32m    309\u001b[0m     last_variable_index\u001b[39m=\u001b[39;49mnew_variable_index,\n\u001b[0;32m    310\u001b[0m )\n\u001b[0;32m    311\u001b[0m \u001b[39mif\u001b[39;00m child_result:\n\u001b[0;32m    312\u001b[0m     \u001b[39m# If a sub node has a solution, go back up and return true\u001b[39;00m\n\u001b[0;32m    313\u001b[0m     \u001b[39mreturn\u001b[39;00m \u001b[39mTrue\u001b[39;00m, child_state, \u001b[39mNone\u001b[39;00m, \u001b[39mNone\u001b[39;00m\n",
      "File \u001b[1;32mc:\\Users\\sulia\\Documents\\MPRO\\PPC\\projet_PPC\\backjump\\backjump_class.py:305\u001b[0m, in \u001b[0;36mBackjumpClass._backjump\u001b[1;34m(self, csp_instance, state, order, last_variable_index)\u001b[0m\n\u001b[0;32m    297\u001b[0m new_state \u001b[39m=\u001b[39m state\u001b[39m.\u001b[39mcopy()\n\u001b[0;32m    298\u001b[0m new_state\u001b[39m.\u001b[39mupdate({new_variable_index: new_variable_possible_value})\n\u001b[0;32m    300\u001b[0m (\n\u001b[0;32m    301\u001b[0m     child_result,\n\u001b[0;32m    302\u001b[0m     child_state,\n\u001b[0;32m    303\u001b[0m     child_jump,\n\u001b[0;32m    304\u001b[0m     child_relevant_variables,\n\u001b[1;32m--> 305\u001b[0m ) \u001b[39m=\u001b[39m \u001b[39mself\u001b[39;49m\u001b[39m.\u001b[39;49m_backjump(\n\u001b[0;32m    306\u001b[0m     csp_instance\u001b[39m=\u001b[39;49mcsp_instance,\n\u001b[0;32m    307\u001b[0m     state\u001b[39m=\u001b[39;49mnew_state,\n\u001b[0;32m    308\u001b[0m     order\u001b[39m=\u001b[39;49morder,\n\u001b[0;32m    309\u001b[0m     last_variable_index\u001b[39m=\u001b[39;49mnew_variable_index,\n\u001b[0;32m    310\u001b[0m )\n\u001b[0;32m    311\u001b[0m \u001b[39mif\u001b[39;00m child_result:\n\u001b[0;32m    312\u001b[0m     \u001b[39m# If a sub node has a solution, go back up and return true\u001b[39;00m\n\u001b[0;32m    313\u001b[0m     \u001b[39mreturn\u001b[39;00m \u001b[39mTrue\u001b[39;00m, child_state, \u001b[39mNone\u001b[39;00m, \u001b[39mNone\u001b[39;00m\n",
      "File \u001b[1;32mc:\\Users\\sulia\\Documents\\MPRO\\PPC\\projet_PPC\\backjump\\backjump_class.py:196\u001b[0m, in \u001b[0;36mBackjumpClass._backjump\u001b[1;34m(self, csp_instance, state, order, last_variable_index)\u001b[0m\n\u001b[0;32m    194\u001b[0m     \u001b[39mprint\u001b[39m(order)\n\u001b[0;32m    195\u001b[0m     \u001b[39mprint\u001b[39m(relevant_variables)\n\u001b[1;32m--> 196\u001b[0m     jump \u001b[39m=\u001b[39m \u001b[39mself\u001b[39;49m\u001b[39m.\u001b[39;49mcompute_jump(\n\u001b[0;32m    197\u001b[0m         csp_instance\u001b[39m=\u001b[39;49mcsp_instance,\n\u001b[0;32m    198\u001b[0m         order\u001b[39m=\u001b[39;49morder,\n\u001b[0;32m    199\u001b[0m         relevant_variables\u001b[39m=\u001b[39;49mrelevant_variables,\n\u001b[0;32m    200\u001b[0m     )\n\u001b[0;32m    201\u001b[0m     \u001b[39mreturn\u001b[39;00m \u001b[39mFalse\u001b[39;00m, state, jump, relevant_variables\n\u001b[0;32m    203\u001b[0m \u001b[39m# If the current state is a leaf, evaluate it\u001b[39;00m\n",
      "File \u001b[1;32mc:\\Users\\sulia\\Documents\\MPRO\\PPC\\projet_PPC\\backjump\\backjump_class.py:145\u001b[0m, in \u001b[0;36mBackjumpClass.compute_jump\u001b[1;34m(self, csp_instance, order, relevant_variables)\u001b[0m\n\u001b[0;32m    141\u001b[0m \u001b[39mdef\u001b[39;00m \u001b[39mcompute_jump\u001b[39m(\n\u001b[0;32m    142\u001b[0m     \u001b[39mself\u001b[39m, csp_instance: CSP, order: \u001b[39mlist\u001b[39m, relevant_variables: \u001b[39mset\u001b[39m\n\u001b[0;32m    143\u001b[0m ) \u001b[39m-\u001b[39m\u001b[39m>\u001b[39m \u001b[39mint\u001b[39m:\n\u001b[0;32m    144\u001b[0m     \u001b[39mif\u001b[39;00m csp_instance\u001b[39m.\u001b[39mvariable_is_constrained_by \u001b[39mis\u001b[39;00m \u001b[39mNone\u001b[39;00m:\n\u001b[1;32m--> 145\u001b[0m         \u001b[39mraise\u001b[39;00m \u001b[39mNameError\u001b[39;00m(\u001b[39m\"\u001b[39m\u001b[39mcsp.instance.variable_is_constrainedy is None\u001b[39m\u001b[39m\"\u001b[39m)\n\u001b[0;32m    146\u001b[0m     relevant_ancestors \u001b[39m=\u001b[39m \u001b[39mset\u001b[39m()\n\u001b[0;32m    147\u001b[0m     \u001b[39mfor\u001b[39;00m variable \u001b[39min\u001b[39;00m relevant_variables:\n",
      "\u001b[1;31mNameError\u001b[0m: csp.instance.variable_is_constrainedy is None"
     ]
    }
   ],
   "source": [
    "from models import CSP\n",
    "from backjump import BackjumpClass\n",
    "from wrappers import alldiff\n",
    "\n",
    "variables = [\"A\", \"B\"]\n",
    "domains = [[0, 1], [0, 1]]\n",
    "csp = CSP(variables=variables, domains=domains, constraints={})\n",
    "csp.add_constraints_with_indices({(0, 1): alldiff, (1, 0): alldiff})\n",
    "# {(\"A\", \"B\"): [(0,1), (1,0)]}\n",
    "backtrack = BackjumpClass()\n",
    "backtrack.run_backjump(csp_instance=csp)"
   ]
  }
 ],
 "metadata": {
  "kernelspec": {
   "display_name": "projet_PPC",
   "language": "python",
   "name": "python3"
  },
  "language_info": {
   "codemirror_mode": {
    "name": "ipython",
    "version": 3
   },
   "file_extension": ".py",
   "mimetype": "text/x-python",
   "name": "python",
   "nbconvert_exporter": "python",
   "pygments_lexer": "ipython3",
   "version": "3.10.5"
  },
  "orig_nbformat": 4,
  "vscode": {
   "interpreter": {
    "hash": "97bf09204eacb64ee93020726c27896ab50c4211d0e7c329e7917478e5b7b255"
   }
  }
 },
 "nbformat": 4,
 "nbformat_minor": 2
}

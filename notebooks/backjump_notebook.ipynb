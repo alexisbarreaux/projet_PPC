{
 "cells": [
  {
   "cell_type": "code",
   "execution_count": 1,
   "metadata": {},
   "outputs": [
    {
     "ename": "ImportError",
     "evalue": "cannot import name 'BacktrackClass' from 'backjump.backjump_class' (c:\\Users\\sulia\\Documents\\MPRO\\PPC\\projet_PPC\\backjump\\backjump_class.py)",
     "output_type": "error",
     "traceback": [
      "\u001b[1;31m---------------------------------------------------------------------------\u001b[0m",
      "\u001b[1;31mImportError\u001b[0m                               Traceback (most recent call last)",
      "Cell \u001b[1;32mIn [1], line 2\u001b[0m\n\u001b[0;32m      1\u001b[0m \u001b[39mfrom\u001b[39;00m \u001b[39mmodels\u001b[39;00m \u001b[39mimport\u001b[39;00m CSP\n\u001b[1;32m----> 2\u001b[0m \u001b[39mfrom\u001b[39;00m \u001b[39mbackjump\u001b[39;00m \u001b[39mimport\u001b[39;00m BackjumpClass\n\u001b[0;32m      3\u001b[0m \u001b[39mfrom\u001b[39;00m \u001b[39mwrappers\u001b[39;00m \u001b[39mimport\u001b[39;00m alldiff\n\u001b[0;32m      5\u001b[0m variables \u001b[39m=\u001b[39m [\u001b[39m\"\u001b[39m\u001b[39mA\u001b[39m\u001b[39m\"\u001b[39m, \u001b[39m\"\u001b[39m\u001b[39mB\u001b[39m\u001b[39m\"\u001b[39m]\n",
      "File \u001b[1;32mc:\\Users\\sulia\\Documents\\MPRO\\PPC\\projet_PPC\\backjump\\__init__.py:2\u001b[0m\n\u001b[0;32m      1\u001b[0m \u001b[39mfrom\u001b[39;00m \u001b[39m.\u001b[39;00m\u001b[39mAC3\u001b[39;00m \u001b[39mimport\u001b[39;00m AC3_current_state\n\u001b[1;32m----> 2\u001b[0m \u001b[39mfrom\u001b[39;00m \u001b[39m.\u001b[39;00m\u001b[39mbackjump_class\u001b[39;00m \u001b[39mimport\u001b[39;00m BacktrackClass\n\u001b[0;32m      3\u001b[0m \u001b[39mfrom\u001b[39;00m \u001b[39m.\u001b[39;00m\u001b[39mforward_checking\u001b[39;00m \u001b[39mimport\u001b[39;00m forward_checking_current_state\n",
      "\u001b[1;31mImportError\u001b[0m: cannot import name 'BacktrackClass' from 'backjump.backjump_class' (c:\\Users\\sulia\\Documents\\MPRO\\PPC\\projet_PPC\\backjump\\backjump_class.py)"
     ]
    }
   ],
   "source": [
    "from models import CSP\n",
    "from backjump import BackjumpClass\n",
    "from wrappers import alldiff\n",
    "\n",
    "variables = [\"A\", \"B\"]\n",
    "domains = {\n",
    "    \"A\": [0,1],\n",
    "    \"B\": [0,1]\n",
    "}\n",
    "csp = CSP(variables=variables, domains=domains, constraints={})\n",
    "csp.constraints = alldiff(csp)\n",
    "# {(\"A\", \"B\"): [(0,1), (1,0)]}\n",
    "backjump = BackjumpClass()\n",
    "backjump.backjump(csp_instance=csp, state={})"
   ]
  }
 ],
 "metadata": {
  "kernelspec": {
   "display_name": "projet_PPC",
   "language": "python",
   "name": "python3"
  },
  "language_info": {
   "codemirror_mode": {
    "name": "ipython",
    "version": 3
   },
   "file_extension": ".py",
   "mimetype": "text/x-python",
   "name": "python",
   "nbconvert_exporter": "python",
   "pygments_lexer": "ipython3",
   "version": "3.10.5"
  },
  "orig_nbformat": 4,
  "vscode": {
   "interpreter": {
    "hash": "97bf09204eacb64ee93020726c27896ab50c4211d0e7c329e7917478e5b7b255"
   }
  }
 },
 "nbformat": 4,
 "nbformat_minor": 2
}

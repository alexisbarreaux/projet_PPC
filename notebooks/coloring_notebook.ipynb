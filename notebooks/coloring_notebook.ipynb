{
 "cells": [
  {
   "cell_type": "code",
   "execution_count": 1,
   "metadata": {},
   "outputs": [
    {
     "name": "stdout",
     "output_type": "stream",
     "text": [
      "c:\\Users\\alexi\\Documents\\GitHub\\projet_PPC\\instances\\coloring_instances\n",
      "['p', 'edge', '138', '986\\n']\n"
     ]
    },
    {
     "data": {
      "text/plain": [
       "(138,\n",
       " 986,\n",
       " array([[0, 0, 0, ..., 0, 0, 0],\n",
       "        [0, 0, 0, ..., 0, 0, 0],\n",
       "        [0, 0, 0, ..., 0, 0, 0],\n",
       "        ...,\n",
       "        [0, 0, 0, ..., 0, 0, 1],\n",
       "        [0, 0, 0, ..., 0, 0, 0],\n",
       "        [0, 0, 0, ..., 1, 0, 0]], dtype=int8))"
      ]
     },
     "execution_count": 1,
     "metadata": {},
     "output_type": "execute_result"
    }
   ],
   "source": [
    "from instances import COLORING_INSTANCES,COLORING_INSTANCES_PATH, read_single_problem_from_path_as_adjacency\n",
    "print(COLORING_INSTANCES_PATH)\n",
    "read_single_problem_from_path_as_adjacency(COLORING_INSTANCES_PATH / COLORING_INSTANCES[0])"
   ]
  }
 ],
 "metadata": {
  "kernelspec": {
   "display_name": "Python 3.10.2 ('projet_PPC': venv)",
   "language": "python",
   "name": "python3"
  },
  "language_info": {
   "codemirror_mode": {
    "name": "ipython",
    "version": 3
   },
   "file_extension": ".py",
   "mimetype": "text/x-python",
   "name": "python",
   "nbconvert_exporter": "python",
   "pygments_lexer": "ipython3",
   "version": "3.10.2"
  },
  "orig_nbformat": 4,
  "vscode": {
   "interpreter": {
    "hash": "c0021910f745d5c1d4816958c5dc5b7f4254623e1a2c0d2037241731637929d6"
   }
  }
 },
 "nbformat": 4,
 "nbformat_minor": 2
}

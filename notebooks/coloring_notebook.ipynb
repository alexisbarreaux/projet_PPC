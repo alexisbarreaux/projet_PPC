{
 "cells": [
  {
   "cell_type": "code",
   "execution_count": 1,
   "metadata": {},
   "outputs": [
    {
     "name": "stdout",
     "output_type": "stream",
     "text": [
      "c:\\Users\\alexi\\Documents\\GitHub\\projet_PPC\\instances\\coloring_instances\n"
     ]
    },
    {
     "data": {
      "text/plain": [
       "(138,\n",
       " 986,\n",
       " array([[0, 0, 0, ..., 0, 0, 0],\n",
       "        [0, 0, 0, ..., 0, 0, 0],\n",
       "        [0, 0, 0, ..., 0, 0, 0],\n",
       "        ...,\n",
       "        [0, 0, 0, ..., 0, 0, 1],\n",
       "        [0, 0, 0, ..., 0, 0, 0],\n",
       "        [0, 0, 0, ..., 1, 0, 0]], dtype=int8))"
      ]
     },
     "execution_count": 1,
     "metadata": {},
     "output_type": "execute_result"
    }
   ],
   "source": [
    "from instances import COLORING_INSTANCES,COLORING_INSTANCES_PATH, read_single_problem_from_path_as_adjacency\n",
    "print(COLORING_INSTANCES_PATH)\n",
    "read_single_problem_from_path_as_adjacency(COLORING_INSTANCES_PATH / COLORING_INSTANCES[0])"
   ]
  },
  {
   "cell_type": "code",
   "execution_count": 1,
   "metadata": {},
   "outputs": [
    {
     "name": "stdout",
     "output_type": "stream",
     "text": [
      "3 None\n"
     ]
    }
   ],
   "source": [
    "from instances import COLORING_INSTANCES,COLORING_INSTANCES_PATH, coloring_problem, coloring_optimization\n",
    "from backtrack import BacktrackClass\n",
    "\n",
    "csp_coloring, max_degree = coloring_problem(graph_path=COLORING_INSTANCES_PATH / \"toy_triangle.txt\")\n",
    "\n",
    "colors_needed, state,_ = coloring_optimization(csp_coloring, max_degree=max_degree, backtrack_object=BacktrackClass())\n",
    "print(colors_needed, state)\n",
    "assert(colors_needed== 3)\n",
    "\n"
   ]
  },
  {
   "cell_type": "code",
   "execution_count": 2,
   "metadata": {},
   "outputs": [
    {
     "name": "stdout",
     "output_type": "stream",
     "text": [
      "2 {'1': 0, '2': 1, '3': 0, '4': 1, '5': 0}\n"
     ]
    }
   ],
   "source": [
    "from instances import COLORING_INSTANCES,COLORING_INSTANCES_PATH, coloring_problem, coloring_optimization\n",
    "from backtrack import BacktrackClass\n",
    "\n",
    "csp_coloring, max_degree = coloring_problem(graph_path=COLORING_INSTANCES_PATH / \"toy_chain.txt\")\n",
    "\n",
    "colors_needed, state,_ = coloring_optimization(csp_coloring, max_degree=max_degree, backtrack_object=BacktrackClass())\n",
    "print(colors_needed, state)\n",
    "assert(colors_needed== 2)"
   ]
  },
  {
   "cell_type": "code",
   "execution_count": 3,
   "metadata": {},
   "outputs": [
    {
     "name": "stdout",
     "output_type": "stream",
     "text": [
      "2 {'1': 0, '2': 1, '3': 0, '4': 1, '5': 1}\n"
     ]
    }
   ],
   "source": [
    "from instances import COLORING_INSTANCES,COLORING_INSTANCES_PATH, coloring_problem, coloring_optimization\n",
    "from backtrack import BacktrackClass\n",
    "\n",
    "csp_coloring, max_degree = coloring_problem(graph_path=COLORING_INSTANCES_PATH / \"toy_cycle.txt\")\n",
    "\n",
    "colors_needed, state,_ = coloring_optimization(csp_coloring, max_degree=max_degree, backtrack_object=BacktrackClass())\n",
    "print(colors_needed, state)\n",
    "assert(colors_needed== 2)"
   ]
  },
  {
   "cell_type": "code",
   "execution_count": 4,
   "metadata": {},
   "outputs": [
    {
     "name": "stdout",
     "output_type": "stream",
     "text": [
      "4 {'1': 0, '2': 1, '3': 0, '4': 1, '5': 2, '6': 0, '7': 1, '8': 0, '9': 1, '10': 2, '11': 3}\n"
     ]
    }
   ],
   "source": [
    "# The number of nodes to check explodes very fast, we already have 11! possibilities to check here.\n",
    "# Didn't finish in 53min, might need to add a time parameter ?\n",
    "\n",
    "from instances import COLORING_INSTANCES,COLORING_INSTANCES_PATH, coloring_problem, coloring_optimization\n",
    "from backtrack import BacktrackClass\n",
    "\n",
    "csp_coloring, max_degree = coloring_problem(graph_path=COLORING_INSTANCES_PATH / \"myciel3.col.txt\")\n",
    "\n",
    "colors_needed, state,_ = coloring_optimization(csp_coloring, max_degree=max_degree, backtrack_object=BacktrackClass())\n",
    "print(colors_needed, state)\n",
    "assert(colors_needed== 4)"
   ]
  },
  {
   "cell_type": "code",
   "execution_count": 2,
   "metadata": {},
   "outputs": [
    {
     "name": "stdout",
     "output_type": "stream",
     "text": [
      "Current instance anna.col.txt\n",
      "Current instance jean.col.txt\n",
      "Current instance le450_25b.col.txt\n",
      "Current instance myciel3.col.txt\n",
      "Current instance myciel4.col.txt\n",
      "Current instance myciel5.col.txt\n",
      "Current instance myciel6.col.txt\n",
      "Current instance myciel7.col.txt\n",
      "Current instance queen13_13.col.txt\n",
      "Current instance toy_chain.txt\n",
      "Current instance toy_cycle.txt\n",
      "Current instance toy_triangle.txt\n",
      "        instance      time graph nodes/edges backtrack nodes  time_limit  \\\n",
      "0           anna  5.001008         138 / 986             139           5   \n",
      "1           jean  5.000192          80 / 508              81           5   \n",
      "2      le450_25b  5.002624       450 / 16526             451           5   \n",
      "3        myciel3  0.003936           11 / 40              12           5   \n",
      "4        myciel4  1.161794          23 / 142              24           5   \n",
      "5        myciel5  5.000987          47 / 472              48           5   \n",
      "6        myciel6  5.000317         95 / 1510              96           5   \n",
      "7        myciel7  5.000194        191 / 4720             192           5   \n",
      "8     queen13_13  5.000195        169 / 6656             170           5   \n",
      "9      toy_chain  0.000993             5 / 8               6           5   \n",
      "10     toy_cycle  0.001003            5 / 10            None           5   \n",
      "11  toy_triangle  0.000000             3 / 6            None           5   \n",
      "\n",
      "    colors bound  optimum    gap  is_exact  \n",
      "0             18       11  63.64     False  \n",
      "1             10       10   0.00     False  \n",
      "2             28       25  12.00     False  \n",
      "3              4        4   0.00      True  \n",
      "4              5        5   0.00      True  \n",
      "5              6        6   0.00     False  \n",
      "6             12        7  71.43     False  \n",
      "7             12        8  50.00     False  \n",
      "8             25       13  92.31     False  \n",
      "9              2        2   0.00      True  \n",
      "10             3        2  50.00      True  \n",
      "11             3        3   0.00      True  \n"
     ]
    }
   ],
   "source": [
    "from time import time\n",
    "\n",
    "import pandas as pd\n",
    "\n",
    "from instances import (\n",
    "    COLORING_INSTANCES,\n",
    "    COLORING_INSTANCES_PATH,\n",
    "    coloring_problem,\n",
    "    coloring_optimization,\n",
    ")\n",
    "\n",
    "\n",
    "from backtrack import BacktrackClass\n",
    "from backtrack.variables_choosing_algorithms import (\n",
    "    smallest_domain_variable_choosing,\n",
    ")\n",
    "\n",
    "# Display setup\n",
    "columns = [\n",
    "    \"instance\",\n",
    "    \"time\",\n",
    "    \"graph nodes/edges\",\n",
    "    \"backtrack nodes\",\n",
    "    \"time_limit\",\n",
    "    \"colors bound\",\n",
    "    \"optimum\",\n",
    "    \"gap\",\n",
    "    \"finished\",\n",
    "]\n",
    "display_dataframe = pd.DataFrame({column: [] for column in columns})\n",
    "\n",
    "\n",
    "backtrack_object = BacktrackClass(\n",
    "    use_forward_checking=True,\n",
    "    # use_arc_consistency=True,\n",
    "    next_variable_choosing_method=smallest_domain_variable_choosing,\n",
    ")\n",
    "time_limit = 30\n",
    "for instance in COLORING_INSTANCES:\n",
    "    print(\"Current instance\", instance)\n",
    "    csp_coloring, max_degree = coloring_problem(\n",
    "        graph_path=COLORING_INSTANCES_PATH / instance\n",
    "    )\n",
    "    start = time()\n",
    "    colors_needed, _, nodes, finished = coloring_optimization(\n",
    "        csp_coloring,\n",
    "        backtrack_object=backtrack_object,\n",
    "        max_degree=max_degree,\n",
    "        time_limit=time_limit,\n",
    "    )\n",
    "\n",
    "    # Adding to display\n",
    "    new_row = [\n",
    "        instance.split(\".\")[0],\n",
    "        time() - start,\n",
    "        f\"{len(csp_coloring.variables)} / {len(csp_coloring.constraints)}\",\n",
    "        nodes,\n",
    "        time_limit,\n",
    "        colors_needed,\n",
    "        COLORING_INSTANCES[instance],\n",
    "        round(\n",
    "            100\n",
    "            * (\n",
    "                (colors_needed - COLORING_INSTANCES[instance])\n",
    "                / COLORING_INSTANCES[instance]\n",
    "            ),\n",
    "            2,\n",
    "        ),\n",
    "        finished,\n",
    "    ]\n",
    "    display_dataframe.loc[len(display_dataframe)] = new_row\n",
    "\n",
    "\n",
    "print(display_dataframe)\n",
    "display_dataframe.to_csv(\"./coloring_results/coloring_forward_time_lim_3.csv\", sep=\";\")"
   ]
  }
 ],
 "metadata": {
  "kernelspec": {
   "display_name": "Python 3.10.2 ('projet_PPC': venv)",
   "language": "python",
   "name": "python3"
  },
  "language_info": {
   "codemirror_mode": {
    "name": "ipython",
    "version": 3
   },
   "file_extension": ".py",
   "mimetype": "text/x-python",
   "name": "python",
   "nbconvert_exporter": "python",
   "pygments_lexer": "ipython3",
   "version": "3.10.2"
  },
  "orig_nbformat": 4,
  "vscode": {
   "interpreter": {
    "hash": "c0021910f745d5c1d4816958c5dc5b7f4254623e1a2c0d2037241731637929d6"
   }
  }
 },
 "nbformat": 4,
 "nbformat_minor": 2
}

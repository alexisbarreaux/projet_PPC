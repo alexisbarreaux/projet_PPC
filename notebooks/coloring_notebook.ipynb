{
 "cells": [
  {
   "cell_type": "code",
   "execution_count": 1,
   "metadata": {},
   "outputs": [
    {
     "name": "stdout",
     "output_type": "stream",
     "text": [
      "c:\\Users\\alexi\\Documents\\GitHub\\projet_PPC\\instances\\coloring_instances\n"
     ]
    },
    {
     "data": {
      "text/plain": [
       "(138,\n",
       " 986,\n",
       " array([[0, 0, 0, ..., 0, 0, 0],\n",
       "        [0, 0, 0, ..., 0, 0, 0],\n",
       "        [0, 0, 0, ..., 0, 0, 0],\n",
       "        ...,\n",
       "        [0, 0, 0, ..., 0, 0, 1],\n",
       "        [0, 0, 0, ..., 0, 0, 0],\n",
       "        [0, 0, 0, ..., 1, 0, 0]], dtype=int8))"
      ]
     },
     "execution_count": 1,
     "metadata": {},
     "output_type": "execute_result"
    }
   ],
   "source": [
    "from instances import COLORING_INSTANCES,COLORING_INSTANCES_PATH, read_single_problem_from_path_as_adjacency\n",
    "print(COLORING_INSTANCES_PATH)\n",
    "read_single_problem_from_path_as_adjacency(COLORING_INSTANCES_PATH / COLORING_INSTANCES[0])"
   ]
  },
  {
   "cell_type": "code",
   "execution_count": 1,
   "metadata": {},
   "outputs": [
    {
     "name": "stdout",
     "output_type": "stream",
     "text": [
      "3 None\n"
     ]
    }
   ],
   "source": [
    "from instances import COLORING_INSTANCES,COLORING_INSTANCES_PATH, coloring_problem, coloring_optimization\n",
    "from backtrack import BacktrackClass\n",
    "\n",
    "csp_coloring, max_degree = coloring_problem(graph_path=COLORING_INSTANCES_PATH / \"toy_triangle.txt\")\n",
    "\n",
    "colors_needed, state,_ = coloring_optimization(csp_coloring, max_degree=max_degree, backtrack_object=BacktrackClass())\n",
    "print(colors_needed, state)\n",
    "assert(colors_needed== 3)\n",
    "\n"
   ]
  },
  {
   "cell_type": "code",
   "execution_count": 2,
   "metadata": {},
   "outputs": [
    {
     "name": "stdout",
     "output_type": "stream",
     "text": [
      "2 {'1': 0, '2': 1, '3': 0, '4': 1, '5': 0}\n"
     ]
    }
   ],
   "source": [
    "from instances import COLORING_INSTANCES,COLORING_INSTANCES_PATH, coloring_problem, coloring_optimization\n",
    "from backtrack import BacktrackClass\n",
    "\n",
    "csp_coloring, max_degree = coloring_problem(graph_path=COLORING_INSTANCES_PATH / \"toy_chain.txt\")\n",
    "\n",
    "colors_needed, state,_ = coloring_optimization(csp_coloring, max_degree=max_degree, backtrack_object=BacktrackClass())\n",
    "print(colors_needed, state)\n",
    "assert(colors_needed== 2)"
   ]
  },
  {
   "cell_type": "code",
   "execution_count": 3,
   "metadata": {},
   "outputs": [
    {
     "name": "stdout",
     "output_type": "stream",
     "text": [
      "2 {'1': 0, '2': 1, '3': 0, '4': 1, '5': 1}\n"
     ]
    }
   ],
   "source": [
    "from instances import COLORING_INSTANCES,COLORING_INSTANCES_PATH, coloring_problem, coloring_optimization\n",
    "from backtrack import BacktrackClass\n",
    "\n",
    "csp_coloring, max_degree = coloring_problem(graph_path=COLORING_INSTANCES_PATH / \"toy_odd_cycle.txt\")\n",
    "\n",
    "colors_needed, state,_ = coloring_optimization(csp_coloring, max_degree=max_degree, backtrack_object=BacktrackClass())\n",
    "print(colors_needed, state)\n",
    "assert(colors_needed== 3)"
   ]
  },
  {
   "cell_type": "code",
   "execution_count": 4,
   "metadata": {},
   "outputs": [
    {
     "name": "stdout",
     "output_type": "stream",
     "text": [
      "4 {'1': 0, '2': 1, '3': 0, '4': 1, '5': 2, '6': 0, '7': 1, '8': 0, '9': 1, '10': 2, '11': 3}\n"
     ]
    }
   ],
   "source": [
    "# The number of nodes to check explodes very fast, we already have 11! possibilities to check here.\n",
    "# Didn't finish in 53min, might need to add a time parameter ?\n",
    "\n",
    "from instances import COLORING_INSTANCES,COLORING_INSTANCES_PATH, coloring_problem, coloring_optimization\n",
    "from backtrack import BacktrackClass\n",
    "\n",
    "csp_coloring, max_degree = coloring_problem(graph_path=COLORING_INSTANCES_PATH / \"myciel3.col.txt\")\n",
    "\n",
    "colors_needed, state,_ = coloring_optimization(csp_coloring, max_degree=max_degree, backtrack_object=BacktrackClass())\n",
    "print(colors_needed, state)\n",
    "assert(colors_needed== 4)"
   ]
  },
  {
   "cell_type": "code",
   "execution_count": 1,
   "metadata": {},
   "outputs": [
    {
     "name": "stdout",
     "output_type": "stream",
     "text": [
      "Current instance anna.col.txt\n",
      "Current instance jean.col.txt\n"
     ]
    }
   ],
   "source": [
    "from time import time\n",
    "\n",
    "import pandas as pd\n",
    "\n",
    "from instances import (\n",
    "    COLORING_INSTANCES,\n",
    "    COLORING_INSTANCES_PATH,\n",
    "    coloring_problem,\n",
    "    coloring_optimization,\n",
    ")\n",
    "\n",
    "\n",
    "from backtrack import BacktrackClass\n",
    "from backtrack.variables_choosing_algorithms import (\n",
    "    smallest_domain_variable_choosing,\n",
    ")\n",
    "\n",
    "# Display setup\n",
    "columns = [\n",
    "    \"instance\",\n",
    "    \"time\",\n",
    "    \"graph nodes/edges\",\n",
    "    \"backtrack nodes\",\n",
    "    \"time_limit\",\n",
    "    \"colors bound\",\n",
    "    \"optimum\",\n",
    "    \"gap\",\n",
    "    \"finished\",\n",
    "]\n",
    "display_dataframe = pd.DataFrame({column: [] for column in columns})\n",
    "\n",
    "\n",
    "backtrack_object = BacktrackClass(\n",
    "    use_forward_checking=True,\n",
    "    # use_arc_consistency=True,\n",
    "    next_variable_choosing_method=smallest_domain_variable_choosing,\n",
    ")\n",
    "time_limit = 30\n",
    "for instance in COLORING_INSTANCES:\n",
    "    print(\"Current instance\", instance)\n",
    "    csp_coloring, max_degree = coloring_problem(\n",
    "        graph_path=COLORING_INSTANCES_PATH / instance\n",
    "    )\n",
    "    start = time()\n",
    "    colors_needed, _, nodes, finished = coloring_optimization(\n",
    "        csp_coloring,\n",
    "        backtrack_object=backtrack_object,\n",
    "        max_degree=max_degree,\n",
    "        time_limit=time_limit,\n",
    "    )\n",
    "\n",
    "    # Adding to display\n",
    "    new_row = [\n",
    "        instance.split(\".\")[0],\n",
    "        time() - start,\n",
    "        f\"{len(csp_coloring.variables)} / {len(csp_coloring.constraints)}\",\n",
    "        nodes,\n",
    "        time_limit,\n",
    "        colors_needed,\n",
    "        COLORING_INSTANCES[instance],\n",
    "        round(\n",
    "            100\n",
    "            * (\n",
    "                (colors_needed - COLORING_INSTANCES[instance])\n",
    "                / COLORING_INSTANCES[instance]\n",
    "            ),\n",
    "            2,\n",
    "        ),\n",
    "        finished,\n",
    "    ]\n",
    "    display_dataframe.loc[len(display_dataframe)] = new_row\n",
    "\n",
    "\n",
    "print(display_dataframe)\n",
    "display_dataframe.to_csv(\"./coloring_results/coloring_forward_time_lim_3.csv\", sep=\";\")"
   ]
  }
 ],
 "metadata": {
  "kernelspec": {
   "display_name": "Python 3.10.2 ('projet_PPC': venv)",
   "language": "python",
   "name": "python3"
  },
  "language_info": {
   "codemirror_mode": {
    "name": "ipython",
    "version": 3
   },
   "file_extension": ".py",
   "mimetype": "text/x-python",
   "name": "python",
   "nbconvert_exporter": "python",
   "pygments_lexer": "ipython3",
   "version": "3.10.2"
  },
  "orig_nbformat": 4,
  "vscode": {
   "interpreter": {
    "hash": "c0021910f745d5c1d4816958c5dc5b7f4254623e1a2c0d2037241731637929d6"
   }
  }
 },
 "nbformat": 4,
 "nbformat_minor": 2
}

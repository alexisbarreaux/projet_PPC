{
 "cells": [
  {
   "cell_type": "code",
   "execution_count": 1,
   "metadata": {},
   "outputs": [
    {
     "name": "stdout",
     "output_type": "stream",
     "text": [
      "c:\\Users\\alexi\\Documents\\GitHub\\projet_PPC\\instances\\coloring_instances\n",
      "['p', 'edge', '138', '986\\n']\n"
     ]
    },
    {
     "data": {
      "text/plain": [
       "(138,\n",
       " 986,\n",
       " array([[0, 0, 0, ..., 0, 0, 0],\n",
       "        [0, 0, 0, ..., 0, 0, 0],\n",
       "        [0, 0, 0, ..., 0, 0, 0],\n",
       "        ...,\n",
       "        [0, 0, 0, ..., 0, 0, 1],\n",
       "        [0, 0, 0, ..., 0, 0, 0],\n",
       "        [0, 0, 0, ..., 1, 0, 0]], dtype=int8))"
      ]
     },
     "execution_count": 1,
     "metadata": {},
     "output_type": "execute_result"
    }
   ],
   "source": [
    "from instances import COLORING_INSTANCES,COLORING_INSTANCES_PATH, read_single_problem_from_path_as_adjacency\n",
    "print(COLORING_INSTANCES_PATH)\n",
    "read_single_problem_from_path_as_adjacency(COLORING_INSTANCES_PATH / COLORING_INSTANCES[0])"
   ]
  },
  {
   "cell_type": "code",
   "execution_count": 1,
   "metadata": {},
   "outputs": [
    {
     "name": "stdout",
     "output_type": "stream",
     "text": [
      "None True\n"
     ]
    },
    {
     "ename": "UnboundLocalError",
     "evalue": "local variable 'new_value' referenced before assignment",
     "output_type": "error",
     "traceback": [
      "\u001b[1;31m---------------------------------------------------------------------------\u001b[0m",
      "\u001b[1;31mUnboundLocalError\u001b[0m                         Traceback (most recent call last)",
      "Cell \u001b[1;32mIn [1], line 7\u001b[0m\n\u001b[0;32m      4\u001b[0m csp_coloring \u001b[39m=\u001b[39m coloring_optimization_problem(graph_path\u001b[39m=\u001b[39mCOLORING_INSTANCES_PATH \u001b[39m/\u001b[39m COLORING_INSTANCES[\u001b[39m0\u001b[39m])\n\u001b[0;32m      6\u001b[0m backtrack_object \u001b[39m=\u001b[39m BacktrackClass()\n\u001b[1;32m----> 7\u001b[0m value, state \u001b[39m=\u001b[39m backtrack_object\u001b[39m.\u001b[39;49mrun_optimization_backtrack(csp_instance\u001b[39m=\u001b[39;49mcsp_coloring)\n\u001b[0;32m      8\u001b[0m \u001b[39mprint\u001b[39m(COLORING_INSTANCES[\u001b[39m0\u001b[39m], value)\n",
      "File \u001b[1;32mc:\\Users\\alexi\\Documents\\GitHub\\projet_PPC\\backtrack\\backtrack_class.py:201\u001b[0m, in \u001b[0;36mBacktrackClass.run_optimization_backtrack\u001b[1;34m(self, csp_instance)\u001b[0m\n\u001b[0;32m    197\u001b[0m \u001b[39m\"\"\"\u001b[39;00m\n\u001b[0;32m    198\u001b[0m \u001b[39mActual function to be called to run a backtrack for an optimization problem.\u001b[39;00m\n\u001b[0;32m    199\u001b[0m \u001b[39m\"\"\"\u001b[39;00m\n\u001b[0;32m    200\u001b[0m \u001b[39mself\u001b[39m\u001b[39m.\u001b[39m_reset_optimization_variables()\n\u001b[1;32m--> 201\u001b[0m \u001b[39mself\u001b[39;49m\u001b[39m.\u001b[39;49m_backtrack_optimization(csp_instance\u001b[39m=\u001b[39;49mcsp_instance, state\u001b[39m=\u001b[39;49m\u001b[39mdict\u001b[39;49m())\n\u001b[0;32m    202\u001b[0m \u001b[39mreturn\u001b[39;00m \u001b[39mself\u001b[39m\u001b[39m.\u001b[39mbest_known_value, \u001b[39mself\u001b[39m\u001b[39m.\u001b[39mbest_known_state\n",
      "File \u001b[1;32mc:\\Users\\alexi\\Documents\\GitHub\\projet_PPC\\backtrack\\backtrack_class.py:190\u001b[0m, in \u001b[0;36mBacktrackClass._backtrack_optimization\u001b[1;34m(self, csp_instance, state, new_variable)\u001b[0m\n\u001b[0;32m    187\u001b[0m     new_state\u001b[39m.\u001b[39mupdate({new_variable: new_variable_possible_value})\n\u001b[0;32m    189\u001b[0m     \u001b[39m# Don't need to check child as we will be exploring all valid edges.\u001b[39;00m\n\u001b[1;32m--> 190\u001b[0m     \u001b[39mself\u001b[39;49m\u001b[39m.\u001b[39;49m_backtrack_optimization(\n\u001b[0;32m    191\u001b[0m         csp_instance\u001b[39m=\u001b[39;49mcsp_instance, state\u001b[39m=\u001b[39;49mnew_state, new_variable\u001b[39m=\u001b[39;49mnew_variable\n\u001b[0;32m    192\u001b[0m     )\n\u001b[0;32m    194\u001b[0m \u001b[39mreturn\u001b[39;00m\n",
      "File \u001b[1;32mc:\\Users\\alexi\\Documents\\GitHub\\projet_PPC\\backtrack\\backtrack_class.py:190\u001b[0m, in \u001b[0;36mBacktrackClass._backtrack_optimization\u001b[1;34m(self, csp_instance, state, new_variable)\u001b[0m\n\u001b[0;32m    187\u001b[0m     new_state\u001b[39m.\u001b[39mupdate({new_variable: new_variable_possible_value})\n\u001b[0;32m    189\u001b[0m     \u001b[39m# Don't need to check child as we will be exploring all valid edges.\u001b[39;00m\n\u001b[1;32m--> 190\u001b[0m     \u001b[39mself\u001b[39;49m\u001b[39m.\u001b[39;49m_backtrack_optimization(\n\u001b[0;32m    191\u001b[0m         csp_instance\u001b[39m=\u001b[39;49mcsp_instance, state\u001b[39m=\u001b[39;49mnew_state, new_variable\u001b[39m=\u001b[39;49mnew_variable\n\u001b[0;32m    192\u001b[0m     )\n\u001b[0;32m    194\u001b[0m \u001b[39mreturn\u001b[39;00m\n",
      "    \u001b[1;31m[... skipping similar frames: BacktrackClass._backtrack_optimization at line 190 (135 times)]\u001b[0m\n",
      "File \u001b[1;32mc:\\Users\\alexi\\Documents\\GitHub\\projet_PPC\\backtrack\\backtrack_class.py:190\u001b[0m, in \u001b[0;36mBacktrackClass._backtrack_optimization\u001b[1;34m(self, csp_instance, state, new_variable)\u001b[0m\n\u001b[0;32m    187\u001b[0m     new_state\u001b[39m.\u001b[39mupdate({new_variable: new_variable_possible_value})\n\u001b[0;32m    189\u001b[0m     \u001b[39m# Don't need to check child as we will be exploring all valid edges.\u001b[39;00m\n\u001b[1;32m--> 190\u001b[0m     \u001b[39mself\u001b[39;49m\u001b[39m.\u001b[39;49m_backtrack_optimization(\n\u001b[0;32m    191\u001b[0m         csp_instance\u001b[39m=\u001b[39;49mcsp_instance, state\u001b[39m=\u001b[39;49mnew_state, new_variable\u001b[39m=\u001b[39;49mnew_variable\n\u001b[0;32m    192\u001b[0m     )\n\u001b[0;32m    194\u001b[0m \u001b[39mreturn\u001b[39;00m\n",
      "File \u001b[1;32mc:\\Users\\alexi\\Documents\\GitHub\\projet_PPC\\backtrack\\backtrack_class.py:172\u001b[0m, in \u001b[0;36mBacktrackClass._backtrack_optimization\u001b[1;34m(self, csp_instance, state, new_variable)\u001b[0m\n\u001b[0;32m    170\u001b[0m \u001b[39m# If the current state is complete (all variables have values), evaluate it.\u001b[39;00m\n\u001b[0;32m    171\u001b[0m \u001b[39mif\u001b[39;00m \u001b[39mlen\u001b[39m(state) \u001b[39m==\u001b[39m \u001b[39mlen\u001b[39m(csp_instance\u001b[39m.\u001b[39mvariables):\n\u001b[1;32m--> 172\u001b[0m     \u001b[39mself\u001b[39;49m\u001b[39m.\u001b[39;49m_check_if_state_is_better_optimization(new_state\u001b[39m=\u001b[39;49mstate)\n\u001b[0;32m    173\u001b[0m     \u001b[39mreturn\u001b[39;00m\n\u001b[0;32m    175\u001b[0m \u001b[39m# Otherwise, choose a new variable to add to state\u001b[39;00m\n",
      "File \u001b[1;32mc:\\Users\\alexi\\Documents\\GitHub\\projet_PPC\\backtrack\\backtrack_class.py:149\u001b[0m, in \u001b[0;36mBacktrackClass._check_if_state_is_better_optimization\u001b[1;34m(self, new_state)\u001b[0m\n\u001b[0;32m    144\u001b[0m \u001b[39mif\u001b[39;00m \u001b[39mself\u001b[39m\u001b[39m.\u001b[39mbest_known_state \u001b[39mis\u001b[39;00m \u001b[39mNone\u001b[39;00m \u001b[39mor\u001b[39;00m \u001b[39mself\u001b[39m\u001b[39m.\u001b[39moptimization_value_comparison(\n\u001b[0;32m    145\u001b[0m     \u001b[39mself\u001b[39m\u001b[39m.\u001b[39mbest_known_value,\n\u001b[0;32m    146\u001b[0m     (new_value \u001b[39m:=\u001b[39m \u001b[39mself\u001b[39m\u001b[39m.\u001b[39moptimization_state_evaluation(new_state)),\n\u001b[0;32m    147\u001b[0m ):\n\u001b[0;32m    148\u001b[0m     \u001b[39mself\u001b[39m\u001b[39m.\u001b[39mbest_known_state \u001b[39m=\u001b[39m new_state\n\u001b[1;32m--> 149\u001b[0m     \u001b[39mself\u001b[39m\u001b[39m.\u001b[39mbest_known_value \u001b[39m=\u001b[39m new_value\n\u001b[0;32m    150\u001b[0m \u001b[39mreturn\u001b[39;00m\n",
      "\u001b[1;31mUnboundLocalError\u001b[0m: local variable 'new_value' referenced before assignment"
     ]
    }
   ],
   "source": [
    "from instances import COLORING_INSTANCES,COLORING_INSTANCES_PATH, coloring_optimization_problem\n",
    "from backtrack import BacktrackClass\n",
    "\n",
    "csp_coloring = coloring_optimization_problem(graph_path=COLORING_INSTANCES_PATH / COLORING_INSTANCES[0])\n",
    "\n",
    "backtrack_object = BacktrackClass()\n",
    "value, state = backtrack_object.run_optimization_backtrack(csp_instance=csp_coloring)\n",
    "print(COLORING_INSTANCES[0], value)\n",
    "\n"
   ]
  }
 ],
 "metadata": {
  "kernelspec": {
   "display_name": "Python 3.10.2 ('projet_PPC': venv)",
   "language": "python",
   "name": "python3"
  },
  "language_info": {
   "codemirror_mode": {
    "name": "ipython",
    "version": 3
   },
   "file_extension": ".py",
   "mimetype": "text/x-python",
   "name": "python",
   "nbconvert_exporter": "python",
   "pygments_lexer": "ipython3",
   "version": "3.10.2"
  },
  "orig_nbformat": 4,
  "vscode": {
   "interpreter": {
    "hash": "c0021910f745d5c1d4816958c5dc5b7f4254623e1a2c0d2037241731637929d6"
   }
  }
 },
 "nbformat": 4,
 "nbformat_minor": 2
}

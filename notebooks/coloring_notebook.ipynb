{
 "cells": [
  {
   "cell_type": "code",
   "execution_count": 2,
   "metadata": {},
   "outputs": [
    {
     "name": "stdout",
     "output_type": "stream",
     "text": [
      "c:\\Users\\alexi\\Documents\\GitHub\\projet_PPC\\instances\\coloring_instances\n"
     ]
    },
    {
     "data": {
      "text/plain": [
       "(138,\n",
       " 986,\n",
       " array([[0, 0, 0, ..., 0, 0, 0],\n",
       "        [0, 0, 0, ..., 0, 0, 0],\n",
       "        [0, 0, 0, ..., 0, 0, 0],\n",
       "        ...,\n",
       "        [0, 0, 0, ..., 0, 0, 1],\n",
       "        [0, 0, 0, ..., 0, 0, 0],\n",
       "        [0, 0, 0, ..., 1, 0, 0]], dtype=int8))"
      ]
     },
     "execution_count": 2,
     "metadata": {},
     "output_type": "execute_result"
    }
   ],
   "source": [
    "from instances import COLORING_INSTANCES,COLORING_INSTANCES_PATH, read_single_problem_from_path_as_adjacency\n",
    "print(COLORING_INSTANCES_PATH)\n",
    "read_single_problem_from_path_as_adjacency(COLORING_INSTANCES_PATH / COLORING_INSTANCES[0])"
   ]
  },
  {
   "cell_type": "code",
   "execution_count": 4,
   "metadata": {},
   "outputs": [
    {
     "name": "stdout",
     "output_type": "stream",
     "text": [
      "3 None\n"
     ]
    }
   ],
   "source": [
    "from instances import COLORING_INSTANCES,COLORING_INSTANCES_PATH, coloring_problem, coloring_optimization\n",
    "\n",
    "csp_coloring = coloring_problem(graph_path=COLORING_INSTANCES_PATH / \"toy_triangle.txt\")\n",
    "colors_needed, state = coloring_optimization(csp_coloring)\n",
    "print(colors_needed, state)\n",
    "assert(colors_needed== 3)\n",
    "\n"
   ]
  },
  {
   "cell_type": "code",
   "execution_count": 1,
   "metadata": {},
   "outputs": [
    {
     "name": "stdout",
     "output_type": "stream",
     "text": [
      "2 {'1': 1, '2': 2, '3': 1, '4': 2, '5': 1}\n"
     ]
    }
   ],
   "source": [
    "from instances import COLORING_INSTANCES,COLORING_INSTANCES_PATH, coloring_problem, coloring_optimization\n",
    "\n",
    "csp_coloring = coloring_problem(graph_path=COLORING_INSTANCES_PATH / \"toy_chain.txt\")\n",
    "colors_needed, state = coloring_optimization(csp_coloring)\n",
    "print(colors_needed, state)\n",
    "assert(colors_needed== 2)"
   ]
  },
  {
   "cell_type": "code",
   "execution_count": 2,
   "metadata": {},
   "outputs": [
    {
     "name": "stdout",
     "output_type": "stream",
     "text": [
      "2 {'1': 1, '2': 2, '3': 1, '4': 2, '5': 1}\n"
     ]
    }
   ],
   "source": [
    "from instances import COLORING_INSTANCES,COLORING_INSTANCES_PATH, coloring_problem, coloring_optimization\n",
    "\n",
    "csp_coloring = coloring_problem(graph_path=COLORING_INSTANCES_PATH / \"toy_cycle.txt\")\n",
    "colors_needed, _ = coloring_optimization(csp_coloring)\n",
    "print(colors_needed, state)\n",
    "assert(colors_needed== 2)"
   ]
  },
  {
   "cell_type": "code",
   "execution_count": 1,
   "metadata": {},
   "outputs": [
    {
     "name": "stdout",
     "output_type": "stream",
     "text": [
      "small, big, test 1 11 6\n",
      "small, big, test 1 6 3\n",
      "Unexpected exception formatting exception. Falling back to standard exception\n"
     ]
    },
    {
     "name": "stderr",
     "output_type": "stream",
     "text": [
      "Traceback (most recent call last):\n",
      "  File \"c:\\Users\\alexi\\Documents\\GitHub\\projet_PPC\\lib\\site-packages\\IPython\\core\\interactiveshell.py\", line 3433, in run_code\n",
      "    exec(code_obj, self.user_global_ns, self.user_ns)\n",
      "  File \"C:\\Users\\alexi\\AppData\\Local\\Temp\\ipykernel_5788\\2805519061.py\", line 4, in <module>\n",
      "    colors_needed, _ = coloring_optimization(csp_coloring)\n",
      "  File \"c:\\Users\\alexi\\Documents\\GitHub\\projet_PPC\\instances\\coloring.py\", line 77, in coloring_optimization\n",
      "  File \"c:\\Users\\alexi\\Documents\\GitHub\\projet_PPC\\backtrack\\backtrack_class.py\", line 139, in run_backtrack\n",
      "    found_solution, indexes_state = self._backtrack(\n",
      "  File \"c:\\Users\\alexi\\Documents\\GitHub\\projet_PPC\\backtrack\\backtrack_class.py\", line 123, in _backtrack\n",
      "    child_result, child_state = self._backtrack(\n",
      "  File \"c:\\Users\\alexi\\Documents\\GitHub\\projet_PPC\\backtrack\\backtrack_class.py\", line 123, in _backtrack\n",
      "    child_result, child_state = self._backtrack(\n",
      "  File \"c:\\Users\\alexi\\Documents\\GitHub\\projet_PPC\\backtrack\\backtrack_class.py\", line 123, in _backtrack\n",
      "    child_result, child_state = self._backtrack(\n",
      "  [Previous line repeated 8 more times]\n",
      "  File \"c:\\Users\\alexi\\Documents\\GitHub\\projet_PPC\\backtrack\\backtrack_class.py\", line 107, in _backtrack\n",
      "    return self.leaf_evaluation_method(state), state\n",
      "  File \"c:\\Users\\alexi\\Documents\\GitHub\\projet_PPC\\instances\\coloring.py\", line 74, in <lambda>\n",
      "    # Run the backtrack\n",
      "  File \"c:\\Users\\alexi\\Documents\\GitHub\\projet_PPC\\instances\\coloring.py\", line 49, in state_colors_count\n",
      "    colors = set(list(state.values()))\n",
      "KeyboardInterrupt\n",
      "\n",
      "During handling of the above exception, another exception occurred:\n",
      "\n",
      "Traceback (most recent call last):\n",
      "  File \"c:\\Users\\alexi\\Documents\\GitHub\\projet_PPC\\lib\\site-packages\\IPython\\core\\interactiveshell.py\", line 2052, in showtraceback\n",
      "    stb = self.InteractiveTB.structured_traceback(\n",
      "  File \"c:\\Users\\alexi\\Documents\\GitHub\\projet_PPC\\lib\\site-packages\\IPython\\core\\ultratb.py\", line 1112, in structured_traceback\n",
      "    return FormattedTB.structured_traceback(\n",
      "  File \"c:\\Users\\alexi\\Documents\\GitHub\\projet_PPC\\lib\\site-packages\\IPython\\core\\ultratb.py\", line 1006, in structured_traceback\n",
      "    return VerboseTB.structured_traceback(\n",
      "  File \"c:\\Users\\alexi\\Documents\\GitHub\\projet_PPC\\lib\\site-packages\\IPython\\core\\ultratb.py\", line 859, in structured_traceback\n",
      "    formatted_exception = self.format_exception_as_a_whole(etype, evalue, etb, number_of_lines_of_context,\n",
      "  File \"c:\\Users\\alexi\\Documents\\GitHub\\projet_PPC\\lib\\site-packages\\IPython\\core\\ultratb.py\", line 812, in format_exception_as_a_whole\n",
      "    frames.append(self.format_record(r))\n",
      "  File \"c:\\Users\\alexi\\Documents\\GitHub\\projet_PPC\\lib\\site-packages\\IPython\\core\\ultratb.py\", line 730, in format_record\n",
      "    result += ''.join(_format_traceback_lines(frame_info.lines, Colors, self.has_colors, lvals))\n",
      "  File \"c:\\Users\\alexi\\Documents\\GitHub\\projet_PPC\\lib\\site-packages\\stack_data\\utils.py\", line 144, in cached_property_wrapper\n",
      "    value = obj.__dict__[self.func.__name__] = self.func(obj)\n",
      "  File \"c:\\Users\\alexi\\Documents\\GitHub\\projet_PPC\\lib\\site-packages\\stack_data\\core.py\", line 720, in lines\n",
      "    pieces = self.included_pieces\n",
      "  File \"c:\\Users\\alexi\\Documents\\GitHub\\projet_PPC\\lib\\site-packages\\stack_data\\utils.py\", line 144, in cached_property_wrapper\n",
      "    value = obj.__dict__[self.func.__name__] = self.func(obj)\n",
      "  File \"c:\\Users\\alexi\\Documents\\GitHub\\projet_PPC\\lib\\site-packages\\stack_data\\core.py\", line 667, in included_pieces\n",
      "    pos = scope_pieces.index(self.executing_piece)\n",
      "  File \"c:\\Users\\alexi\\Documents\\GitHub\\projet_PPC\\lib\\site-packages\\stack_data\\utils.py\", line 144, in cached_property_wrapper\n",
      "    value = obj.__dict__[self.func.__name__] = self.func(obj)\n",
      "  File \"c:\\Users\\alexi\\Documents\\GitHub\\projet_PPC\\lib\\site-packages\\stack_data\\core.py\", line 646, in executing_piece\n",
      "    return only(\n",
      "  File \"c:\\Users\\alexi\\Documents\\GitHub\\projet_PPC\\lib\\site-packages\\executing\\executing.py\", line 190, in only\n",
      "    raise NotOneValueFound('Expected one value, found 0')\n",
      "executing.executing.NotOneValueFound: Expected one value, found 0\n"
     ]
    }
   ],
   "source": [
    "from instances import COLORING_INSTANCES,COLORING_INSTANCES_PATH, coloring_problem, coloring_optimization\n",
    "\n",
    "csp_coloring = coloring_problem(graph_path=COLORING_INSTANCES_PATH / \"myciel3.col.txt\")\n",
    "colors_needed, _ = coloring_optimization(csp_coloring)\n",
    "print(colors_needed, state)\n",
    "assert(colors_needed == 4)\n",
    "# The number of nodes to check explodes very fast, we already have 11! possibilities to check here.\n",
    "# Didn't finish in 53min, might need to add a time parameter ?"
   ]
  }
 ],
 "metadata": {
  "kernelspec": {
   "display_name": "Python 3.10.2 ('projet_PPC': venv)",
   "language": "python",
   "name": "python3"
  },
  "language_info": {
   "codemirror_mode": {
    "name": "ipython",
    "version": 3
   },
   "file_extension": ".py",
   "mimetype": "text/x-python",
   "name": "python",
   "nbconvert_exporter": "python",
   "pygments_lexer": "ipython3",
   "version": "3.10.2"
  },
  "orig_nbformat": 4,
  "vscode": {
   "interpreter": {
    "hash": "c0021910f745d5c1d4816958c5dc5b7f4254623e1a2c0d2037241731637929d6"
   }
  }
 },
 "nbformat": 4,
 "nbformat_minor": 2
}

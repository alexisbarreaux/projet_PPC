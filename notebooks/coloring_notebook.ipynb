{
 "cells": [
  {
   "cell_type": "code",
   "execution_count": 1,
   "metadata": {},
   "outputs": [
    {
     "name": "stdout",
     "output_type": "stream",
     "text": [
      "c:\\Users\\alexi\\Documents\\GitHub\\projet_PPC\\instances\\coloring_instances\n"
     ]
    },
    {
     "data": {
      "text/plain": [
       "(138,\n",
       " 986,\n",
       " array([[0, 0, 0, ..., 0, 0, 0],\n",
       "        [0, 0, 0, ..., 0, 0, 0],\n",
       "        [0, 0, 0, ..., 0, 0, 0],\n",
       "        ...,\n",
       "        [0, 0, 0, ..., 0, 0, 1],\n",
       "        [0, 0, 0, ..., 0, 0, 0],\n",
       "        [0, 0, 0, ..., 1, 0, 0]], dtype=int8))"
      ]
     },
     "execution_count": 1,
     "metadata": {},
     "output_type": "execute_result"
    }
   ],
   "source": [
    "from instances import COLORING_INSTANCES,COLORING_INSTANCES_PATH, read_single_problem_from_path_as_adjacency\n",
    "print(COLORING_INSTANCES_PATH)\n",
    "read_single_problem_from_path_as_adjacency(COLORING_INSTANCES_PATH / COLORING_INSTANCES[0])"
   ]
  },
  {
   "cell_type": "code",
   "execution_count": 1,
   "metadata": {},
   "outputs": [
    {
     "name": "stdout",
     "output_type": "stream",
     "text": [
      "3 None\n"
     ]
    }
   ],
   "source": [
    "from instances import COLORING_INSTANCES,COLORING_INSTANCES_PATH, coloring_problem, coloring_optimization\n",
    "from backtrack import BacktrackClass\n",
    "\n",
    "csp_coloring, max_degree = coloring_problem(graph_path=COLORING_INSTANCES_PATH / \"toy_triangle.txt\")\n",
    "\n",
    "colors_needed, state,_ = coloring_optimization(csp_coloring, max_degree=max_degree, backtrack_object=BacktrackClass())\n",
    "print(colors_needed, state)\n",
    "assert(colors_needed== 3)\n",
    "\n"
   ]
  },
  {
   "cell_type": "code",
   "execution_count": 2,
   "metadata": {},
   "outputs": [
    {
     "name": "stdout",
     "output_type": "stream",
     "text": [
      "2 {'1': 0, '2': 1, '3': 0, '4': 1, '5': 0}\n"
     ]
    }
   ],
   "source": [
    "from instances import COLORING_INSTANCES,COLORING_INSTANCES_PATH, coloring_problem, coloring_optimization\n",
    "from backtrack import BacktrackClass\n",
    "\n",
    "csp_coloring, max_degree = coloring_problem(graph_path=COLORING_INSTANCES_PATH / \"toy_chain.txt\")\n",
    "\n",
    "colors_needed, state,_ = coloring_optimization(csp_coloring, max_degree=max_degree, backtrack_object=BacktrackClass())\n",
    "print(colors_needed, state)\n",
    "assert(colors_needed== 2)"
   ]
  },
  {
   "cell_type": "code",
   "execution_count": 3,
   "metadata": {},
   "outputs": [
    {
     "name": "stdout",
     "output_type": "stream",
     "text": [
      "2 {'1': 0, '2': 1, '3': 0, '4': 1, '5': 1}\n"
     ]
    }
   ],
   "source": [
    "from instances import COLORING_INSTANCES,COLORING_INSTANCES_PATH, coloring_problem, coloring_optimization\n",
    "from backtrack import BacktrackClass\n",
    "\n",
    "csp_coloring, max_degree = coloring_problem(graph_path=COLORING_INSTANCES_PATH / \"toy_odd_cycle.txt\")\n",
    "\n",
    "colors_needed, state,_ = coloring_optimization(csp_coloring, max_degree=max_degree, backtrack_object=BacktrackClass())\n",
    "print(colors_needed, state)\n",
    "assert(colors_needed== 3)"
   ]
  },
  {
   "cell_type": "code",
   "execution_count": 2,
   "metadata": {},
   "outputs": [
    {
     "ename": "ValueError",
     "evalue": "too many values to unpack (expected 3)",
     "output_type": "error",
     "traceback": [
      "\u001b[1;31m---------------------------------------------------------------------------\u001b[0m",
      "\u001b[1;31mValueError\u001b[0m                                Traceback (most recent call last)",
      "Cell \u001b[1;32mIn [2], line 9\u001b[0m\n\u001b[0;32m      5\u001b[0m \u001b[39mfrom\u001b[39;00m \u001b[39mbacktrack\u001b[39;00m \u001b[39mimport\u001b[39;00m BacktrackClass\n\u001b[0;32m      7\u001b[0m csp_coloring, max_degree \u001b[39m=\u001b[39m coloring_problem(graph_path\u001b[39m=\u001b[39mCOLORING_INSTANCES_PATH \u001b[39m/\u001b[39m \u001b[39m\"\u001b[39m\u001b[39mmyciel3.col.txt\u001b[39m\u001b[39m\"\u001b[39m)\n\u001b[1;32m----> 9\u001b[0m colors_needed, state,_ \u001b[39m=\u001b[39m coloring_optimization(csp_coloring, max_degree\u001b[39m=\u001b[39mmax_degree, backtrack_object\u001b[39m=\u001b[39mBacktrackClass())\n\u001b[0;32m     10\u001b[0m \u001b[39mprint\u001b[39m(colors_needed, state)\n\u001b[0;32m     11\u001b[0m \u001b[39massert\u001b[39;00m(colors_needed\u001b[39m==\u001b[39m \u001b[39m4\u001b[39m)\n",
      "\u001b[1;31mValueError\u001b[0m: too many values to unpack (expected 3)"
     ]
    }
   ],
   "source": [
    "# The number of nodes to check explodes very fast, we already have 11! possibilities to check here.\n",
    "# Didn't finish in 53min, might need to add a time parameter ?\n",
    "\n",
    "from instances import COLORING_INSTANCES,COLORING_INSTANCES_PATH, coloring_problem, coloring_optimization\n",
    "from backtrack import BacktrackClass\n",
    "\n",
    "csp_coloring, max_degree = coloring_problem(graph_path=COLORING_INSTANCES_PATH / \"myciel3.col.txt\")\n",
    "\n",
    "colors_needed, state,_ = coloring_optimization(csp_coloring, max_degree=max_degree, backtrack_object=BacktrackClass())\n",
    "print(colors_needed, state)\n",
    "assert(colors_needed== 4)"
   ]
  },
  {
   "cell_type": "code",
   "execution_count": 3,
   "metadata": {},
   "outputs": [
    {
     "name": "stdout",
     "output_type": "stream",
     "text": [
      "Current instance anna.col.txt\n",
      "Current instance jean.col.txt\n",
      "Current instance le450_25b.col.txt\n",
      "Current instance myciel3.col.txt\n",
      "Current instance myciel4.col.txt\n",
      "Current instance myciel5.col.txt\n",
      "Current instance myciel6.col.txt\n",
      "Current instance myciel7.col.txt\n",
      "Current instance queen13_13.col.txt\n",
      "Current instance toy_chain.txt\n",
      "Current instance toy_odd_cycle.txt\n",
      "Current instance toy_even_cycle.txt\n",
      "Current instance toy_triangle.txt\n",
      "          instance       time graph nodes/edges backtrack nodes  time_limit  \\\n",
      "0             anna  30.000187         138 / 986             139          30   \n",
      "1             jean  30.000668          80 / 508              81          30   \n",
      "2        le450_25b  30.001543       450 / 16526             451          30   \n",
      "3          myciel3   0.001997           11 / 40              12          30   \n",
      "4          myciel4   0.799928          23 / 142              24          30   \n",
      "5          myciel5  30.000166          47 / 472              48          30   \n",
      "6          myciel6  30.000622         95 / 1510              96          30   \n",
      "7          myciel7  30.000400        191 / 4720             192          30   \n",
      "8       queen13_13  30.000602        169 / 6656             170          30   \n",
      "9        toy_chain   0.000000             5 / 8               6          30   \n",
      "10   toy_odd_cycle   0.000000            5 / 10            None          30   \n",
      "11  toy_even_cycle   0.000000             4 / 8               5          30   \n",
      "12    toy_triangle   0.000000             3 / 6            None          30   \n",
      "\n",
      "    start colors  colors bound  optimum    gap  finished  \n",
      "0            143            18       11  63.64     False  \n",
      "1             73            10       10   0.00     False  \n",
      "2            112            28       25  12.00     False  \n",
      "3              6             4        4   0.00      True  \n",
      "4             12             5        5   0.00      True  \n",
      "5             24             6        6   0.00     False  \n",
      "6             48            12        7  71.43     False  \n",
      "7             96            12        8  50.00     False  \n",
      "8             97            25       13  92.31     False  \n",
      "9              3             2        2   0.00      True  \n",
      "10             3             3        3   0.00      True  \n",
      "11             3             2        2   0.00      True  \n",
      "12             3             3        3   0.00      True  \n"
     ]
    }
   ],
   "source": [
    "from time import time\n",
    "\n",
    "import pandas as pd\n",
    "\n",
    "from instances import (\n",
    "    COLORING_INSTANCES,\n",
    "    COLORING_INSTANCES_PATH,\n",
    "    coloring_problem,\n",
    "    coloring_optimization,\n",
    ")\n",
    "\n",
    "\n",
    "from backtrack import BacktrackClass\n",
    "from backtrack.variables_choosing_algorithms import (\n",
    "    smallest_domain_variable_choosing,\n",
    ")\n",
    "\n",
    "# Display setup\n",
    "columns = [\n",
    "    \"instance\",\n",
    "    \"time\",\n",
    "    \"graph nodes/edges\",\n",
    "    \"backtrack nodes\",\n",
    "    \"time_limit\",\n",
    "    \"start colors\",\n",
    "    \"colors bound\",\n",
    "    \"optimum\",\n",
    "    \"gap\",\n",
    "    \"finished\",\n",
    "]\n",
    "display_dataframe = pd.DataFrame({column: [] for column in columns})\n",
    "\n",
    "\n",
    "backtrack_object = BacktrackClass(\n",
    "    use_forward_checking=True,\n",
    "    # use_arc_consistency=True,\n",
    "    next_variable_choosing_method=smallest_domain_variable_choosing,\n",
    ")\n",
    "time_limit = 30\n",
    "for instance in COLORING_INSTANCES:\n",
    "    print(\"Current instance\", instance)\n",
    "    csp_coloring, max_degree = coloring_problem(\n",
    "        graph_path=COLORING_INSTANCES_PATH / instance\n",
    "    )\n",
    "    start = time()\n",
    "    colors_needed, _, nodes, finished = coloring_optimization(\n",
    "        csp_coloring,\n",
    "        backtrack_object=backtrack_object,\n",
    "        max_degree=max_degree,\n",
    "        time_limit=time_limit,\n",
    "    )\n",
    "\n",
    "    # Adding to display\n",
    "    new_row = [\n",
    "        instance.split(\".\")[0],\n",
    "        time() - start,\n",
    "        f\"{len(csp_coloring.variables)} / {len(csp_coloring.constraints)}\",\n",
    "        nodes,\n",
    "        time_limit,\n",
    "        max_degree + 1,\n",
    "        colors_needed,\n",
    "        COLORING_INSTANCES[instance],\n",
    "        round(\n",
    "            100\n",
    "            * (\n",
    "                (colors_needed - COLORING_INSTANCES[instance])\n",
    "                / COLORING_INSTANCES[instance]\n",
    "            ),\n",
    "            2,\n",
    "        ),\n",
    "        finished,\n",
    "    ]\n",
    "    display_dataframe.loc[len(display_dataframe)] = new_row\n",
    "\n",
    "\n",
    "print(display_dataframe)\n",
    "display_dataframe.to_csv(\"./coloring_results/coloring_forward_time_lim_4.csv\", sep=\";\")"
   ]
  },
  {
   "cell_type": "code",
   "execution_count": 4,
   "metadata": {},
   "outputs": [
    {
     "name": "stdout",
     "output_type": "stream",
     "text": [
      "Current instance anna.col.txt\n"
     ]
    },
    {
     "ename": "TypeError",
     "evalue": "coloring_optimization() got an unexpected keyword argument 'backjump_object'",
     "output_type": "error",
     "traceback": [
      "\u001b[1;31m---------------------------------------------------------------------------\u001b[0m",
      "\u001b[1;31mTypeError\u001b[0m                                 Traceback (most recent call last)",
      "Cell \u001b[1;32mIn [4], line 46\u001b[0m\n\u001b[0;32m     42\u001b[0m csp_coloring, max_degree \u001b[39m=\u001b[39m coloring_problem(\n\u001b[0;32m     43\u001b[0m     graph_path\u001b[39m=\u001b[39mCOLORING_INSTANCES_PATH \u001b[39m/\u001b[39m instance\n\u001b[0;32m     44\u001b[0m )\n\u001b[0;32m     45\u001b[0m start \u001b[39m=\u001b[39m time()\n\u001b[1;32m---> 46\u001b[0m colors_needed, _, nodes, finished \u001b[39m=\u001b[39m coloring_optimization(\n\u001b[0;32m     47\u001b[0m     csp_coloring,\n\u001b[0;32m     48\u001b[0m     backjump_object\u001b[39m=\u001b[39;49mbackjump_object,\n\u001b[0;32m     49\u001b[0m     max_degree\u001b[39m=\u001b[39;49mmax_degree,\n\u001b[0;32m     50\u001b[0m     time_limit\u001b[39m=\u001b[39;49mtime_limit,\n\u001b[0;32m     51\u001b[0m )\n\u001b[0;32m     53\u001b[0m \u001b[39m# Adding to display\u001b[39;00m\n\u001b[0;32m     54\u001b[0m new_row \u001b[39m=\u001b[39m [\n\u001b[0;32m     55\u001b[0m     instance\u001b[39m.\u001b[39msplit(\u001b[39m\"\u001b[39m\u001b[39m.\u001b[39m\u001b[39m\"\u001b[39m)[\u001b[39m0\u001b[39m],\n\u001b[0;32m     56\u001b[0m     time() \u001b[39m-\u001b[39m start,\n\u001b[1;32m   (...)\u001b[0m\n\u001b[0;32m     71\u001b[0m     finished,\n\u001b[0;32m     72\u001b[0m ]\n",
      "\u001b[1;31mTypeError\u001b[0m: coloring_optimization() got an unexpected keyword argument 'backjump_object'"
     ]
    }
   ],
   "source": [
    "from time import time\n",
    "\n",
    "import pandas as pd\n",
    "\n",
    "from instances import (\n",
    "    COLORING_INSTANCES,\n",
    "    COLORING_INSTANCES_PATH,\n",
    "    coloring_problem,\n",
    "    coloring_optimization,\n",
    ")\n",
    "\n",
    "\n",
    "from backjump import BackjumpClass\n",
    "from backjump.variables_choosing_algorithms import (\n",
    "    smallest_domain_variable_choosing,\n",
    ")\n",
    "\n",
    "# Display setup\n",
    "columns = [\n",
    "    \"instance\",\n",
    "    \"time\",\n",
    "    \"graph nodes/edges\",\n",
    "    \"backjump nodes\",\n",
    "    \"time_limit\",\n",
    "    \"start colors\",\n",
    "    \"colors bound\",\n",
    "    \"optimum\",\n",
    "    \"gap\",\n",
    "    \"finished\",\n",
    "]\n",
    "display_dataframe = pd.DataFrame({column: [] for column in columns})\n",
    "\n",
    "\n",
    "backjump_object = BackjumpClass(\n",
    "    use_forward_checking=True,\n",
    "    # use_arc_consistency=True,\n",
    "    next_variable_choosing_method=smallest_domain_variable_choosing,\n",
    ")\n",
    "time_limit = 30\n",
    "for instance in COLORING_INSTANCES:\n",
    "    print(\"Current instance\", instance)\n",
    "    csp_coloring, max_degree = coloring_problem(\n",
    "        graph_path=COLORING_INSTANCES_PATH / instance\n",
    "    )\n",
    "    start = time()\n",
    "    colors_needed, _, nodes, finished = coloring_optimization(\n",
    "        csp_coloring,\n",
    "        backjump_object=backjump_object,\n",
    "        max_degree=max_degree,\n",
    "        time_limit=time_limit,\n",
    "    )\n",
    "\n",
    "    # Adding to display\n",
    "    new_row = [\n",
    "        instance.split(\".\")[0],\n",
    "        time() - start,\n",
    "        f\"{len(csp_coloring.variables)} / {len(csp_coloring.constraints)}\",\n",
    "        nodes,\n",
    "        time_limit,\n",
    "        max_degree + 1,\n",
    "        colors_needed,\n",
    "        COLORING_INSTANCES[instance],\n",
    "        round(\n",
    "            100\n",
    "            * (\n",
    "                (colors_needed - COLORING_INSTANCES[instance])\n",
    "                / COLORING_INSTANCES[instance]\n",
    "            ),\n",
    "            2,\n",
    "        ),\n",
    "        finished,\n",
    "    ]\n",
    "    display_dataframe.loc[len(display_dataframe)] = new_row\n",
    "\n",
    "\n",
    "print(display_dataframe)\n",
    "display_dataframe.to_csv(\"./coloring_results/coloring_forward_time_lim_4.csv\", sep=\";\")"
   ]
  }
 ],
 "metadata": {
  "kernelspec": {
   "display_name": "projet_PPC",
   "language": "python",
   "name": "python3"
  },
  "language_info": {
   "codemirror_mode": {
    "name": "ipython",
    "version": 3
   },
   "file_extension": ".py",
   "mimetype": "text/x-python",
   "name": "python",
   "nbconvert_exporter": "python",
   "pygments_lexer": "ipython3",
   "version": "3.10.5"
  },
  "orig_nbformat": 4,
  "vscode": {
   "interpreter": {
    "hash": "97bf09204eacb64ee93020726c27896ab50c4211d0e7c329e7917478e5b7b255"
   }
  }
 },
 "nbformat": 4,
 "nbformat_minor": 2
}

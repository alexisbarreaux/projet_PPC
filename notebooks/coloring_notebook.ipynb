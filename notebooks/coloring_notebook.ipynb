{
 "cells": [
  {
   "cell_type": "code",
   "execution_count": 1,
   "metadata": {},
   "outputs": [
    {
     "name": "stdout",
     "output_type": "stream",
     "text": [
      "c:\\Users\\alexi\\Documents\\GitHub\\projet_PPC\\instances\\coloring_instances\n"
     ]
    },
    {
     "data": {
      "text/plain": [
       "(138,\n",
       " 986,\n",
       " array([[0, 0, 0, ..., 0, 0, 0],\n",
       "        [0, 0, 0, ..., 0, 0, 0],\n",
       "        [0, 0, 0, ..., 0, 0, 0],\n",
       "        ...,\n",
       "        [0, 0, 0, ..., 0, 0, 1],\n",
       "        [0, 0, 0, ..., 0, 0, 0],\n",
       "        [0, 0, 0, ..., 1, 0, 0]], dtype=int8))"
      ]
     },
     "execution_count": 1,
     "metadata": {},
     "output_type": "execute_result"
    }
   ],
   "source": [
    "from instances import COLORING_INSTANCES,COLORING_INSTANCES_PATH, read_single_problem_from_path_as_adjacency\n",
    "print(COLORING_INSTANCES_PATH)\n",
    "read_single_problem_from_path_as_adjacency(COLORING_INSTANCES_PATH / COLORING_INSTANCES[0])"
   ]
  },
  {
   "cell_type": "code",
   "execution_count": 2,
   "metadata": {},
   "outputs": [
    {
     "name": "stdout",
     "output_type": "stream",
     "text": [
      "3 None\n"
     ]
    }
   ],
   "source": [
    "from instances import COLORING_INSTANCES,COLORING_INSTANCES_PATH, coloring_problem, coloring_optimization\n",
    "\n",
    "csp_coloring = coloring_problem(graph_path=COLORING_INSTANCES_PATH / \"toy_triangle.txt\")\n",
    "colors_needed, state = coloring_optimization(csp_coloring)\n",
    "print(colors_needed, state)\n",
    "assert(colors_needed== 3)\n",
    "\n"
   ]
  },
  {
   "cell_type": "code",
   "execution_count": 3,
   "metadata": {},
   "outputs": [
    {
     "name": "stdout",
     "output_type": "stream",
     "text": [
      "2 {'1': 0, '2': 1, '3': 0, '4': 1, '5': 0}\n"
     ]
    }
   ],
   "source": [
    "from instances import COLORING_INSTANCES,COLORING_INSTANCES_PATH, coloring_problem, coloring_optimization\n",
    "\n",
    "csp_coloring = coloring_problem(graph_path=COLORING_INSTANCES_PATH / \"toy_chain.txt\")\n",
    "colors_needed, state = coloring_optimization(csp_coloring)\n",
    "print(colors_needed, state)\n",
    "assert(colors_needed== 2)"
   ]
  },
  {
   "cell_type": "code",
   "execution_count": 4,
   "metadata": {},
   "outputs": [
    {
     "name": "stdout",
     "output_type": "stream",
     "text": [
      "2 {'1': 0, '2': 1, '3': 0, '4': 1, '5': 0}\n"
     ]
    }
   ],
   "source": [
    "from instances import COLORING_INSTANCES,COLORING_INSTANCES_PATH, coloring_problem, coloring_optimization\n",
    "\n",
    "csp_coloring = coloring_problem(graph_path=COLORING_INSTANCES_PATH / \"toy_cycle.txt\")\n",
    "colors_needed, _ = coloring_optimization(csp_coloring)\n",
    "print(colors_needed, state)\n",
    "assert(colors_needed== 2)"
   ]
  },
  {
   "cell_type": "code",
   "execution_count": 6,
   "metadata": {},
   "outputs": [
    {
     "name": "stdout",
     "output_type": "stream",
     "text": [
      "4 {'1': 0, '2': 1, '3': 0, '4': 1, '5': 2, '6': 0, '7': 1, '8': 0, '9': 1, '10': 2, '11': 3}\n"
     ]
    }
   ],
   "source": [
    "from instances import COLORING_INSTANCES,COLORING_INSTANCES_PATH, coloring_problem, coloring_optimization\n",
    "\n",
    "csp_coloring = coloring_problem(graph_path=COLORING_INSTANCES_PATH / \"myciel3.col.txt\")\n",
    "colors_needed, state = coloring_optimization(csp_coloring)\n",
    "print(colors_needed, state)\n",
    "assert(colors_needed == 4)\n",
    "# The number of nodes to check explodes very fast, we already have 11! possibilities to check here.\n",
    "# Didn't finish in 53min, might need to add a time parameter ?"
   ]
  },
  {
   "cell_type": "code",
   "execution_count": 11,
   "metadata": {},
   "outputs": [
    {
     "name": "stdout",
     "output_type": "stream",
     "text": [
      "Current instance :  myciel3\n",
      "Current instance :  myciel4\n",
      "Current instance :  toy_chain\n",
      "Current instance :  toy_cycle\n",
      "Current instance :  toy_triangle\n",
      "       instance        time  colors\n",
      "0       myciel3    0.010035       4\n",
      "1       myciel4  203.982141       5\n",
      "2     toy_chain    0.000000       2\n",
      "3     toy_cycle    0.000000       2\n",
      "4  toy_triangle    0.000000       3\n"
     ]
    }
   ],
   "source": [
    "from time import time\n",
    "\n",
    "import pandas as pd\n",
    "\n",
    "from instances import COLORING_INSTANCES,COLORING_INSTANCES_PATH, coloring_problem, coloring_optimization\n",
    "\n",
    "\n",
    "from backtrack import BacktrackClass\n",
    "\n",
    "# Display setup\n",
    "columns = [\n",
    "    \"instance\",\n",
    "    \"time\",\n",
    "    \"colors\",\n",
    "]\n",
    "display_dataframe = pd.DataFrame({column: [] for column in columns})\n",
    "\n",
    "\n",
    "sub_instances = [\n",
    "    \"myciel3.col.txt\",\n",
    "    \"myciel4.col.txt\",\n",
    "    \"toy_chain.txt\",\n",
    "    \"toy_cycle.txt\",\n",
    "    \"toy_triangle.txt\",\n",
    "]\n",
    "\n",
    "backtrack_object = BacktrackClass()\n",
    "for instance in sub_instances:\n",
    "    print(\"Current instance : \", instance.split(\".\")[0])\n",
    "    csp_coloring = coloring_problem(graph_path=COLORING_INSTANCES_PATH / instance)\n",
    "    start = time()\n",
    "    colors_needed, _ = coloring_optimization(csp_coloring)\n",
    "\n",
    "    # Adding to display\n",
    "    new_row = [\n",
    "        instance.split(\".\")[0],\n",
    "        time() - start,\n",
    "        colors_needed\n",
    "    ]\n",
    "    display_dataframe.loc[len(display_dataframe)] = new_row\n",
    "\n",
    "\n",
    "print(display_dataframe)\n",
    "display_dataframe.to_csv(\"coloring_naive_1.csv\", sep=\";\")"
   ]
  }
 ],
 "metadata": {
  "kernelspec": {
   "display_name": "Python 3.10.2 ('projet_PPC': venv)",
   "language": "python",
   "name": "python3"
  },
  "language_info": {
   "codemirror_mode": {
    "name": "ipython",
    "version": 3
   },
   "file_extension": ".py",
   "mimetype": "text/x-python",
   "name": "python",
   "nbconvert_exporter": "python",
   "pygments_lexer": "ipython3",
   "version": "3.10.2"
  },
  "orig_nbformat": 4,
  "vscode": {
   "interpreter": {
    "hash": "c0021910f745d5c1d4816958c5dc5b7f4254623e1a2c0d2037241731637929d6"
   }
  }
 },
 "nbformat": 4,
 "nbformat_minor": 2
}
